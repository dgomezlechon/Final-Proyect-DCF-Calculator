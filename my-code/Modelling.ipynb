{
 "cells": [
  {
   "cell_type": "markdown",
   "id": "e0eabea9",
   "metadata": {},
   "source": [
    "# Instrucciones"
   ]
  },
  {
   "cell_type": "code",
   "execution_count": 2,
   "id": "500f97aa",
   "metadata": {},
   "outputs": [],
   "source": [
    "sales_growth=0.08\n",
    "gross_margin=\"same as last year\"\n",
    "Personnel_expenses=\"same as last year\"\n",
    "interest_on_cash=0.005\n",
    "tax_rate=\"same aslast year\"\n",
    "DSO=\"\"\n",
    "DIO=\"\"\n",
    "DPO=\"\"\n",
    "depreciation_tangible=0.06\n",
    "amortization_intangible=0.1\n",
    "capex_tangible=0.05\n",
    "capex_intangible=0.02\n",
    "dividends=0\n",
    "#fata controlling interests\n",
    "#maturities"
   ]
  },
  {
   "cell_type": "code",
   "execution_count": 12,
   "id": "50b1b81f",
   "metadata": {},
   "outputs": [],
   "source": [
    "years=[\"2018\",\"2019\",\"2020\",\"2021\"]"
   ]
  },
  {
   "cell_type": "markdown",
   "id": "f5acbaf4",
   "metadata": {},
   "source": [
    "Cargamos los financial statements:"
   ]
  },
  {
   "cell_type": "code",
   "execution_count": 4,
   "id": "d2533b98",
   "metadata": {},
   "outputs": [],
   "source": [
    "%store -r income_statement\n",
    "%store -r current_assets\n",
    "%store -r non_current_assets\n",
    "%store -r current_liabilities\n",
    "%store -r non_current_liabilities"
   ]
  },
  {
   "cell_type": "markdown",
   "id": "67362138",
   "metadata": {},
   "source": [
    "### Non-current assets calcs."
   ]
  },
  {
   "cell_type": "code",
   "execution_count": 38,
   "id": "cb2d317d",
   "metadata": {},
   "outputs": [],
   "source": [
    "#voy a tener que trasponer las matrices para operar más facilmente en pandas"
   ]
  },
  {
   "cell_type": "code",
   "execution_count": 7,
   "id": "2c850806",
   "metadata": {},
   "outputs": [
    {
     "data": {
      "text/html": [
       "<div>\n",
       "<style scoped>\n",
       "    .dataframe tbody tr th:only-of-type {\n",
       "        vertical-align: middle;\n",
       "    }\n",
       "\n",
       "    .dataframe tbody tr th {\n",
       "        vertical-align: top;\n",
       "    }\n",
       "\n",
       "    .dataframe thead th {\n",
       "        text-align: right;\n",
       "    }\n",
       "</style>\n",
       "<table border=\"1\" class=\"dataframe\">\n",
       "  <thead>\n",
       "    <tr style=\"text-align: right;\">\n",
       "      <th></th>\n",
       "      <th>2018</th>\n",
       "      <th>2019</th>\n",
       "      <th>2020</th>\n",
       "      <th>2021</th>\n",
       "    </tr>\n",
       "    <tr>\n",
       "      <th>AMCX_balance-sheet_Annual_As_Originally_Reported</th>\n",
       "      <th></th>\n",
       "      <th></th>\n",
       "      <th></th>\n",
       "      <th></th>\n",
       "    </tr>\n",
       "  </thead>\n",
       "  <tbody>\n",
       "    <tr>\n",
       "      <th>Gross Property, Plant and Equipment</th>\n",
       "      <td>540,180,000</td>\n",
       "      <td>801,110,000</td>\n",
       "      <td>663,649,000</td>\n",
       "      <td>637,790,000</td>\n",
       "    </tr>\n",
       "  </tbody>\n",
       "</table>\n",
       "</div>"
      ],
      "text/plain": [
       "                                                         2018         2019  \\\n",
       "AMCX_balance-sheet_Annual_As_Originally_Reported                             \n",
       "Gross Property, Plant and Equipment               540,180,000  801,110,000   \n",
       "\n",
       "                                                         2020         2021  \n",
       "AMCX_balance-sheet_Annual_As_Originally_Reported                            \n",
       "Gross Property, Plant and Equipment               663,649,000  637,790,000  "
      ]
     },
     "execution_count": 7,
     "metadata": {},
     "output_type": "execute_result"
    }
   ],
   "source": [
    "non_current_assets.loc[[\"Gross Property, Plant and Equipment\"]]"
   ]
  },
  {
   "cell_type": "code",
   "execution_count": 9,
   "id": "be51c156",
   "metadata": {},
   "outputs": [
    {
     "data": {
      "text/html": [
       "<div>\n",
       "<style scoped>\n",
       "    .dataframe tbody tr th:only-of-type {\n",
       "        vertical-align: middle;\n",
       "    }\n",
       "\n",
       "    .dataframe tbody tr th {\n",
       "        vertical-align: top;\n",
       "    }\n",
       "\n",
       "    .dataframe thead th {\n",
       "        text-align: right;\n",
       "    }\n",
       "</style>\n",
       "<table border=\"1\" class=\"dataframe\">\n",
       "  <thead>\n",
       "    <tr style=\"text-align: right;\">\n",
       "      <th></th>\n",
       "      <th>2018</th>\n",
       "      <th>2019</th>\n",
       "      <th>2020</th>\n",
       "      <th>2021</th>\n",
       "    </tr>\n",
       "    <tr>\n",
       "      <th>AMCX_income-statement_Annual_As_Originally_Reported</th>\n",
       "      <th></th>\n",
       "      <th></th>\n",
       "      <th></th>\n",
       "      <th></th>\n",
       "    </tr>\n",
       "  </thead>\n",
       "  <tbody>\n",
       "    <tr>\n",
       "      <th>Business Revenue</th>\n",
       "      <td>2,971,929,000</td>\n",
       "      <td>3060321000</td>\n",
       "      <td>2814956000</td>\n",
       "      <td>3077608000</td>\n",
       "    </tr>\n",
       "  </tbody>\n",
       "</table>\n",
       "</div>"
      ],
      "text/plain": [
       "                                                             2018        2019  \\\n",
       "AMCX_income-statement_Annual_As_Originally_Repo...                              \n",
       "Business Revenue                                    2,971,929,000  3060321000   \n",
       "\n",
       "                                                          2020        2021  \n",
       "AMCX_income-statement_Annual_As_Originally_Repo...                          \n",
       "Business Revenue                                    2814956000  3077608000  "
      ]
     },
     "execution_count": 9,
     "metadata": {},
     "output_type": "execute_result"
    }
   ],
   "source": [
    "income_statement.loc[[\"Business Revenue\"]]"
   ]
  },
  {
   "cell_type": "code",
   "execution_count": 36,
   "id": "fc9a9545",
   "metadata": {},
   "outputs": [],
   "source": [
    "capex=[]\n",
    "for i in years:\n",
    "\n",
    "    capex.append(int(capex_tangible)*income_statement.loc[[\"Business Revenue\"]][i])"
   ]
  },
  {
   "cell_type": "code",
   "execution_count": 37,
   "id": "0d22964a",
   "metadata": {},
   "outputs": [
    {
     "data": {
      "text/plain": [
       "[AMCX_income-statement_Annual_As_Originally_Reported\n",
       " Business Revenue    \n",
       " Name: 2018, dtype: object,\n",
       " AMCX_income-statement_Annual_As_Originally_Reported\n",
       " Business Revenue    0\n",
       " Name: 2019, dtype: int64,\n",
       " AMCX_income-statement_Annual_As_Originally_Reported\n",
       " Business Revenue    0\n",
       " Name: 2020, dtype: int64,\n",
       " AMCX_income-statement_Annual_As_Originally_Reported\n",
       " Business Revenue    0\n",
       " Name: 2021, dtype: int64]"
      ]
     },
     "execution_count": 37,
     "metadata": {},
     "output_type": "execute_result"
    }
   ],
   "source": [
    "capex"
   ]
  },
  {
   "cell_type": "code",
   "execution_count": 26,
   "id": "3ac278ed",
   "metadata": {},
   "outputs": [
    {
     "data": {
      "text/plain": [
       "AMCX_income-statement_Annual_As_Originally_Reported\n",
       "Business Revenue    2814956000\n",
       "Name: 2020, dtype: int64"
      ]
     },
     "execution_count": 26,
     "metadata": {},
     "output_type": "execute_result"
    }
   ],
   "source": [
    "income_statement.loc[[\"Business Revenue\"]][\"2020\"]"
   ]
  },
  {
   "cell_type": "code",
   "execution_count": 34,
   "id": "b03ff086",
   "metadata": {},
   "outputs": [
    {
     "data": {
      "text/plain": [
       "AMCX_income-statement_Annual_As_Originally_Reported\n",
       "Business Revenue    140747800.0\n",
       "Name: 2020, dtype: float64"
      ]
     },
     "execution_count": 34,
     "metadata": {},
     "output_type": "execute_result"
    }
   ],
   "source": [
    "capex_tangible*income_statement.loc[[\"Business Revenue\"]][\"2020\"]"
   ]
  },
  {
   "cell_type": "code",
   "execution_count": 32,
   "id": "c569252d",
   "metadata": {},
   "outputs": [
    {
     "data": {
      "text/plain": [
       "AMCX_income-statement_Annual_As_Originally_Reported\n",
       "Business Revenue    153880400.0\n",
       "Name: 2021, dtype: float64"
      ]
     },
     "execution_count": 32,
     "metadata": {},
     "output_type": "execute_result"
    }
   ],
   "source": [
    "capex_tangible*income_statement.loc[[\"Business Revenue\"]][\"2021\"]"
   ]
  },
  {
   "cell_type": "code",
   "execution_count": 35,
   "id": "02b40104",
   "metadata": {},
   "outputs": [
    {
     "name": "stdout",
     "output_type": "stream",
     "text": [
      "2018\n",
      "2019\n",
      "2020\n",
      "2021\n"
     ]
    }
   ],
   "source": [
    "for i in years:\n",
    "    print(i)"
   ]
  },
  {
   "cell_type": "code",
   "execution_count": null,
   "id": "53712370",
   "metadata": {},
   "outputs": [],
   "source": []
  }
 ],
 "metadata": {
  "kernelspec": {
   "display_name": "Ironhack",
   "language": "python",
   "name": "ironhack"
  },
  "language_info": {
   "codemirror_mode": {
    "name": "ipython",
    "version": 3
   },
   "file_extension": ".py",
   "mimetype": "text/x-python",
   "name": "python",
   "nbconvert_exporter": "python",
   "pygments_lexer": "ipython3",
   "version": "3.9.7"
  }
 },
 "nbformat": 4,
 "nbformat_minor": 5
}
