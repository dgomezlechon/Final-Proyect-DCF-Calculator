{
 "cells": [
  {
   "cell_type": "code",
   "execution_count": 2,
   "metadata": {},
   "outputs": [],
   "source": [
    "#pip install selenium\n",
    "#%pip install openpyxl\n",
    "#%pip install xlrd"
   ]
  },
  {
   "cell_type": "code",
   "execution_count": 3,
   "metadata": {},
   "outputs": [],
   "source": [
    "from selenium import webdriver\n",
    "from selenium.webdriver.chrome.options import Options\n",
    "from webdriver_manager.chrome import ChromeDriverManager\n",
    "import pandas as pd\n",
    "import time \n",
    "\n",
    "from selenium.webdriver.support.ui import WebDriverWait\n",
    "from selenium.webdriver.common.by import By\n",
    "from selenium.webdriver.support import expected_conditions as EC"
   ]
  },
  {
   "cell_type": "code",
   "execution_count": 4,
   "metadata": {},
   "outputs": [
    {
     "name": "stderr",
     "output_type": "stream",
     "text": [
      "\n",
      "\n",
      "====== WebDriver manager ======\n",
      "Current google-chrome version is 101.0.4951\n",
      "Get LATEST chromedriver version for 101.0.4951 google-chrome\n",
      "Driver [/Users/danigomezlechonbarrachina/.wdm/drivers/chromedriver/mac64/101.0.4951.41/chromedriver] found in cache\n"
     ]
    }
   ],
   "source": [
    "opciones=Options()\n",
    "\n",
    "opciones.add_experimental_option('excludeSwitches', ['enable-automation'])\n",
    "opciones.add_experimental_option('useAutomationExtension', False)\n",
    "opciones.headless=False    # si True, no aperece la ventana (headless=no visible)\n",
    "opciones.add_argument('--start-maximized')         # comienza maximizado\n",
    "#opciones.add_argument('user-data-dir=selenium')    # mantiene las cookies\n",
    "#opciones.add_extension('driver_folder/adblock.crx')       # adblocker\n",
    "opciones.add_argument('--incognito')\n",
    "\n",
    "\n",
    "import warnings\n",
    "warnings.filterwarnings('ignore')\n",
    "\n",
    "PATH=ChromeDriverManager().install()"
   ]
  },
  {
   "cell_type": "code",
   "execution_count": null,
   "metadata": {},
   "outputs": [],
   "source": [
    "def is_scrapping(ticker):\n",
    "\n",
    "    '''esta funcion nos descarga y convierte a dataframe el income statement de una empresa y devuelve solo los tres últimos años'''\n",
    "    \n",
    "    url1=\"https://www.morningstar.com/stocks/xnas/\"\n",
    "    url2=ticker+\"/financials\"\n",
    "    url=url1+url2\n",
    "\n",
    "    driver=webdriver.Chrome(PATH, options = opciones)\n",
    "    driver.get(url)\n",
    "\n",
    "    #pinchamos en \"see details\"\n",
    "    WebDriverWait(driver, 20).until(EC.element_to_be_clickable((By.CSS_SELECTOR, \"#__layout > div > div.mdc-page-shell.mds-page-shell.default-layout > div.mdc-page-shell__content.mds-page-shell__content > main > div.stock__content > div > div > div.mdc-column.mds-layout-grid__col.stock__content-sal.mds-layout-grid__col--12.mds-layout-grid__col--auto-at-1092 > div > div > sal-components > section > div > div > div > sal-components-new-financials > div > div:nth-child(2) > div > div > div.sal-component-body > div > sal-components-financials-summary > div > div:nth-child(2) > div > div.sal-component-body > div > div > div.sal-summary-section__header.sal-icon-link > a\"))).click()\n",
    "\n",
    "    WebDriverWait(driver, 20).until(EC.element_to_be_clickable((By.CSS_SELECTOR, \"#__layout > div > div.mdc-page-shell.mds-page-shell.default-layout > div.mdc-page-shell__content.mds-page-shell__content > main > div.stock__content > div > div > div.mdc-column.mds-layout-grid__col.stock__content-sal.mds-layout-grid__col--12.mds-layout-grid__col--auto-at-1092 > div > div > sal-components > section > div > div > div > sal-components-new-financials > div > div:nth-child(2) > div > div > sal-components-financials-details > div > div > div > div.sal-component-header > div.sal-financials-details__exportSection > button\"))).click()\n",
    "\n",
    "    WebDriverWait(driver, 20).until(EC.element_to_be_clickable((By.CSS_SELECTOR, \"#__layout > div > div.mdc-page-shell.mds-page-shell.default-layout > div.mdc-page-shell__content.mds-page-shell__content > main > div.stock__content > div > div > div.mdc-column.mds-layout-grid__col.stock__content-sal.mds-layout-grid__col--12.mds-layout-grid__col--auto-at-1092 > div > div > sal-components > section > div > div > div > sal-components-new-financials > div > div:nth-child(2) > div > div > sal-components-financials-details > div > div > div > div.sal-component-header > div.sal-financials-details__exportSection > button\"))).click()\n",
    "\n",
    "    time.sleep(2)\n",
    "\n",
    "    ruta=\"/Users/danigomezlechonbarrachina/Downloads/Income Statement_Annual_As Originally Reported.xls\"\n",
    "\n",
    "    inc_statement=pd.read_excel(ruta)\n",
    "    \n",
    "    inc_statement=inc_statement[[\"AMCX_income-statement_Annual_As_Originally_Reported\",\"2019\",\"2020\",\"2021\"]]\n",
    "    \n",
    "    inc_statement.set_index(\"AMCX_income-statement_Annual_As_Originally_Reported\",inplace=True)\n",
    "\n",
    "    return inc_statement\n"
   ]
  },
  {
   "cell_type": "code",
   "execution_count": null,
   "metadata": {},
   "outputs": [],
   "source": [
    "def bs_scrapping(ticker):\n",
    "\n",
    "    '''esta funcion nos descarga y convierte a dataframe el balance sheet de una empresa  y devuelve solo los tres últimos años'''\n",
    "    \n",
    "    url1=\"https://www.morningstar.com/stocks/xnas/\"\n",
    "    url2=ticker+\"/financials\"\n",
    "    url=url1+url2\n",
    "\n",
    "    driver=webdriver.Chrome(PATH, options = opciones)\n",
    "    driver.get(url)\n",
    "\n",
    "    #pinchamos en \"see details\"\n",
    "    WebDriverWait(driver, 20).until(EC.element_to_be_clickable((By.CSS_SELECTOR, \"#__layout > div > div.mdc-page-shell.mds-page-shell.default-layout > div.mdc-page-shell__content.mds-page-shell__content > main > div.stock__content > div > div > div.mdc-column.mds-layout-grid__col.stock__content-sal.mds-layout-grid__col--12.mds-layout-grid__col--auto-at-1092 > div > div > sal-components > section > div > div > div > sal-components-new-financials > div > div:nth-child(2) > div > div > div.sal-component-body > div > sal-components-financials-summary > div > div:nth-child(2) > div > div.sal-component-body > div > div > div.sal-summary-section__header.sal-icon-link > a\"))).click()\n",
    "\n",
    "    #pinchamos en \"see details\"\n",
    "    WebDriverWait(driver, 20).until(EC.element_to_be_clickable((By.XPATH, \"/html/body/div[2]/div/div/div[2]/div[3]/main/div[2]/div/div/div[1]/div/div/sal-components/section/div/div/div/sal-components-new-financials/div/div[2]/div/div/sal-components-financials-details/div/div/div/div[1]/div[1]/sal-components-segment-band/div/div/div/button[2]\"))).click()\n",
    "    \n",
    "    WebDriverWait(driver, 20).until(EC.element_to_be_clickable((By.CSS_SELECTOR, \"#__layout > div > div.mdc-page-shell.mds-page-shell.default-layout > div.mdc-page-shell__content.mds-page-shell__content > main > div.stock__content > div > div > div.mdc-column.mds-layout-grid__col.stock__content-sal.mds-layout-grid__col--12.mds-layout-grid__col--auto-at-1092 > div > div > sal-components > section > div > div > div > sal-components-new-financials > div > div:nth-child(2) > div > div > sal-components-financials-details > div > div > div > div.sal-component-header > div.sal-financials-details__exportSection > button\"))).click()\n",
    "\n",
    "    WebDriverWait(driver, 20).until(EC.element_to_be_clickable((By.CSS_SELECTOR, \"#__layout > div > div.mdc-page-shell.mds-page-shell.default-layout > div.mdc-page-shell__content.mds-page-shell__content > main > div.stock__content > div > div > div.mdc-column.mds-layout-grid__col.stock__content-sal.mds-layout-grid__col--12.mds-layout-grid__col--auto-at-1092 > div > div > sal-components > section > div > div > div > sal-components-new-financials > div > div:nth-child(2) > div > div > sal-components-financials-details > div > div > div > div.sal-component-header > div.sal-financials-details__exportSection > button\"))).click()\n",
    "\n",
    "    time.sleep(2)\n",
    "    \n",
    "    ruta=\"/Users/danigomezlechonbarrachina/Downloads/Balance Sheet_Annual_As Originally Reported.xls\"\n",
    "\n",
    "    balance_sheet=pd.read_excel(ruta)\n",
    "    \n",
    "    balance_sheet=balance_sheet[[\"AMCX_balance-sheet_Annual_As_Originally_Reported\",\"2019\",\"2020\",\"2021\"]]\n",
    "    \n",
    "    balance_sheet.set_index(\"AMCX_balance-sheet_Annual_As_Originally_Reported\",inplace=True)\n",
    "    \n",
    "    return balance_sheet"
   ]
  },
  {
   "cell_type": "code",
   "execution_count": null,
   "metadata": {},
   "outputs": [],
   "source": [
    "def cf_scrapping(ticker):\n",
    "\n",
    "    '''esta funcion nos descarga y convierte a dataframe el cash flow de una empresa y devuelve solo los tres últimos años y rellena los nulos con 0'''\n",
    "    \n",
    "    url1=\"https://www.morningstar.com/stocks/xnas/\"\n",
    "    url2=ticker+\"/financials\"\n",
    "    url=url1+url2\n",
    "\n",
    "    driver=webdriver.Chrome(PATH, options = opciones)\n",
    "    driver.get(url)\n",
    "\n",
    "    #pinchamos en \"see details\"\n",
    "    WebDriverWait(driver, 20).until(EC.element_to_be_clickable((By.CSS_SELECTOR, \"#__layout > div > div.mdc-page-shell.mds-page-shell.default-layout > div.mdc-page-shell__content.mds-page-shell__content > main > div.stock__content > div > div > div.mdc-column.mds-layout-grid__col.stock__content-sal.mds-layout-grid__col--12.mds-layout-grid__col--auto-at-1092 > div > div > sal-components > section > div > div > div > sal-components-new-financials > div > div:nth-child(2) > div > div > div.sal-component-body > div > sal-components-financials-summary > div > div:nth-child(2) > div > div.sal-component-body > div > div > div.sal-summary-section__header.sal-icon-link > a\"))).click()\n",
    "\n",
    "    #pinchamos en \"see details\"\n",
    "    WebDriverWait(driver, 20).until(EC.element_to_be_clickable((By.XPATH, \"/html/body/div[2]/div/div/div[2]/div[3]/main/div[2]/div/div/div[1]/div/div/sal-components/section/div/div/div/sal-components-new-financials/div/div[2]/div/div/sal-components-financials-details/div/div/div/div[1]/div[1]/sal-components-segment-band/div/div/div/button[3]\"))).click()\n",
    "    \n",
    "    WebDriverWait(driver, 20).until(EC.element_to_be_clickable((By.CSS_SELECTOR, \"#__layout > div > div.mdc-page-shell.mds-page-shell.default-layout > div.mdc-page-shell__content.mds-page-shell__content > main > div.stock__content > div > div > div.mdc-column.mds-layout-grid__col.stock__content-sal.mds-layout-grid__col--12.mds-layout-grid__col--auto-at-1092 > div > div > sal-components > section > div > div > div > sal-components-new-financials > div > div:nth-child(2) > div > div > sal-components-financials-details > div > div > div > div.sal-component-header > div.sal-financials-details__exportSection > button\"))).click()\n",
    "\n",
    "    WebDriverWait(driver, 20).until(EC.element_to_be_clickable((By.CSS_SELECTOR, \"#__layout > div > div.mdc-page-shell.mds-page-shell.default-layout > div.mdc-page-shell__content.mds-page-shell__content > main > div.stock__content > div > div > div.mdc-column.mds-layout-grid__col.stock__content-sal.mds-layout-grid__col--12.mds-layout-grid__col--auto-at-1092 > div > div > sal-components > section > div > div > div > sal-components-new-financials > div > div:nth-child(2) > div > div > sal-components-financials-details > div > div > div > div.sal-component-header > div.sal-financials-details__exportSection > button\"))).click()\n",
    "\n",
    "    time.sleep(2)\n",
    "    \n",
    "    ruta=\"/Users/danigomezlechonbarrachina/Downloads/Cash Flow_Annual_As Originally Reported.xls\"\n",
    "\n",
    "    cash_flow=pd.read_excel(ruta)\n",
    "    \n",
    "    cash_flow=cash_flow[[\"AMCX_cash-flow_Annual_As_Originally_Reported\",\"2019\",\"2020\",\"2021\"]]\n",
    "    \n",
    "    cash_flow.set_index(\"AMCX_cash-flow_Annual_As_Originally_Reported\",inplace=True)\n",
    "    \n",
    "    return cash_flow\n"
   ]
  }
 ],
 "metadata": {
  "interpreter": {
   "hash": "11d123a15c6883bd5ff813cb3db76fb62d90c34801856f6f84132b77ec618999"
  },
  "kernelspec": {
   "display_name": "Python 3.9.7 ('Ironhack')",
   "language": "python",
   "name": "python3"
  },
  "language_info": {
   "codemirror_mode": {
    "name": "ipython",
    "version": 3
   },
   "file_extension": ".py",
   "mimetype": "text/x-python",
   "name": "python",
   "nbconvert_exporter": "python",
   "pygments_lexer": "ipython3",
   "version": "3.9.7"
  },
  "orig_nbformat": 4
 },
 "nbformat": 4,
 "nbformat_minor": 2
}
