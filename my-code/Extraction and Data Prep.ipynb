{
 "cells": [
  {
   "cell_type": "markdown",
   "id": "9da329be",
   "metadata": {},
   "source": [
    "# Financial Statements Extraction"
   ]
  },
  {
   "cell_type": "markdown",
   "id": "ed4157d8",
   "metadata": {},
   "source": [
    "We are going to extract the income statement, balance sheet and cash flow statement from \"morningstar.com\". We will do this by using Selenium and Beautiful soup"
   ]
  },
  {
   "cell_type": "code",
   "execution_count": 3,
   "id": "3aec863b",
   "metadata": {},
   "outputs": [],
   "source": [
    "#%pip install selenium"
   ]
  },
  {
   "cell_type": "code",
   "execution_count": 6,
   "id": "5b077779",
   "metadata": {},
   "outputs": [],
   "source": [
    "from selenium import webdriver\n",
    "from selenium.webdriver.chrome.options import Options\n",
    "from webdriver_manager.chrome import ChromeDriverManager\n",
    "import pandas as pd\n",
    "import time \n",
    "\n",
    "\n",
    "from selenium.webdriver.support.ui import WebDriverWait\n",
    "from selenium.webdriver.common.by import By\n",
    "from selenium.webdriver.support import expected_conditions as EC\n",
    "\n"
   ]
  },
  {
   "cell_type": "code",
   "execution_count": 179,
   "id": "33257fd1",
   "metadata": {},
   "outputs": [
    {
     "ename": "ModuleNotFoundError",
     "evalue": "No module named 'apifunctions'",
     "output_type": "error",
     "traceback": [
      "\u001b[0;31m---------------------------------------------------------------------------\u001b[0m",
      "\u001b[0;31mModuleNotFoundError\u001b[0m                       Traceback (most recent call last)",
      "Input \u001b[0;32mIn [179]\u001b[0m, in \u001b[0;36m<cell line: 2>\u001b[0;34m()\u001b[0m\n\u001b[1;32m      1\u001b[0m \u001b[38;5;66;03m#%pip install openpyxl\u001b[39;00m\n\u001b[0;32m----> 2\u001b[0m \u001b[38;5;28;01mfrom\u001b[39;00m \u001b[38;5;21;01mapifunctions\u001b[39;00m \u001b[38;5;28;01mimport\u001b[39;00m \u001b[38;5;241m*\u001b[39m\n",
      "\u001b[0;31mModuleNotFoundError\u001b[0m: No module named 'apifunctions'"
     ]
    }
   ],
   "source": [
    "#%pip install openpyxl\n",
    "from apifunctions import *"
   ]
  },
  {
   "cell_type": "code",
   "execution_count": 118,
   "id": "1136efbd",
   "metadata": {},
   "outputs": [],
   "source": [
    "#%pip install xlrd"
   ]
  },
  {
   "cell_type": "code",
   "execution_count": 8,
   "id": "037406dd",
   "metadata": {},
   "outputs": [
    {
     "name": "stderr",
     "output_type": "stream",
     "text": [
      "\n",
      "\n",
      "====== WebDriver manager ======\n",
      "Current google-chrome version is 101.0.4951\n",
      "Get LATEST chromedriver version for 101.0.4951 google-chrome\n",
      "There is no [mac64] chromedriver for browser 101.0.4951 in cache\n",
      "Trying to download new driver from https://chromedriver.storage.googleapis.com/101.0.4951.41/chromedriver_mac64.zip\n",
      "Driver has been saved in cache [/Users/danigomezlechonbarrachina/.wdm/drivers/chromedriver/mac64/101.0.4951.41]\n"
     ]
    }
   ],
   "source": [
    "opciones=Options()\n",
    "\n",
    "opciones.add_experimental_option('excludeSwitches', ['enable-automation'])\n",
    "opciones.add_experimental_option('useAutomationExtension', False)\n",
    "opciones.headless=False    # si True, no aperece la ventana (headless=no visible)\n",
    "opciones.add_argument('--start-maximized')         # comienza maximizado\n",
    "#opciones.add_argument('user-data-dir=selenium')    # mantiene las cookies\n",
    "#opciones.add_extension('driver_folder/adblock.crx')       # adblocker\n",
    "opciones.add_argument('--incognito')\n",
    "\n",
    "\n",
    "import warnings\n",
    "warnings.filterwarnings('ignore')\n",
    "\n",
    "PATH=ChromeDriverManager().install()"
   ]
  },
  {
   "cell_type": "markdown",
   "id": "dbb72394",
   "metadata": {},
   "source": [
    "Solicitamos que se introduzca la compañía a analizar"
   ]
  },
  {
   "cell_type": "code",
   "execution_count": 9,
   "id": "cb39d3a5",
   "metadata": {},
   "outputs": [
    {
     "name": "stdout",
     "output_type": "stream",
     "text": [
      "Enter company ticker:\n",
      "AMCX\n",
      "The chosen company ticker is:AMCX\n"
     ]
    }
   ],
   "source": [
    "print(\"Enter company ticker:\")\n",
    "x=input()\n",
    "print('The chosen company ticker is:' + x) #en minúscula"
   ]
  },
  {
   "cell_type": "code",
   "execution_count": null,
   "id": "e731185e",
   "metadata": {},
   "outputs": [],
   "source": [
    "is_scrapping(x)"
   ]
  },
  {
   "cell_type": "code",
   "execution_count": null,
   "id": "58f2dada",
   "metadata": {},
   "outputs": [],
   "source": [
    "bs_scrapping(x)"
   ]
  },
  {
   "cell_type": "code",
   "execution_count": 176,
   "id": "027362ef",
   "metadata": {},
   "outputs": [
    {
     "data": {
      "text/html": [
       "<div>\n",
       "<style scoped>\n",
       "    .dataframe tbody tr th:only-of-type {\n",
       "        vertical-align: middle;\n",
       "    }\n",
       "\n",
       "    .dataframe tbody tr th {\n",
       "        vertical-align: top;\n",
       "    }\n",
       "\n",
       "    .dataframe thead th {\n",
       "        text-align: right;\n",
       "    }\n",
       "</style>\n",
       "<table border=\"1\" class=\"dataframe\">\n",
       "  <thead>\n",
       "    <tr style=\"text-align: right;\">\n",
       "      <th></th>\n",
       "      <th>2019</th>\n",
       "      <th>2020</th>\n",
       "      <th>2021</th>\n",
       "    </tr>\n",
       "    <tr>\n",
       "      <th>AMCX_cash-flow_Annual_As_Originally_Reported</th>\n",
       "      <th></th>\n",
       "      <th></th>\n",
       "      <th></th>\n",
       "    </tr>\n",
       "  </thead>\n",
       "  <tbody>\n",
       "    <tr>\n",
       "      <th>Cash Flow from Operating Activities, Indirect</th>\n",
       "      <td>483,748,000</td>\n",
       "      <td>748,736,000</td>\n",
       "      <td>143,474,000</td>\n",
       "    </tr>\n",
       "    <tr>\n",
       "      <th>Net Cash Flow from Continuing Operating Activities, Indirect</th>\n",
       "      <td>483,748,000</td>\n",
       "      <td>748,736,000</td>\n",
       "      <td>143,474,000</td>\n",
       "    </tr>\n",
       "    <tr>\n",
       "      <th>Cash Generated from Operating Activities</th>\n",
       "      <td>483,748,000</td>\n",
       "      <td>748,736,000</td>\n",
       "      <td>143,474,000</td>\n",
       "    </tr>\n",
       "    <tr>\n",
       "      <th>Income/Loss before Non-Cash Adjustment</th>\n",
       "      <td>407,716,000</td>\n",
       "      <td>256,988,000</td>\n",
       "      <td>279,839,000</td>\n",
       "    </tr>\n",
       "    <tr>\n",
       "      <th>Total Adjustments for Non-Cash Items</th>\n",
       "      <td>1,265,135,000</td>\n",
       "      <td>1,193,334,000</td>\n",
       "      <td>1,145,628,000</td>\n",
       "    </tr>\n",
       "    <tr>\n",
       "      <th>...</th>\n",
       "      <td>...</td>\n",
       "      <td>...</td>\n",
       "      <td>...</td>\n",
       "    </tr>\n",
       "    <tr>\n",
       "      <th>Change in Cash as Reported, Supplemental</th>\n",
       "      <td>262,915,000</td>\n",
       "      <td>65,575,000</td>\n",
       "      <td>32,789,000</td>\n",
       "    </tr>\n",
       "    <tr>\n",
       "      <th>Income Tax Paid, Supplemental</th>\n",
       "      <td>-139,994,000</td>\n",
       "      <td>NaN</td>\n",
       "      <td>NaN</td>\n",
       "    </tr>\n",
       "    <tr>\n",
       "      <th>Interest Paid, Supplemental</th>\n",
       "      <td>-151,501,000</td>\n",
       "      <td>NaN</td>\n",
       "      <td>NaN</td>\n",
       "    </tr>\n",
       "    <tr>\n",
       "      <th>Income Tax Refund, Supplemental</th>\n",
       "      <td>NaN</td>\n",
       "      <td>NaN</td>\n",
       "      <td>NaN</td>\n",
       "    </tr>\n",
       "    <tr>\n",
       "      <th>Fiscal year ends in Dec 31 | USD</th>\n",
       "      <td>NaN</td>\n",
       "      <td>NaN</td>\n",
       "      <td>NaN</td>\n",
       "    </tr>\n",
       "  </tbody>\n",
       "</table>\n",
       "<p>80 rows × 3 columns</p>\n",
       "</div>"
      ],
      "text/plain": [
       "                                                             2019  \\\n",
       "AMCX_cash-flow_Annual_As_Originally_Reported                        \n",
       "Cash Flow from Operating Activities, Indirect         483,748,000   \n",
       "    Net Cash Flow from Continuing Operating Act...    483,748,000   \n",
       "        Cash Generated from Operating Activities      483,748,000   \n",
       "            Income/Loss before Non-Cash Adjustment    407,716,000   \n",
       "            Total Adjustments for Non-Cash Items    1,265,135,000   \n",
       "...                                                           ...   \n",
       "    Change in Cash as Reported, Supplemental          262,915,000   \n",
       "    Income Tax Paid, Supplemental                    -139,994,000   \n",
       "    Interest Paid, Supplemental                      -151,501,000   \n",
       "    Income Tax Refund, Supplemental                           NaN   \n",
       "Fiscal year ends in Dec 31 | USD                              NaN   \n",
       "\n",
       "                                                             2020  \\\n",
       "AMCX_cash-flow_Annual_As_Originally_Reported                        \n",
       "Cash Flow from Operating Activities, Indirect         748,736,000   \n",
       "    Net Cash Flow from Continuing Operating Act...    748,736,000   \n",
       "        Cash Generated from Operating Activities      748,736,000   \n",
       "            Income/Loss before Non-Cash Adjustment    256,988,000   \n",
       "            Total Adjustments for Non-Cash Items    1,193,334,000   \n",
       "...                                                           ...   \n",
       "    Change in Cash as Reported, Supplemental           65,575,000   \n",
       "    Income Tax Paid, Supplemental                             NaN   \n",
       "    Interest Paid, Supplemental                               NaN   \n",
       "    Income Tax Refund, Supplemental                           NaN   \n",
       "Fiscal year ends in Dec 31 | USD                              NaN   \n",
       "\n",
       "                                                             2021  \n",
       "AMCX_cash-flow_Annual_As_Originally_Reported                       \n",
       "Cash Flow from Operating Activities, Indirect         143,474,000  \n",
       "    Net Cash Flow from Continuing Operating Act...    143,474,000  \n",
       "        Cash Generated from Operating Activities      143,474,000  \n",
       "            Income/Loss before Non-Cash Adjustment    279,839,000  \n",
       "            Total Adjustments for Non-Cash Items    1,145,628,000  \n",
       "...                                                           ...  \n",
       "    Change in Cash as Reported, Supplemental           32,789,000  \n",
       "    Income Tax Paid, Supplemental                             NaN  \n",
       "    Interest Paid, Supplemental                               NaN  \n",
       "    Income Tax Refund, Supplemental                           NaN  \n",
       "Fiscal year ends in Dec 31 | USD                              NaN  \n",
       "\n",
       "[80 rows x 3 columns]"
      ]
     },
     "execution_count": 176,
     "metadata": {},
     "output_type": "execute_result"
    }
   ],
   "source": [
    "cf_scrapping(x)"
   ]
  },
  {
   "cell_type": "code",
   "execution_count": null,
   "id": "9b21b2fd",
   "metadata": {},
   "outputs": [],
   "source": []
  }
 ],
 "metadata": {
  "kernelspec": {
   "display_name": "Ironhack",
   "language": "python",
   "name": "ironhack"
  },
  "language_info": {
   "codemirror_mode": {
    "name": "ipython",
    "version": 3
   },
   "file_extension": ".py",
   "mimetype": "text/x-python",
   "name": "python",
   "nbconvert_exporter": "python",
   "pygments_lexer": "ipython3",
   "version": "3.9.7"
  }
 },
 "nbformat": 4,
 "nbformat_minor": 5
}
