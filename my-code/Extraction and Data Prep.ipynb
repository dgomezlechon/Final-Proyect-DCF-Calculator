{
 "cells": [
  {
   "cell_type": "markdown",
   "id": "1fe36454",
   "metadata": {},
   "source": [
    "# Financial Statements Extraction"
   ]
  },
  {
   "cell_type": "markdown",
   "id": "45dfe194",
   "metadata": {},
   "source": [
    "We are going to extract the income statement, balance sheet and cash flow statement from \"morningstar.com\". We will do this by using Selenium and Beautiful soup"
   ]
  },
  {
   "cell_type": "code",
   "execution_count": 1,
   "id": "b1032f48",
   "metadata": {},
   "outputs": [],
   "source": [
    "#%pip install selenium\n",
    "#%pip install openpyxl\n",
    "#%pip install xlrd"
   ]
  },
  {
   "cell_type": "code",
   "execution_count": 2,
   "id": "aeb1340e",
   "metadata": {},
   "outputs": [],
   "source": [
    "import warnings\n",
    "warnings.filterwarnings('ignore')"
   ]
  },
  {
   "cell_type": "code",
   "execution_count": 3,
   "id": "0b021afd",
   "metadata": {},
   "outputs": [
    {
     "name": "stderr",
     "output_type": "stream",
     "text": [
      "\n",
      "\n",
      "====== WebDriver manager ======\n",
      "Current google-chrome version is 101.0.4951\n",
      "Get LATEST chromedriver version for 101.0.4951 google-chrome\n",
      "Driver [/Users/danigomezlechonbarrachina/.wdm/drivers/chromedriver/mac64/101.0.4951.41/chromedriver] found in cache\n"
     ]
    }
   ],
   "source": [
    "from apifunctions import *"
   ]
  },
  {
   "cell_type": "markdown",
   "id": "2cedba5d",
   "metadata": {},
   "source": [
    "Solicitamos que se introduzca la compañía a analizar"
   ]
  },
  {
   "cell_type": "code",
   "execution_count": 4,
   "id": "f301dac3",
   "metadata": {},
   "outputs": [
    {
     "name": "stdout",
     "output_type": "stream",
     "text": [
      "Enter company ticker:\n",
      "amcx\n",
      "The chosen company ticker is:amcx\n"
     ]
    }
   ],
   "source": [
    "print(\"Enter company ticker:\")\n",
    "x=input()\n",
    "print('The chosen company ticker is:' + x) #en minúscula"
   ]
  },
  {
   "cell_type": "markdown",
   "id": "1aaca331",
   "metadata": {},
   "source": [
    "Utilizamos las fucniones para ecrapear los financial statements de la empresa seleccionada"
   ]
  },
  {
   "cell_type": "code",
   "execution_count": 5,
   "id": "2f12a3b5",
   "metadata": {},
   "outputs": [],
   "source": [
    "income_statement=is_scrapping(x)"
   ]
  },
  {
   "cell_type": "code",
   "execution_count": 6,
   "id": "8c3ca60a",
   "metadata": {},
   "outputs": [],
   "source": [
    "balance_sheet=bs_scrapping(x)"
   ]
  },
  {
   "cell_type": "code",
   "execution_count": 7,
   "id": "dea6355d",
   "metadata": {},
   "outputs": [],
   "source": [
    "cash_flow=cf_scrapping(x)"
   ]
  },
  {
   "cell_type": "markdown",
   "id": "f9244ba0",
   "metadata": {},
   "source": [
    "Ya tenemos los tres financial statements con los nulos rellenados. Now we are going to preprare the statements so that we can operate with them to get the proyected cash flows"
   ]
  },
  {
   "cell_type": "markdown",
   "id": "a0353c92",
   "metadata": {},
   "source": [
    "### Income Statement"
   ]
  },
  {
   "cell_type": "code",
   "execution_count": 8,
   "id": "4fad3c4e",
   "metadata": {},
   "outputs": [],
   "source": [
    "income_statement=cleaning_is(income_statement)"
   ]
  },
  {
   "cell_type": "code",
   "execution_count": 9,
   "id": "6ae477df",
   "metadata": {},
   "outputs": [],
   "source": [
    "income_statement[\"2020\"]=income_statement[\"2020\"].str.replace(\",\",\"\")\n",
    "income_statement[\"2021\"]=income_statement[\"2021\"].str.replace(\",\",\"\")\n",
    "income_statement[\"2019\"]=income_statement[\"2019\"].str.replace(\",\",\"\")"
   ]
  },
  {
   "cell_type": "code",
   "execution_count": 10,
   "id": "98e194bc",
   "metadata": {},
   "outputs": [],
   "source": [
    "income_statement.fillna(0,inplace=True)"
   ]
  },
  {
   "cell_type": "code",
   "execution_count": 11,
   "id": "96ca17cb",
   "metadata": {},
   "outputs": [],
   "source": [
    "income_statement[\"2019\"]=income_statement[\"2019\"].astype(dtype=\"int64\")\n",
    "income_statement[\"2020\"]=income_statement[\"2020\"].astype(dtype=\"int64\")\n",
    "income_statement[\"2021\"]=income_statement[\"2021\"].astype(dtype=\"int64\")"
   ]
  },
  {
   "cell_type": "markdown",
   "id": "5932bba7",
   "metadata": {},
   "source": [
    "### Balance Sheet"
   ]
  },
  {
   "cell_type": "code",
   "execution_count": 12,
   "id": "128ba42f",
   "metadata": {},
   "outputs": [],
   "source": [
    "balance_sheet=cleaning_bs(balance_sheet)"
   ]
  },
  {
   "cell_type": "markdown",
   "id": "28635c39",
   "metadata": {},
   "source": [
    "Dividimos la balance_sheet resultante eliminando las columnas inferiores que corresponden a los detalles de la deuda"
   ]
  },
  {
   "cell_type": "code",
   "execution_count": 13,
   "id": "b40cac2d",
   "metadata": {},
   "outputs": [],
   "source": [
    "debt_details=balance_sheet.iloc[28:]\n",
    "balance_sheet=balance_sheet.iloc[0:27]"
   ]
  },
  {
   "cell_type": "code",
   "execution_count": 24,
   "id": "50b39e99",
   "metadata": {},
   "outputs": [],
   "source": [
    "current_assets=balance_sheet.iloc[0:4]\n",
    "non_current_assets=balance_sheet.iloc[5:12]\n",
    "current_liabilities=balance_sheet.iloc[13:18]\n",
    "non_current_liabilities=balance_sheet.iloc[19:22]\n",
    "equity=balance_sheet.iloc[22:]"
   ]
  },
  {
   "cell_type": "markdown",
   "id": "1db6afa6",
   "metadata": {},
   "source": [
    "### Cash Flow"
   ]
  },
  {
   "cell_type": "code",
   "execution_count": 28,
   "id": "2fff1649",
   "metadata": {},
   "outputs": [],
   "source": [
    "# de momento el cash flow lo vamos a dejar asi, ya que en principio lo  crearé yo una vez realizado el discounted cash flow"
   ]
  },
  {
   "cell_type": "code",
   "execution_count": 34,
   "id": "98550bcc",
   "metadata": {},
   "outputs": [
    {
     "name": "stdout",
     "output_type": "stream",
     "text": [
      "Stored 'income_statement' (DataFrame)\n",
      "Stored 'current_assets' (DataFrame)\n",
      "Stored 'non_current_assets' (DataFrame)\n",
      "Stored 'current_liabilities' (DataFrame)\n",
      "Stored 'non_current_liabilities' (DataFrame)\n",
      "Stored 'equity' (DataFrame)\n",
      "Stored 'debt_details' (DataFrame)\n"
     ]
    }
   ],
   "source": [
    "%store income_statement\n",
    "%store current_assets\n",
    "%store non_current_assets\n",
    "%store current_liabilities\n",
    "%store non_current_liabilities\n",
    "%store equity\n",
    "%store debt_details"
   ]
  }
 ],
 "metadata": {
  "kernelspec": {
   "display_name": "Ironhack",
   "language": "python",
   "name": "ironhack"
  },
  "language_info": {
   "codemirror_mode": {
    "name": "ipython",
    "version": 3
   },
   "file_extension": ".py",
   "mimetype": "text/x-python",
   "name": "python",
   "nbconvert_exporter": "python",
   "pygments_lexer": "ipython3",
   "version": "3.9.7"
  }
 },
 "nbformat": 4,
 "nbformat_minor": 5
}
