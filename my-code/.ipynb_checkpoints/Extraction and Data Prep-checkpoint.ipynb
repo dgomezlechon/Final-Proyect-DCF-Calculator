{
 "cells": [
  {
   "cell_type": "markdown",
   "id": "4e6366c7",
   "metadata": {},
   "source": [
    "# Financial Statements Extraction"
   ]
  },
  {
   "cell_type": "markdown",
   "id": "31c3d8db",
   "metadata": {},
   "source": [
    "We are going to extract the income statement, balance sheet and cash flow statement from \"morningstar.com\". We will do this by using Selenium and Beautiful soup"
   ]
  },
  {
   "cell_type": "code",
   "execution_count": 1,
   "id": "3fb9be57",
   "metadata": {},
   "outputs": [],
   "source": [
    "#%pip install selenium\n",
    "#%pip install openpyxl\n",
    "#%pip install xlrd"
   ]
  },
  {
   "cell_type": "code",
   "execution_count": 2,
   "id": "b1201ebb",
   "metadata": {},
   "outputs": [],
   "source": [
    "import warnings\n",
    "warnings.filterwarnings('ignore')"
   ]
  },
  {
   "cell_type": "code",
   "execution_count": 3,
   "id": "6a2925a0",
   "metadata": {},
   "outputs": [
    {
     "name": "stderr",
     "output_type": "stream",
     "text": [
      "\n",
      "\n",
      "====== WebDriver manager ======\n",
      "Current google-chrome version is 101.0.4951\n",
      "Get LATEST chromedriver version for 101.0.4951 google-chrome\n",
      "Driver [/Users/danigomezlechonbarrachina/.wdm/drivers/chromedriver/mac64/101.0.4951.41/chromedriver] found in cache\n"
     ]
    }
   ],
   "source": [
    "from apifunctions import *"
   ]
  },
  {
   "cell_type": "markdown",
   "id": "6329764f",
   "metadata": {},
   "source": [
    "Solicitamos que se introduzca la compañía a analizar"
   ]
  },
  {
   "cell_type": "code",
   "execution_count": 4,
   "id": "14b9b08c",
   "metadata": {},
   "outputs": [
    {
     "name": "stdout",
     "output_type": "stream",
     "text": [
      "Enter company ticker:\n",
      "amcx\n",
      "The chosen company ticker is:amcx\n"
     ]
    }
   ],
   "source": [
    "print(\"Enter company ticker:\")\n",
    "x=input()\n",
    "print('The chosen company ticker is:' + x) #en minúscula"
   ]
  },
  {
   "cell_type": "markdown",
   "id": "97aa11b0",
   "metadata": {},
   "source": [
    "Utilizamos las fucniones para ecrapear los financial statements de la empresa seleccionada"
   ]
  },
  {
   "cell_type": "code",
   "execution_count": 5,
   "id": "dfd7e3ca",
   "metadata": {},
   "outputs": [],
   "source": [
    "income_statement=is_scrapping(x)"
   ]
  },
  {
   "cell_type": "code",
   "execution_count": 6,
   "id": "49971bb6",
   "metadata": {},
   "outputs": [],
   "source": [
    "balance_sheet=bs_scrapping(x)"
   ]
  },
  {
   "cell_type": "code",
   "execution_count": 7,
   "id": "6fc07e79",
   "metadata": {},
   "outputs": [],
   "source": [
    "cash_flow=cf_scrapping(x)"
   ]
  },
  {
   "cell_type": "markdown",
   "id": "8f7c329d",
   "metadata": {},
   "source": [
    "Ya tenemos los tres financial statements con los nulos rellenados. Now we are going to preprare the statements so that we can operate with them to get the proyected cash flows"
   ]
  },
  {
   "cell_type": "markdown",
   "id": "aea6c2c4",
   "metadata": {},
   "source": [
    "### Income Statement"
   ]
  },
  {
   "cell_type": "code",
   "execution_count": 8,
   "id": "1cd5f6f0",
   "metadata": {},
   "outputs": [],
   "source": [
    "income_statement=cleaning_is(income_statement)"
   ]
  },
  {
   "cell_type": "code",
   "execution_count": 9,
   "id": "4ad978ce",
   "metadata": {},
   "outputs": [],
   "source": [
    "income_statement[\"2020\"]=income_statement[\"2020\"].str.replace(\",\",\"\")\n",
    "income_statement[\"2021\"]=income_statement[\"2021\"].str.replace(\",\",\"\")\n",
    "income_statement[\"2019\"]=income_statement[\"2019\"].str.replace(\",\",\"\")"
   ]
  },
  {
   "cell_type": "code",
   "execution_count": 10,
   "id": "7421ee8e",
   "metadata": {},
   "outputs": [],
   "source": [
    "income_statement.fillna(0,inplace=True)"
   ]
  },
  {
   "cell_type": "code",
   "execution_count": 11,
   "id": "1a806fd7",
   "metadata": {},
   "outputs": [],
   "source": [
    "income_statement[\"2019\"]=income_statement[\"2019\"].astype(dtype=\"int64\")\n",
    "income_statement[\"2020\"]=income_statement[\"2020\"].astype(dtype=\"int64\")\n",
    "income_statement[\"2021\"]=income_statement[\"2021\"].astype(dtype=\"int64\")"
   ]
  },
  {
   "cell_type": "markdown",
   "id": "e4953b1d",
   "metadata": {},
   "source": [
    "### Balance Sheet"
   ]
  },
  {
   "cell_type": "code",
   "execution_count": 12,
   "id": "d49e9cd9",
   "metadata": {},
   "outputs": [],
   "source": [
    "balance_sheet=cleaning_bs(balance_sheet)"
   ]
  },
  {
   "cell_type": "markdown",
   "id": "535bd12e",
   "metadata": {},
   "source": [
    "Dividimos la balance_sheet resultante eliminando las columnas inferiores que corresponden a los detalles de la deuda"
   ]
  },
  {
   "cell_type": "code",
   "execution_count": 13,
   "id": "4980ea8e",
   "metadata": {},
   "outputs": [],
   "source": [
    "debt_details=balance_sheet.iloc[28:]\n",
    "balance_sheet=balance_sheet.iloc[0:27]"
   ]
  },
  {
   "cell_type": "code",
   "execution_count": 29,
   "id": "c86094c6",
   "metadata": {},
   "outputs": [
    {
     "data": {
      "text/html": [
       "<div>\n",
       "<style scoped>\n",
       "    .dataframe tbody tr th:only-of-type {\n",
       "        vertical-align: middle;\n",
       "    }\n",
       "\n",
       "    .dataframe tbody tr th {\n",
       "        vertical-align: top;\n",
       "    }\n",
       "\n",
       "    .dataframe thead th {\n",
       "        text-align: right;\n",
       "    }\n",
       "</style>\n",
       "<table border=\"1\" class=\"dataframe\">\n",
       "  <thead>\n",
       "    <tr style=\"text-align: right;\">\n",
       "      <th></th>\n",
       "      <th>2018</th>\n",
       "      <th>2019</th>\n",
       "      <th>2020</th>\n",
       "      <th>2021</th>\n",
       "    </tr>\n",
       "    <tr>\n",
       "      <th>AMCX_balance-sheet_Annual_As_Originally_Reported</th>\n",
       "      <th></th>\n",
       "      <th></th>\n",
       "      <th></th>\n",
       "      <th></th>\n",
       "    </tr>\n",
       "  </thead>\n",
       "  <tbody>\n",
       "    <tr>\n",
       "      <th>Total Assets</th>\n",
       "      <td>5,278,563,000</td>\n",
       "      <td>5,596,686,000</td>\n",
       "      <td>5,246,338,000</td>\n",
       "      <td>5,748,946,000</td>\n",
       "    </tr>\n",
       "    <tr>\n",
       "      <th>Cash, Cash Equivalents and Short Term Investments</th>\n",
       "      <td>554,886,000</td>\n",
       "      <td>816,170,000</td>\n",
       "      <td>888,526,000</td>\n",
       "      <td>892,221,000</td>\n",
       "    </tr>\n",
       "    <tr>\n",
       "      <th>Trade and Other Receivables, Current</th>\n",
       "      <td>835,977,000</td>\n",
       "      <td>857,143,000</td>\n",
       "      <td>813,587,000</td>\n",
       "      <td>815,444,000</td>\n",
       "    </tr>\n",
       "    <tr>\n",
       "      <th>Prepayments and Deposits, Current</th>\n",
       "      <td>131,809,000</td>\n",
       "      <td>230,360,000</td>\n",
       "      <td>223,173,000</td>\n",
       "      <td>282,453,000</td>\n",
       "    </tr>\n",
       "    <tr>\n",
       "      <th>Other Current Assets</th>\n",
       "      <td>440,739,000</td>\n",
       "      <td>426,624,000</td>\n",
       "      <td>13,480,000</td>\n",
       "      <td>10,068,000</td>\n",
       "    </tr>\n",
       "  </tbody>\n",
       "</table>\n",
       "</div>"
      ],
      "text/plain": [
       "                                                            2018  \\\n",
       "AMCX_balance-sheet_Annual_As_Originally_Reported                   \n",
       "Total Assets                                       5,278,563,000   \n",
       "Cash, Cash Equivalents and Short Term Investments    554,886,000   \n",
       "Trade and Other Receivables, Current                 835,977,000   \n",
       "Prepayments and Deposits, Current                    131,809,000   \n",
       "Other Current Assets                                 440,739,000   \n",
       "\n",
       "                                                            2019  \\\n",
       "AMCX_balance-sheet_Annual_As_Originally_Reported                   \n",
       "Total Assets                                       5,596,686,000   \n",
       "Cash, Cash Equivalents and Short Term Investments    816,170,000   \n",
       "Trade and Other Receivables, Current                 857,143,000   \n",
       "Prepayments and Deposits, Current                    230,360,000   \n",
       "Other Current Assets                                 426,624,000   \n",
       "\n",
       "                                                            2020  \\\n",
       "AMCX_balance-sheet_Annual_As_Originally_Reported                   \n",
       "Total Assets                                       5,246,338,000   \n",
       "Cash, Cash Equivalents and Short Term Investments    888,526,000   \n",
       "Trade and Other Receivables, Current                 813,587,000   \n",
       "Prepayments and Deposits, Current                    223,173,000   \n",
       "Other Current Assets                                  13,480,000   \n",
       "\n",
       "                                                            2021  \n",
       "AMCX_balance-sheet_Annual_As_Originally_Reported                  \n",
       "Total Assets                                       5,748,946,000  \n",
       "Cash, Cash Equivalents and Short Term Investments    892,221,000  \n",
       "Trade and Other Receivables, Current                 815,444,000  \n",
       "Prepayments and Deposits, Current                    282,453,000  \n",
       "Other Current Assets                                  10,068,000  "
      ]
     },
     "execution_count": 29,
     "metadata": {},
     "output_type": "execute_result"
    }
   ],
   "source": [
    "balance_sheet.head(5)"
   ]
  },
  {
   "cell_type": "code",
   "execution_count": 24,
   "id": "185f580d",
   "metadata": {},
   "outputs": [],
   "source": [
    "current_assets=balance_sheet.iloc[0:4]\n",
    "non_current_assets=balance_sheet.iloc[5:12]\n",
    "current_liabilities=balance_sheet.iloc[13:18]\n",
    "non_current_liabilities=balance_sheet.iloc[19:22]\n",
    "equity=balance_sheet.iloc[22:]"
   ]
  },
  {
   "cell_type": "markdown",
   "id": "c8ccf350",
   "metadata": {},
   "source": [
    "### Cash Flow"
   ]
  },
  {
   "cell_type": "code",
   "execution_count": 30,
   "id": "8f97210d",
   "metadata": {},
   "outputs": [
    {
     "data": {
      "text/html": [
       "<div>\n",
       "<style scoped>\n",
       "    .dataframe tbody tr th:only-of-type {\n",
       "        vertical-align: middle;\n",
       "    }\n",
       "\n",
       "    .dataframe tbody tr th {\n",
       "        vertical-align: top;\n",
       "    }\n",
       "\n",
       "    .dataframe thead th {\n",
       "        text-align: right;\n",
       "    }\n",
       "</style>\n",
       "<table border=\"1\" class=\"dataframe\">\n",
       "  <thead>\n",
       "    <tr style=\"text-align: right;\">\n",
       "      <th></th>\n",
       "      <th>2018</th>\n",
       "      <th>2019</th>\n",
       "      <th>2020</th>\n",
       "      <th>2021</th>\n",
       "    </tr>\n",
       "    <tr>\n",
       "      <th>AMCX_cash-flow_Annual_As_Originally_Reported</th>\n",
       "      <th></th>\n",
       "      <th></th>\n",
       "      <th></th>\n",
       "      <th></th>\n",
       "    </tr>\n",
       "  </thead>\n",
       "  <tbody>\n",
       "    <tr>\n",
       "      <th>Cash Flow from Operating Activities, Indirect</th>\n",
       "      <td>606,547,000</td>\n",
       "      <td>483,748,000</td>\n",
       "      <td>748,736,000</td>\n",
       "      <td>143,474,000</td>\n",
       "    </tr>\n",
       "    <tr>\n",
       "      <th>Net Cash Flow from Continuing Operating Activities, Indirect</th>\n",
       "      <td>606,547,000</td>\n",
       "      <td>483,748,000</td>\n",
       "      <td>748,736,000</td>\n",
       "      <td>143,474,000</td>\n",
       "    </tr>\n",
       "    <tr>\n",
       "      <th>Cash Generated from Operating Activities</th>\n",
       "      <td>606,547,000</td>\n",
       "      <td>483,748,000</td>\n",
       "      <td>748,736,000</td>\n",
       "      <td>143,474,000</td>\n",
       "    </tr>\n",
       "    <tr>\n",
       "      <th>Income/Loss before Non-Cash Adjustment</th>\n",
       "      <td>463,967,000</td>\n",
       "      <td>407,716,000</td>\n",
       "      <td>256,988,000</td>\n",
       "      <td>279,839,000</td>\n",
       "    </tr>\n",
       "    <tr>\n",
       "      <th>Total Adjustments for Non-Cash Items</th>\n",
       "      <td>1,155,035,000</td>\n",
       "      <td>1,265,135,000</td>\n",
       "      <td>1,193,334,000</td>\n",
       "      <td>1,145,628,000</td>\n",
       "    </tr>\n",
       "  </tbody>\n",
       "</table>\n",
       "</div>"
      ],
      "text/plain": [
       "                                                             2018  \\\n",
       "AMCX_cash-flow_Annual_As_Originally_Reported                        \n",
       "Cash Flow from Operating Activities, Indirect         606,547,000   \n",
       "Net Cash Flow from Continuing Operating Activit...    606,547,000   \n",
       "Cash Generated from Operating Activities              606,547,000   \n",
       "Income/Loss before Non-Cash Adjustment                463,967,000   \n",
       "Total Adjustments for Non-Cash Items                1,155,035,000   \n",
       "\n",
       "                                                             2019  \\\n",
       "AMCX_cash-flow_Annual_As_Originally_Reported                        \n",
       "Cash Flow from Operating Activities, Indirect         483,748,000   \n",
       "Net Cash Flow from Continuing Operating Activit...    483,748,000   \n",
       "Cash Generated from Operating Activities              483,748,000   \n",
       "Income/Loss before Non-Cash Adjustment                407,716,000   \n",
       "Total Adjustments for Non-Cash Items                1,265,135,000   \n",
       "\n",
       "                                                             2020  \\\n",
       "AMCX_cash-flow_Annual_As_Originally_Reported                        \n",
       "Cash Flow from Operating Activities, Indirect         748,736,000   \n",
       "Net Cash Flow from Continuing Operating Activit...    748,736,000   \n",
       "Cash Generated from Operating Activities              748,736,000   \n",
       "Income/Loss before Non-Cash Adjustment                256,988,000   \n",
       "Total Adjustments for Non-Cash Items                1,193,334,000   \n",
       "\n",
       "                                                             2021  \n",
       "AMCX_cash-flow_Annual_As_Originally_Reported                       \n",
       "Cash Flow from Operating Activities, Indirect         143,474,000  \n",
       "Net Cash Flow from Continuing Operating Activit...    143,474,000  \n",
       "Cash Generated from Operating Activities              143,474,000  \n",
       "Income/Loss before Non-Cash Adjustment                279,839,000  \n",
       "Total Adjustments for Non-Cash Items                1,145,628,000  "
      ]
     },
     "execution_count": 30,
     "metadata": {},
     "output_type": "execute_result"
    }
   ],
   "source": [
    "cash_flow.head()"
   ]
  },
  {
   "cell_type": "code",
   "execution_count": 28,
   "id": "e582dc99",
   "metadata": {},
   "outputs": [],
   "source": [
    "# de momento el cash flow lo vamos a dejar asi, ya que en principio lo  crearé yo una vez realizado el discounted cash flow"
   ]
  }
 ],
 "metadata": {
  "kernelspec": {
   "display_name": "Ironhack",
   "language": "python",
   "name": "ironhack"
  },
  "language_info": {
   "codemirror_mode": {
    "name": "ipython",
    "version": 3
   },
   "file_extension": ".py",
   "mimetype": "text/x-python",
   "name": "python",
   "nbconvert_exporter": "python",
   "pygments_lexer": "ipython3",
   "version": "3.9.7"
  }
 },
 "nbformat": 4,
 "nbformat_minor": 5
}
