{
 "cells": [
  {
   "cell_type": "markdown",
   "id": "5713c36a",
   "metadata": {},
   "source": [
    "# Instrucciones"
   ]
  },
  {
   "cell_type": "code",
   "execution_count": 1,
   "id": "d413f2c9",
   "metadata": {},
   "outputs": [
    {
     "name": "stderr",
     "output_type": "stream",
     "text": [
      "\n",
      "\n",
      "====== WebDriver manager ======\n",
      "Current google-chrome version is 101.0.4951\n",
      "Get LATEST chromedriver version for 101.0.4951 google-chrome\n",
      "Driver [/Users/danigomezlechonbarrachina/.wdm/drivers/chromedriver/mac64/101.0.4951.41/chromedriver] found in cache\n"
     ]
    }
   ],
   "source": [
    "from apifunctions import *"
   ]
  },
  {
   "cell_type": "code",
   "execution_count": 2,
   "id": "7fca8bdb",
   "metadata": {},
   "outputs": [],
   "source": [
    "sales_growth=0.08\n",
    "gross_margin=\"same as last year\"\n",
    "Personnel_expenses=\"same as last year\"\n",
    "interest_on_cash=0.005\n",
    "tax_rate=\"same as last year\"\n",
    "DSO=\"same as last year\"\n",
    "DIO=\"same as last year\"\n",
    "DPO=\"same as last year\"\n",
    "depreciation_tangible=0.06\n",
    "amortization_intangible=0.1\n",
    "capex_tangible=0.05\n",
    "capex_intangible=0.02\n",
    "dividends=0\n",
    "interest_rate_on_debt=\"same as last year\"\n",
    "#maturities"
   ]
  },
  {
   "cell_type": "code",
   "execution_count": 3,
   "id": "e2104972",
   "metadata": {},
   "outputs": [],
   "source": [
    "years=[\"2018\",\"2019\",\"2020\",\"2021\"]"
   ]
  },
  {
   "cell_type": "markdown",
   "id": "4086948c",
   "metadata": {},
   "source": [
    "Cargamos los financial statements:"
   ]
  },
  {
   "cell_type": "code",
   "execution_count": 4,
   "id": "e7d89379",
   "metadata": {},
   "outputs": [],
   "source": [
    "%store -r income_statement\n",
    "%store -r current_assets\n",
    "%store -r non_current_assets\n",
    "%store -r current_liabilities\n",
    "%store -r non_current_liabilities\n",
    "%store -r equity\n",
    "%store -r debt_details"
   ]
  },
  {
   "cell_type": "code",
   "execution_count": 5,
   "id": "eccbaf9a",
   "metadata": {},
   "outputs": [],
   "source": [
    "# Adding the columns for the following next years\n",
    "\n",
    "new_years=[\"2022E\",\"2023E\",\"2024E\",\"2025E\",\"2026E\"]\n",
    "dataframes=[income_statement,current_assets,non_current_assets,current_liabilities,non_current_liabilities,equity,debt_details]\n",
    "\n",
    "add_columns(dataframes,new_years)"
   ]
  },
  {
   "cell_type": "code",
   "execution_count": 6,
   "id": "b8516e92",
   "metadata": {},
   "outputs": [],
   "source": [
    "#voy a tener que trasponer las matrices para operar más facilmente en pandas\n",
    "\n",
    "income_statement=income_statement.transpose()\n",
    "current_assets=current_assets.transpose()\n",
    "non_current_assets=non_current_assets.transpose()\n",
    "current_liabilities=current_liabilities.transpose()\n",
    "non_current_liabilities=non_current_liabilities.transpose()\n",
    "equity=equity.transpose()\n",
    "debt_details=debt_details.transpose()"
   ]
  },
  {
   "cell_type": "code",
   "execution_count": 7,
   "id": "dd96793a",
   "metadata": {},
   "outputs": [],
   "source": [
    "#Elimino las \",\" \n",
    "\n",
    "income_statement.replace(',','', regex=True, inplace=True)\n",
    "current_assets.replace(',','', regex=True, inplace=True)\n",
    "non_current_assets.replace(',','', regex=True, inplace=True)\n",
    "current_liabilities.replace(',','', regex=True, inplace=True)\n",
    "non_current_liabilities.replace(',','', regex=True, inplace=True)\n",
    "equity.replace(',','', regex=True, inplace=True)\n",
    "debt_details.replace(',','', regex=True, inplace=True)"
   ]
  },
  {
   "cell_type": "code",
   "execution_count": 8,
   "id": "ea802a2f",
   "metadata": {},
   "outputs": [],
   "source": [
    "cambio_a_float(income_statement)\n",
    "cambio_a_float(current_assets)\n",
    "cambio_a_float(non_current_assets)\n",
    "cambio_a_float(current_liabilities)\n",
    "cambio_a_float(non_current_liabilities)\n",
    "cambio_a_float(equity)\n",
    "cambio_a_float(debt_details)"
   ]
  },
  {
   "cell_type": "code",
   "execution_count": 9,
   "id": "ff1a26e9",
   "metadata": {},
   "outputs": [],
   "source": [
    "#Esta incluye el 0 a añadir al principio del array cuando hagamos bop=eop(n-1)\n",
    "\n",
    "zero=[0]"
   ]
  },
  {
   "cell_type": "code",
   "execution_count": 10,
   "id": "c95f24eb",
   "metadata": {},
   "outputs": [],
   "source": [
    "columns_to_keep=[\"Business Revenue\",\"Cost of Goods and Services\",\"Selling, General and Administrative Expenses\",\"Depreciation and Amortization\",\n",
    "                \"Interest Expense Net of Capitalized Interest\",\"Interest Income\",\"Non-Controlling/Minority Interests\",\"profit\",\"Total Assets\",\n",
    "                 \"Cash, Cash Equivalents and Short Term Investments\",\"Trade and Other Receivables, Current\",\"Gross Property, Plant and Equipment\",\n",
    "                \"Accumulated Depreciation and Impairment\",\"Intangibles other than Goodwill\",\"Accumulated Amortization and Impairment\",\n",
    "                \"Deferred Tax Assets, Non-Current\",\"Long Term Debt and Capital Lease Obligation\",\"Tax Liabilities, Non-Current\",\n",
    "                \"Trade and Other Payables, Current\",\"Current Portion of Long Term Debt\",\"Capital Lease Obligations, Current\",\"Provisions, Current\"\n",
    "                \"Deferred Liabilities, Current\",\"Retained Earnings/Accumulated Deficit\",\"Provision for Income Tax\"]"
   ]
  },
  {
   "cell_type": "code",
   "execution_count": 11,
   "id": "eb7ec07d",
   "metadata": {},
   "outputs": [],
   "source": [
    "#Para las columnas que no vamos a tocar vamos a rellenarlas con el valor del último año:\n",
    "dataframes=[income_statement,current_assets,non_current_assets,current_liabilities,non_current_liabilities,equity,debt_details]\n",
    "\n",
    "for i in income_statement.columns:\n",
    "    \n",
    "    if i not in columns_to_keep:\n",
    "        for j in new_years:\n",
    "            \n",
    "            income_statement[i][j]=income_statement[i][\"2021\"]\n",
    "        \n",
    "for i in current_assets.columns:\n",
    "    \n",
    "    if i not in columns_to_keep:\n",
    "        for j in new_years:\n",
    "            \n",
    "            current_assets[i][j]=current_assets[i][\"2021\"]\n",
    "            \n",
    "for i in non_current_assets.columns:\n",
    "    \n",
    "    if i not in columns_to_keep:\n",
    "        for j in new_years:\n",
    "            \n",
    "            non_current_assets[i][j]=non_current_assets[i][\"2021\"]\n",
    "\n",
    "for i in current_liabilities.columns:\n",
    "    \n",
    "    if i not in columns_to_keep:\n",
    "        for j in new_years:\n",
    "            \n",
    "            current_liabilities[i][j]=current_liabilities[i][\"2021\"]\n",
    "            \n",
    "for i in non_current_liabilities.columns:\n",
    "    \n",
    "    if i not in columns_to_keep:\n",
    "        for j in new_years:\n",
    "            \n",
    "            non_current_liabilities[i][j]=non_current_liabilities[i][\"2021\"]\n",
    "\n",
    "for i in equity.columns:\n",
    "    \n",
    "    if i not in columns_to_keep:\n",
    "        for j in new_years:\n",
    "            \n",
    "            equity[i][j]=equity[i][\"2021\"]\n",
    "        "
   ]
  },
  {
   "cell_type": "markdown",
   "id": "fcf0bf41",
   "metadata": {},
   "source": [
    "### Income statement (parts we can add)"
   ]
  },
  {
   "cell_type": "code",
   "execution_count": 12,
   "id": "bfaccf3a",
   "metadata": {},
   "outputs": [],
   "source": [
    "forecasted_years=[\"2022E\",\"2023E\",\"2024E\",\"2025E\",\"2026E\"]"
   ]
  },
  {
   "cell_type": "code",
   "execution_count": 13,
   "id": "caae32a4",
   "metadata": {},
   "outputs": [],
   "source": [
    "#revenue: (usamos revenue growth)\n",
    "start_val=income_statement[\"Business Revenue\"][\"2021\"]\n",
    "\n",
    "for i in forecasted_years:\n",
    "    \n",
    "    income_statement[\"Business Revenue\"][i]=start_val*(1+sales_growth)\n",
    "    \n",
    "    start_val=start_val*(1+sales_growth)"
   ]
  },
  {
   "cell_type": "code",
   "execution_count": 14,
   "id": "6b6a7032",
   "metadata": {},
   "outputs": [],
   "source": [
    "#gross margin: (calculamos gross margin 2021 y mantenemos constante)\n",
    "\n",
    "gross_profit=income_statement[\"Business Revenue\"][\"2021\"]+income_statement[\"Cost of Goods and Services\"][\"2021\"] #el cogs está en negativo\n",
    "gross_margin=gross_profit/income_statement[\"Business Revenue\"][\"2021\"]\n",
    "\n",
    "gross_profit=[a*gross_margin for a in income_statement[\"Business Revenue\"]]"
   ]
  },
  {
   "cell_type": "code",
   "execution_count": 15,
   "id": "e9168af0",
   "metadata": {},
   "outputs": [],
   "source": [
    "#cogs: (calculamos a partir del gross margin y el revenue: Revenue-gross_profit)\n",
    "\n",
    "income_statement[\"Cost of Goods and Services\"]=[-(a-b) for a,b in zip(income_statement[\"Business Revenue\"],gross_profit)]"
   ]
  },
  {
   "cell_type": "code",
   "execution_count": 16,
   "id": "49142f9d",
   "metadata": {},
   "outputs": [],
   "source": [
    "# selling,general and administrative (calculamos sg&a as % of sales 2021 y mantenemos constante)\n",
    "\n",
    "margin=-income_statement[\"Selling, General and Administrative Expenses\"][\"2021\"]/income_statement[\"Business Revenue\"][\"2021\"]\n",
    "income_statement[\"Selling, General and Administrative Expenses\"]=[-margin*a for a in income_statement[\"Business Revenue\"]]"
   ]
  },
  {
   "cell_type": "code",
   "execution_count": 17,
   "id": "364d919c",
   "metadata": {},
   "outputs": [],
   "source": [
    "#Tax, expense (primero tengo que sacar el tax rate del último año para mantenerlo en el resto)\n",
    "\n",
    "tax_rate=-income_statement[\"Provision for Income Tax\"][\"2021\"]/(income_statement.sum(axis=1)[\"2021\"]-income_statement[\"Provision for Income Tax\"][\"2021\"])\n",
    "\n",
    "#una vez tenemos el tax rate, el tax expense lo calcularemos más adelante"
   ]
  },
  {
   "cell_type": "markdown",
   "id": "9ca752a9",
   "metadata": {},
   "source": [
    "### Non-current assets calcs."
   ]
  },
  {
   "attachments": {},
   "cell_type": "markdown",
   "id": "01a19b49",
   "metadata": {},
   "source": [
    "Para los non-current assets tenemos que hacer:\n",
    "\n",
    "    Tanglibles:\n",
    "\n",
    "    - PP&E-BoP-NET (+)CAPEX (-) Depreciation Expense\n",
    "    \n",
    "    Intangibles:\n",
    "    \n",
    "    -Intangibles-BoP-NET (+)CAPEX (-)Amortization Expense"
   ]
  },
  {
   "cell_type": "code",
   "execution_count": 18,
   "id": "613c636e",
   "metadata": {},
   "outputs": [],
   "source": [
    "#Tangibles: (añadimos a ppe en non_current_assets y a depreciation en non_current_assets)\n",
    "\n",
    "ppe_bop=non_current_assets[\"Gross Property, Plant and Equipment\"][\"2021\"]\n",
    "\n",
    "for i in forecasted_years:\n",
    "\n",
    "    non_current_assets[\"Gross Property, Plant and Equipment\"][i]=ppe_bop+(capex_tangible*income_statement[\"Business Revenue\"][i])-(depreciation_tangible*ppe_bop)\n",
    "    non_current_assets[\"Accumulated Depreciation and Impairment\"][i]=-depreciation_tangible*ppe_bop\n",
    "    \n",
    "    ppe_bop=non_current_assets[\"Gross Property, Plant and Equipment\"][i]\n"
   ]
  },
  {
   "cell_type": "code",
   "execution_count": 19,
   "id": "ddc9db6e",
   "metadata": {},
   "outputs": [],
   "source": [
    "#Inangibles: (añadimos a intangibles en non_current_assets y amortization en non_current_assets)\n",
    "\n",
    "intangibles_bop=non_current_assets[\"Gross Property, Plant and Equipment\"][\"2021\"]\n",
    "\n",
    "for i in forecasted_years:\n",
    "\n",
    "    non_current_assets[\"Intangibles other than Goodwill\"][i]=intangibles_bop+(capex_tangible*income_statement[\"Business Revenue\"][i])-(depreciation_tangible*intangibles_bop)\n",
    "    non_current_assets[\"Accumulated Amortization and Impairment\"][i]=-depreciation_tangible*intangibles_bop\n",
    "    \n",
    "    intangibles_bop=non_current_assets[\"Intangibles other than Goodwill\"][i]\n"
   ]
  },
  {
   "cell_type": "code",
   "execution_count": 20,
   "id": "af783011",
   "metadata": {},
   "outputs": [],
   "source": [
    "#sumamos amortization y depreciation y añadimos al income statement\n",
    "\n",
    "income_statement[\"Depreciation and Amortization\"]=non_current_assets[\"Accumulated Depreciation and Impairment\"] + non_current_assets[\"Accumulated Amortization and Impairment\"]"
   ]
  },
  {
   "cell_type": "markdown",
   "id": "c5d210e0",
   "metadata": {},
   "source": [
    "### Working capital calcs."
   ]
  },
  {
   "cell_type": "code",
   "execution_count": 21,
   "id": "4d04ae32",
   "metadata": {},
   "outputs": [],
   "source": [
    "# Receivables\n",
    "\n",
    "sales=list(income_statement[\"Business Revenue\"])\n",
    "dso=current_assets[\"Trade and Other Receivables, Current\"][\"2021\"]/(income_statement[\"Business Revenue\"][\"2021\"]/365) #dso= receivables/(sales/365)\n",
    "\n",
    "#las dso(days sales outstanding) se mantienen a lo largo de los años por lo que con las sales y dso sacamos los receivables\n",
    "\n",
    "receivables=[(a*dso)/365 for a in sales]  #añadir en current_assets en \"Trade and Other Receivables, Current\"\n",
    "\n",
    "current_assets[\"Trade and Other Receivables, Current\"]=receivables\n"
   ]
  },
  {
   "cell_type": "code",
   "execution_count": 22,
   "id": "b963dbec",
   "metadata": {},
   "outputs": [],
   "source": [
    "#Inventories  (en este caso no hay inventories)\n",
    "\n",
    "if \"Inventories\" in non_current_assets.columns:\n",
    "    cogs=list(income_statement[\"Cost of Goods and Services\"])\n",
    "    dio=non_current_assets[\"inventories\"][2021]/(income_statement[\"Cost of Goods and Services\"][\"2021\"]/365) #dio= inventories/(COGS/365)\n",
    "\n",
    "    inventories=[(a*dio)/365 for a in cogs]\n",
    "    \n",
    "    current_assets[\"Inventories\"]=inventories"
   ]
  },
  {
   "cell_type": "code",
   "execution_count": 23,
   "id": "7291ded6",
   "metadata": {},
   "outputs": [],
   "source": [
    "#payables \n",
    "\n",
    "#primero tenemos que sacar los purchases con los inventories\n",
    "if \"Inventories\" in non_current_assets.columns:\n",
    "    inventories_bop=list(non_current_assets[\"Inventories\"].values)\n",
    "    inventories_bop=zero+inventories_bop\n",
    "    inventories_bop.pop()\n",
    "    \n",
    "    purchases=[a-b-c for a,b,c in zip(non_current_assets[\"inventories\"],inventories_bop,income_statement[\"Cost of Goods and Services\"])]\n",
    "    \n",
    "    dpo=current_liabilities[\"Trade and Other Payables, Current\"][\"2021\"]/(purchases[-1] /365)\n",
    "    payables=[(a*dpo)/365 for a in purchases]\n",
    "    columns_to_add.append(payables)\n",
    "    \n",
    "\n",
    "else:\n",
    "    purchases=0\n",
    "    \n",
    "    #en caso de que purchases=0 mantenemos el \"Trade and Other Payables, Current\" de 2021 para todos los años\n",
    "    \n",
    "    payables=[current_liabilities[\"Trade and Other Payables, Current\"][\"2021\"] for a in current_liabilities[\"Trade and Other Payables, Current\"]]\n",
    "    \n",
    "    current_liabilities[\"Trade and Other Payables, Current\"]=payables"
   ]
  },
  {
   "cell_type": "markdown",
   "id": "cc9d5bba",
   "metadata": {},
   "source": [
    "### Equity Calculations"
   ]
  },
  {
   "cell_type": "code",
   "execution_count": 24,
   "id": "139c5806",
   "metadata": {},
   "outputs": [],
   "source": [
    "income_statement[\"profit\"]=income_statement.sum(axis=1) #para comprobar"
   ]
  },
  {
   "cell_type": "markdown",
   "id": "b1ca7313",
   "metadata": {},
   "source": [
    "**TENDREMOS QUE RELOAD AL FINAL YA QUE EL PROFIT IRÁ VARIANDO**"
   ]
  },
  {
   "cell_type": "code",
   "execution_count": 25,
   "id": "fb4aad6b",
   "metadata": {},
   "outputs": [],
   "source": [
    "#parent equity \n",
    "\n",
    "parent_equity_bop=[a+b+c+d for a,b,c,d in zip(equity[\"Capital Stock\"],equity[\"Treasury Stock\"],equity[\"Retained Earnings/Accumulated Deficit\"],equity[\"Reserves/Accumulated Comprehensive Income/Losses\"])]\n",
    "parent_equity_bop=zero+parent_equity_bop\n",
    "parent_equity_bop.pop()\n",
    "\n",
    "equity_attrib_to_parent=[i for i in income_statement.profit]\n",
    "\n",
    "dividend=[-dividends*i for i in income_statement.profit]  #realmente tendriamos que cogerlo sobre el profit del año anterior \n",
    "\n",
    "parent_equity_eop=[a+b+c for a,b,c in zip(parent_equity_bop,equity_attrib_to_parent,dividend)]"
   ]
  },
  {
   "cell_type": "code",
   "execution_count": 26,
   "id": "35433915",
   "metadata": {},
   "outputs": [],
   "source": [
    "equity[\"Retained Earnings/Accumulated Deficit\"]=[a for a in parent_equity_eop]"
   ]
  },
  {
   "cell_type": "markdown",
   "id": "44c804f9",
   "metadata": {},
   "source": [
    "Añadimos el parent equity a \"Retained Earnings/Accumulated Deficit\" y dejamos el resto de columnas como 0"
   ]
  },
  {
   "cell_type": "markdown",
   "id": "992fa292",
   "metadata": {},
   "source": [
    "### Debt Calculations"
   ]
  },
  {
   "cell_type": "markdown",
   "id": "229f024b",
   "metadata": {},
   "source": [
    "En el caso de la deuda, cada empresa lo reporta de una manera distinta. Para este caso vamos a hacerlo de dos maneras, una customizada a la empresa en cuestión ya que es la que me interesa, y otra general para que se pueda aplicar a cuclaquier empresa. El segundo método lo utilizamos ya que la idea es que nos de una idea general del precio de la empresa mas que un precio exacto."
   ]
  },
  {
   "cell_type": "markdown",
   "id": "a49280fd",
   "metadata": {},
   "source": [
    "#### Caso particular amcx"
   ]
  },
  {
   "cell_type": "markdown",
   "id": "f4ac7672",
   "metadata": {},
   "source": [
    "En este caso primero vamos a sumar los tipos de deuda por el \"due date\""
   ]
  },
  {
   "cell_type": "code",
   "execution_count": 27,
   "id": "25a83e58",
   "metadata": {},
   "outputs": [],
   "source": [
    "debt_types=[\"Debt due in Year 1\",\"Debt due in Year 2\",\"Debt due in Year 3\",\"Debt due in Year 4\",\"Debt due in Year 5\"\n",
    "            ,\"Capital Lease due in Year 1\",\"Capital Lease due in Year 2\",\"Capital Lease due in Year 3\"\n",
    "            ,\"Capital Lease due in Year 4\",\"Capital Lease due in Year 5\",]"
   ]
  },
  {
   "cell_type": "code",
   "execution_count": 28,
   "id": "7bb48810",
   "metadata": {},
   "outputs": [],
   "source": [
    "#debt_year_2021, debt_year_2022, debt_year_2023, debt_year_2024, debt_year_2025=debt_due_year(debt_types,debt_details)"
   ]
  },
  {
   "cell_type": "code",
   "execution_count": 29,
   "id": "9c4094e8",
   "metadata": {},
   "outputs": [],
   "source": [
    "debt_maturities=debt_due_year(debt_types,debt_details)"
   ]
  },
  {
   "cell_type": "code",
   "execution_count": 30,
   "id": "6766c2af",
   "metadata": {},
   "outputs": [],
   "source": [
    "total_debt_aot=non_current_liabilities[\"Long Term Debt and Capital Lease Obligation\"][\"2021\"]+current_liabilities[\"Current Portion of Long Term Debt\"][\"2021\"]+current_liabilities[\"Capital Lease Obligations, Current\"][\"2021\"]"
   ]
  },
  {
   "cell_type": "code",
   "execution_count": 31,
   "id": "f2e5c46c",
   "metadata": {},
   "outputs": [],
   "source": [
    "debt_bop=total_debt_aot\n",
    "debt_eop=[]\n",
    "\n",
    "for i in debt_maturities:\n",
    "\n",
    "    debt_eop.append(debt_bop-i)\n",
    "    debt_bop=debt_bop-i"
   ]
  },
  {
   "cell_type": "code",
   "execution_count": 32,
   "id": "9e02e0fc",
   "metadata": {},
   "outputs": [],
   "source": [
    "#la short term debt de cada año será la maturity de la debt del año siguiente, calculamos y añadimos a current_liabilities\n",
    "\n",
    "short_term_debt=list(debt_maturities[1:])\n",
    "short_term_debt.append((debt_maturities)[-1])\n",
    "\n",
    "a=0\n",
    "for j in forecasted_years:\n",
    "        \n",
    "    current_liabilities[\"Current Portion of Long Term Debt\"][j]=short_term_debt[a]\n",
    "    a+=1"
   ]
  },
  {
   "cell_type": "code",
   "execution_count": 33,
   "id": "0d6bcd0e",
   "metadata": {},
   "outputs": [],
   "source": [
    "#long term debt será la total debt (dept_eop) menos la short term debt, calculamos y añadimos a non_current_liabilities\n",
    "\n",
    "long_term_debt=[a-b for a,b in zip(debt_eop,short_term_debt)]\n",
    "\n",
    "a=0\n",
    "for j in forecasted_years:\n",
    "        \n",
    "    non_current_liabilities[\"Long Term Debt and Capital Lease Obligation\"][j]=long_term_debt[a]\n",
    "    a+=1"
   ]
  },
  {
   "cell_type": "markdown",
   "id": "433be7a6",
   "metadata": {},
   "source": [
    "***El interest expense esperamos a añadirlo al final al income statement***"
   ]
  },
  {
   "cell_type": "code",
   "execution_count": 34,
   "id": "f4259536",
   "metadata": {},
   "outputs": [],
   "source": [
    "#calcular el interest rate del año anterior para sacar el interes expense\n",
    "\n",
    "total_debt_2020=non_current_liabilities[\"Long Term Debt and Capital Lease Obligation\"][\"2020\"]+current_liabilities[\"Current Portion of Long Term Debt\"][\"2021\"]+current_liabilities[\"Capital Lease Obligations, Current\"][\"2020\"]\n",
    "promedio_debts=(total_debt_2020+total_debt_aot)/2   #promedio de la deuda total del ultimo año y del anterior\n",
    "interest_rate=-income_statement[\"Interest Expense Net of Capitalized Interest\"][\"2021\"]/promedio_debts \n",
    "\n",
    "#mantenemos el interest rate para todos los años. Por lo que el interest expense será el total debt por el interest rate\n",
    "\n",
    "interest_expense=[a*interest_rate for a in debt_eop]\n"
   ]
  },
  {
   "cell_type": "markdown",
   "id": "5d10c079",
   "metadata": {},
   "source": [
    "### Tax Calculations"
   ]
  },
  {
   "cell_type": "code",
   "execution_count": 41,
   "id": "e90e2e22",
   "metadata": {},
   "outputs": [],
   "source": [
    "tax_expense=income_statement[\"Provision for Income Tax\"]\n",
    "\n"
   ]
  },
  {
   "cell_type": "code",
   "execution_count": 36,
   "id": "ea0d397c",
   "metadata": {},
   "outputs": [],
   "source": [
    "profit_before_tax=income_statement[\"profit\"]"
   ]
  },
  {
   "cell_type": "code",
   "execution_count": 37,
   "id": "b7057f1c",
   "metadata": {},
   "outputs": [
    {
     "data": {
      "text/html": [
       "<div>\n",
       "<style scoped>\n",
       "    .dataframe tbody tr th:only-of-type {\n",
       "        vertical-align: middle;\n",
       "    }\n",
       "\n",
       "    .dataframe tbody tr th {\n",
       "        vertical-align: top;\n",
       "    }\n",
       "\n",
       "    .dataframe thead th {\n",
       "        text-align: right;\n",
       "    }\n",
       "</style>\n",
       "<table border=\"1\" class=\"dataframe\">\n",
       "  <thead>\n",
       "    <tr style=\"text-align: right;\">\n",
       "      <th>AMCX_income-statement_Annual_As_Originally_Reported</th>\n",
       "      <th>Business Revenue</th>\n",
       "      <th>Cost of Goods and Services</th>\n",
       "      <th>Selling, General and Administrative Expenses</th>\n",
       "      <th>Depreciation and Amortization</th>\n",
       "      <th>Interest Expense Net of Capitalized Interest</th>\n",
       "      <th>Interest Income</th>\n",
       "      <th>Impairment/Write Off/Write Down of Other Assets</th>\n",
       "      <th>Gain/Loss on Extinguishment of Debt</th>\n",
       "      <th>Restructuring and Reorganization Income/Expense</th>\n",
       "      <th>Goodwill Impairment/Write Off</th>\n",
       "      <th>Litigation Income/Expense</th>\n",
       "      <th>Other Income/Expense, Non-Operating</th>\n",
       "      <th>Provision for Income Tax</th>\n",
       "      <th>Non-Controlling/Minority Interests</th>\n",
       "      <th>profit</th>\n",
       "    </tr>\n",
       "  </thead>\n",
       "  <tbody>\n",
       "    <tr>\n",
       "      <th>2018</th>\n",
       "      <td>2.971929e+09</td>\n",
       "      <td>-1.382908e+09</td>\n",
       "      <td>-8.611136e+08</td>\n",
       "      <td>-534379000.0</td>\n",
       "      <td>-154993000.0</td>\n",
       "      <td>19180000.0</td>\n",
       "      <td>-4486000.0</td>\n",
       "      <td>0.0</td>\n",
       "      <td>-45847000.0</td>\n",
       "      <td>0.0</td>\n",
       "      <td>0.0</td>\n",
       "      <td>29177000.0</td>\n",
       "      <td>-156306000.0</td>\n",
       "      <td>-17780000.0</td>\n",
       "      <td>-1.375267e+08</td>\n",
       "    </tr>\n",
       "    <tr>\n",
       "      <th>2019</th>\n",
       "      <td>3.060321e+09</td>\n",
       "      <td>-1.424039e+09</td>\n",
       "      <td>-8.867251e+08</td>\n",
       "      <td>-621023000.0</td>\n",
       "      <td>-157798000.0</td>\n",
       "      <td>24707000.0</td>\n",
       "      <td>0.0</td>\n",
       "      <td>0.0</td>\n",
       "      <td>-40914000.0</td>\n",
       "      <td>-106603000.0</td>\n",
       "      <td>0.0</td>\n",
       "      <td>-6000000.0</td>\n",
       "      <td>-78470000.0</td>\n",
       "      <td>-27230000.0</td>\n",
       "      <td>-2.637741e+08</td>\n",
       "    </tr>\n",
       "    <tr>\n",
       "      <th>2020</th>\n",
       "      <td>2.814956e+09</td>\n",
       "      <td>-1.309865e+09</td>\n",
       "      <td>-8.156308e+08</td>\n",
       "      <td>-657817000.0</td>\n",
       "      <td>-138610000.0</td>\n",
       "      <td>30032000.0</td>\n",
       "      <td>0.0</td>\n",
       "      <td>-2908000.0</td>\n",
       "      <td>-35068000.0</td>\n",
       "      <td>-122227000.0</td>\n",
       "      <td>0.0</td>\n",
       "      <td>71221000.0</td>\n",
       "      <td>-145391000.0</td>\n",
       "      <td>-17009000.0</td>\n",
       "      <td>-3.283167e+08</td>\n",
       "    </tr>\n",
       "    <tr>\n",
       "      <th>2021</th>\n",
       "      <td>3.077608e+09</td>\n",
       "      <td>-1.432083e+09</td>\n",
       "      <td>-8.917340e+08</td>\n",
       "      <td>-713575000.0</td>\n",
       "      <td>-129073000.0</td>\n",
       "      <td>10243000.0</td>\n",
       "      <td>-159610000.0</td>\n",
       "      <td>-22074000.0</td>\n",
       "      <td>-10378000.0</td>\n",
       "      <td>0.0</td>\n",
       "      <td>0.0</td>\n",
       "      <td>25214000.0</td>\n",
       "      <td>-94393000.0</td>\n",
       "      <td>-29243000.0</td>\n",
       "      <td>-3.690980e+08</td>\n",
       "    </tr>\n",
       "    <tr>\n",
       "      <th>2022E</th>\n",
       "      <td>3.323817e+09</td>\n",
       "      <td>-1.546650e+09</td>\n",
       "      <td>-9.630727e+08</td>\n",
       "      <td>-76534800.0</td>\n",
       "      <td>0.0</td>\n",
       "      <td>0.0</td>\n",
       "      <td>-159610000.0</td>\n",
       "      <td>-22074000.0</td>\n",
       "      <td>-10378000.0</td>\n",
       "      <td>0.0</td>\n",
       "      <td>0.0</td>\n",
       "      <td>25214000.0</td>\n",
       "      <td>0.0</td>\n",
       "      <td>0.0</td>\n",
       "      <td>5.707115e+08</td>\n",
       "    </tr>\n",
       "  </tbody>\n",
       "</table>\n",
       "</div>"
      ],
      "text/plain": [
       "AMCX_income-statement_Annual_As_Originally_Reported  Business Revenue  \\\n",
       "2018                                                     2.971929e+09   \n",
       "2019                                                     3.060321e+09   \n",
       "2020                                                     2.814956e+09   \n",
       "2021                                                     3.077608e+09   \n",
       "2022E                                                    3.323817e+09   \n",
       "\n",
       "AMCX_income-statement_Annual_As_Originally_Reported  Cost of Goods and Services  \\\n",
       "2018                                                              -1.382908e+09   \n",
       "2019                                                              -1.424039e+09   \n",
       "2020                                                              -1.309865e+09   \n",
       "2021                                                              -1.432083e+09   \n",
       "2022E                                                             -1.546650e+09   \n",
       "\n",
       "AMCX_income-statement_Annual_As_Originally_Reported  Selling, General and Administrative Expenses  \\\n",
       "2018                                                                                -8.611136e+08   \n",
       "2019                                                                                -8.867251e+08   \n",
       "2020                                                                                -8.156308e+08   \n",
       "2021                                                                                -8.917340e+08   \n",
       "2022E                                                                               -9.630727e+08   \n",
       "\n",
       "AMCX_income-statement_Annual_As_Originally_Reported  Depreciation and Amortization  \\\n",
       "2018                                                                  -534379000.0   \n",
       "2019                                                                  -621023000.0   \n",
       "2020                                                                  -657817000.0   \n",
       "2021                                                                  -713575000.0   \n",
       "2022E                                                                  -76534800.0   \n",
       "\n",
       "AMCX_income-statement_Annual_As_Originally_Reported  Interest Expense Net of Capitalized Interest  \\\n",
       "2018                                                                                 -154993000.0   \n",
       "2019                                                                                 -157798000.0   \n",
       "2020                                                                                 -138610000.0   \n",
       "2021                                                                                 -129073000.0   \n",
       "2022E                                                                                         0.0   \n",
       "\n",
       "AMCX_income-statement_Annual_As_Originally_Reported  Interest Income  \\\n",
       "2018                                                      19180000.0   \n",
       "2019                                                      24707000.0   \n",
       "2020                                                      30032000.0   \n",
       "2021                                                      10243000.0   \n",
       "2022E                                                            0.0   \n",
       "\n",
       "AMCX_income-statement_Annual_As_Originally_Reported  Impairment/Write Off/Write Down of Other Assets  \\\n",
       "2018                                                                                      -4486000.0   \n",
       "2019                                                                                             0.0   \n",
       "2020                                                                                             0.0   \n",
       "2021                                                                                    -159610000.0   \n",
       "2022E                                                                                   -159610000.0   \n",
       "\n",
       "AMCX_income-statement_Annual_As_Originally_Reported  Gain/Loss on Extinguishment of Debt  \\\n",
       "2018                                                                                 0.0   \n",
       "2019                                                                                 0.0   \n",
       "2020                                                                          -2908000.0   \n",
       "2021                                                                         -22074000.0   \n",
       "2022E                                                                        -22074000.0   \n",
       "\n",
       "AMCX_income-statement_Annual_As_Originally_Reported  Restructuring and Reorganization Income/Expense  \\\n",
       "2018                                                                                     -45847000.0   \n",
       "2019                                                                                     -40914000.0   \n",
       "2020                                                                                     -35068000.0   \n",
       "2021                                                                                     -10378000.0   \n",
       "2022E                                                                                    -10378000.0   \n",
       "\n",
       "AMCX_income-statement_Annual_As_Originally_Reported  Goodwill Impairment/Write Off  \\\n",
       "2018                                                                           0.0   \n",
       "2019                                                                  -106603000.0   \n",
       "2020                                                                  -122227000.0   \n",
       "2021                                                                           0.0   \n",
       "2022E                                                                          0.0   \n",
       "\n",
       "AMCX_income-statement_Annual_As_Originally_Reported  Litigation Income/Expense  \\\n",
       "2018                                                                       0.0   \n",
       "2019                                                                       0.0   \n",
       "2020                                                                       0.0   \n",
       "2021                                                                       0.0   \n",
       "2022E                                                                      0.0   \n",
       "\n",
       "AMCX_income-statement_Annual_As_Originally_Reported  Other Income/Expense, Non-Operating  \\\n",
       "2018                                                                          29177000.0   \n",
       "2019                                                                          -6000000.0   \n",
       "2020                                                                          71221000.0   \n",
       "2021                                                                          25214000.0   \n",
       "2022E                                                                         25214000.0   \n",
       "\n",
       "AMCX_income-statement_Annual_As_Originally_Reported  Provision for Income Tax  \\\n",
       "2018                                                             -156306000.0   \n",
       "2019                                                              -78470000.0   \n",
       "2020                                                             -145391000.0   \n",
       "2021                                                              -94393000.0   \n",
       "2022E                                                                     0.0   \n",
       "\n",
       "AMCX_income-statement_Annual_As_Originally_Reported  Non-Controlling/Minority Interests  \\\n",
       "2018                                                                        -17780000.0   \n",
       "2019                                                                        -27230000.0   \n",
       "2020                                                                        -17009000.0   \n",
       "2021                                                                        -29243000.0   \n",
       "2022E                                                                               0.0   \n",
       "\n",
       "AMCX_income-statement_Annual_As_Originally_Reported        profit  \n",
       "2018                                                -1.375267e+08  \n",
       "2019                                                -2.637741e+08  \n",
       "2020                                                -3.283167e+08  \n",
       "2021                                                -3.690980e+08  \n",
       "2022E                                                5.707115e+08  "
      ]
     },
     "execution_count": 37,
     "metadata": {},
     "output_type": "execute_result"
    }
   ],
   "source": [
    "income_statement.head(5)"
   ]
  },
  {
   "cell_type": "markdown",
   "id": "8be71c7e",
   "metadata": {},
   "source": [
    "#### Tax assets"
   ]
  },
  {
   "cell_type": "code",
   "execution_count": 42,
   "id": "e4fa72e8",
   "metadata": {},
   "outputs": [
    {
     "ename": "NameError",
     "evalue": "name 'tax_assets' is not defined",
     "output_type": "error",
     "traceback": [
      "\u001b[0;31m---------------------------------------------------------------------------\u001b[0m",
      "\u001b[0;31mNameError\u001b[0m                                 Traceback (most recent call last)",
      "Input \u001b[0;32mIn [42]\u001b[0m, in \u001b[0;36m<cell line: 3>\u001b[0;34m()\u001b[0m\n\u001b[1;32m      1\u001b[0m deferred_tax_assets_bop\u001b[38;5;241m=\u001b[39mnon_current_assets[\u001b[38;5;124m\"\u001b[39m\u001b[38;5;124mDeferred Tax Assets, Non-Current\u001b[39m\u001b[38;5;124m\"\u001b[39m][\u001b[38;5;124m\"\u001b[39m\u001b[38;5;124m2021\u001b[39m\u001b[38;5;124m\"\u001b[39m]\n\u001b[1;32m      3\u001b[0m \u001b[38;5;28;01mfor\u001b[39;00m i \u001b[38;5;129;01min\u001b[39;00m forecasted_years:\n\u001b[0;32m----> 4\u001b[0m     \u001b[38;5;28;01mwhile\u001b[39;00m \u001b[43mtax_assets\u001b[49m \u001b[38;5;241m>\u001b[39m\u001b[38;5;241m0\u001b[39m:\n\u001b[1;32m      5\u001b[0m         tax_assets\u001b[38;5;241m=\u001b[39mdeferred_tax_assets_bop\u001b[38;5;241m-\u001b[39mincome_statement\u001b[38;5;241m.\u001b[39msum(axis\u001b[38;5;241m=\u001b[39m\u001b[38;5;241m1\u001b[39m)[i]\u001b[38;5;241m-\u001b[39mincome_statement[\u001b[38;5;124m\"\u001b[39m\u001b[38;5;124mProvision for Income Tax\u001b[39m\u001b[38;5;124m\"\u001b[39m]\n",
      "\u001b[0;31mNameError\u001b[0m: name 'tax_assets' is not defined"
     ]
    }
   ],
   "source": [
    "deferred_tax_assets_bop=non_current_assets[\"Deferred Tax Assets, Non-Current\"][\"2021\"]\n",
    "\n",
    "for i in forecasted_years:\n",
    "    while tax_assets >0:\n",
    "        tax_assets=deferred_tax_assets_bop-income_statement.sum(axis=1)[i]-income_statement[\"Provision for Income Tax\"]"
   ]
  },
  {
   "cell_type": "code",
   "execution_count": null,
   "id": "66e21d05",
   "metadata": {},
   "outputs": [],
   "source": [
    "\n",
    "\n"
   ]
  },
  {
   "cell_type": "code",
   "execution_count": null,
   "id": "2fd99515",
   "metadata": {},
   "outputs": [],
   "source": []
  },
  {
   "cell_type": "markdown",
   "id": "3812db5d",
   "metadata": {},
   "source": [
    "### Cash Flow "
   ]
  },
  {
   "cell_type": "markdown",
   "id": "1f7368e0",
   "metadata": {},
   "source": [
    "#### Cash Flow from Operations\n"
   ]
  },
  {
   "cell_type": "markdown",
   "id": "7c82239d",
   "metadata": {},
   "source": [
    "Net Income\n",
    "\n",
    "(+) D&A expense  (income statement)\n",
    "\n",
    "(+/-) Change in DTAs         **los sacamos una vez tengamos los taxes**\n",
    "\n",
    "(-) Net working capital\n",
    "\n",
    "    CA.- ex. cash\n",
    "    \n",
    "    CL.- ex. Interest bearing debt\n",
    "    \n",
    "    WC Balance\n",
    "   \n",
    "    \n",
    "=Total cash flow from operations\n",
    "    \n",
    "    "
   ]
  },
  {
   "cell_type": "code",
   "execution_count": 39,
   "id": "6eb6103d",
   "metadata": {},
   "outputs": [],
   "source": [
    "current_assets_wc_balance=current_assets.drop([\"Total Assets\",\"Cash, Cash Equivalents and Short Term Investments\"], axis=1).sum(axis=1)\n",
    "current_liabilities_wc_balance=current_liabilities.drop(\"Current Portion of Long Term Debt\",axis=1).sum(axis=1)\n",
    "\n",
    "WC_balance=[a-b for a,b in zip(current_assets_wc_balance,current_liabilities_wc_balance)]"
   ]
  },
  {
   "cell_type": "code",
   "execution_count": null,
   "id": "751e4f2b",
   "metadata": {},
   "outputs": [],
   "source": []
  }
 ],
 "metadata": {
  "kernelspec": {
   "display_name": "Ironhack",
   "language": "python",
   "name": "ironhack"
  },
  "language_info": {
   "codemirror_mode": {
    "name": "ipython",
    "version": 3
   },
   "file_extension": ".py",
   "mimetype": "text/x-python",
   "name": "python",
   "nbconvert_exporter": "python",
   "pygments_lexer": "ipython3",
   "version": "3.9.7"
  }
 },
 "nbformat": 4,
 "nbformat_minor": 5
}
