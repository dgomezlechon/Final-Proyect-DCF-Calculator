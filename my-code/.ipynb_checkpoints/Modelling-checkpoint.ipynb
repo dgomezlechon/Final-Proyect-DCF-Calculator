{
 "cells": [
  {
   "cell_type": "markdown",
   "id": "afce7e14",
   "metadata": {},
   "source": [
    "# Instrucciones"
   ]
  },
  {
   "cell_type": "code",
   "execution_count": 1,
   "id": "0801361f",
   "metadata": {},
   "outputs": [
    {
     "name": "stderr",
     "output_type": "stream",
     "text": [
      "\n",
      "\n",
      "====== WebDriver manager ======\n",
      "Current google-chrome version is 101.0.4951\n",
      "Get LATEST chromedriver version for 101.0.4951 google-chrome\n",
      "Driver [/Users/danigomezlechonbarrachina/.wdm/drivers/chromedriver/mac64/101.0.4951.41/chromedriver] found in cache\n"
     ]
    }
   ],
   "source": [
    "from apifunctions import *"
   ]
  },
  {
   "cell_type": "code",
   "execution_count": 2,
   "id": "0e3ae1ef",
   "metadata": {},
   "outputs": [],
   "source": [
    "sales_growth=0.08\n",
    "gross_margin=\"same as last year\"\n",
    "Personnel_expenses=\"same as last year\"\n",
    "interest_on_cash=0.005\n",
    "tax_rate=\"same aslast year\"\n",
    "DSO=\"\"\n",
    "DIO=\"\"\n",
    "DPO=\"\"\n",
    "depreciation_tangible=0.06\n",
    "amortization_intangible=0.1\n",
    "capex_tangible=0.05\n",
    "capex_intangible=0.02\n",
    "dividends=0\n",
    "interest_rate_on_debt=0.065\n",
    "#maturities"
   ]
  },
  {
   "cell_type": "code",
   "execution_count": 3,
   "id": "a2e03f36",
   "metadata": {},
   "outputs": [],
   "source": [
    "years=[\"2018\",\"2019\",\"2020\",\"2021\"]"
   ]
  },
  {
   "cell_type": "markdown",
   "id": "9ad9f7d3",
   "metadata": {},
   "source": [
    "Cargamos los financial statements:"
   ]
  },
  {
   "cell_type": "code",
   "execution_count": 4,
   "id": "11e15202",
   "metadata": {},
   "outputs": [],
   "source": [
    "%store -r income_statement\n",
    "%store -r current_assets\n",
    "%store -r non_current_assets\n",
    "%store -r current_liabilities\n",
    "%store -r non_current_liabilities\n",
    "%store -r equity\n",
    "%store -r debt_details"
   ]
  },
  {
   "cell_type": "code",
   "execution_count": 5,
   "id": "f684847a",
   "metadata": {},
   "outputs": [],
   "source": [
    "# Adding the columns for the following next years\n",
    "\n",
    "new_years=[\"2022E\",\"2023E\",\"2024E\",\"2025E\",\"2026E\"]\n",
    "dataframes=[income_statement,current_assets,non_current_assets,current_liabilities,non_current_liabilities,equity,debt_details]\n",
    "\n",
    "add_columns(dataframes,new_years)"
   ]
  },
  {
   "cell_type": "code",
   "execution_count": 6,
   "id": "16962605",
   "metadata": {},
   "outputs": [],
   "source": [
    "#voy a tener que trasponer las matrices para operar más facilmente en pandas\n",
    "\n",
    "income_statement=income_statement.transpose()\n",
    "current_assets=current_assets.transpose()\n",
    "non_current_assets=non_current_assets.transpose()\n",
    "current_liabilities=current_liabilities.transpose()\n",
    "non_current_liabilities=non_current_liabilities.transpose()\n",
    "equity=equity.transpose()\n",
    "debt_details=debt_details.transpose()"
   ]
  },
  {
   "cell_type": "code",
   "execution_count": 7,
   "id": "2b661b71",
   "metadata": {},
   "outputs": [],
   "source": [
    "#Elimino las \",\" \n",
    "\n",
    "income_statement.replace(',','', regex=True, inplace=True)\n",
    "current_assets.replace(',','', regex=True, inplace=True)\n",
    "non_current_assets.replace(',','', regex=True, inplace=True)\n",
    "current_liabilities.replace(',','', regex=True, inplace=True)\n",
    "non_current_liabilities.replace(',','', regex=True, inplace=True)\n",
    "equity.replace(',','', regex=True, inplace=True)\n",
    "debt_details.replace(',','', regex=True, inplace=True)"
   ]
  },
  {
   "cell_type": "code",
   "execution_count": 8,
   "id": "3ba536c3",
   "metadata": {},
   "outputs": [],
   "source": [
    "cambio_a_float(income_statement)\n",
    "cambio_a_float(current_assets)\n",
    "cambio_a_float(non_current_assets)\n",
    "cambio_a_float(current_liabilities)\n",
    "cambio_a_float(non_current_liabilities)\n",
    "cambio_a_float(equity)\n",
    "cambio_a_float(debt_details)"
   ]
  },
  {
   "cell_type": "code",
   "execution_count": 9,
   "id": "053bc4de",
   "metadata": {},
   "outputs": [],
   "source": [
    "# Esta lista va a contener todas las columnas que vamos añadiendo para poder incluirlas al final\n",
    "\n",
    "columns_to_add=[]\n",
    "\n",
    "#Esta incluye el 0 a añadir al principio del array cuando hagamos bop=eop(n-1)\n",
    "\n",
    "zero=[0]"
   ]
  },
  {
   "cell_type": "markdown",
   "id": "497e8912",
   "metadata": {},
   "source": [
    "### Income statement (parts we can add)"
   ]
  },
  {
   "cell_type": "code",
   "execution_count": 10,
   "id": "68d3fbcb",
   "metadata": {},
   "outputs": [],
   "source": [
    "forecasted_years=[\"2022E\",\"2023E\",\"2024E\",\"2025E\",\"2026E\"]"
   ]
  },
  {
   "cell_type": "code",
   "execution_count": 11,
   "id": "3295b387",
   "metadata": {},
   "outputs": [],
   "source": [
    "#revenue: (usamos revenue growth)\n",
    "start_val=income_statement[\"Business Revenue\"][\"2021\"]\n",
    "\n",
    "for i in forecasted_years:\n",
    "    \n",
    "    income_statement[\"Business Revenue\"][i]=start_val*(1+sales_growth)\n",
    "    \n",
    "    start_val=start_val*(1+sales_growth)"
   ]
  },
  {
   "cell_type": "code",
   "execution_count": 12,
   "id": "944bb65f",
   "metadata": {},
   "outputs": [],
   "source": [
    "#gross margin: (calculamos gross margin 2021 y mantenemos constante)\n",
    "\n",
    "gross_profit=income_statement[\"Business Revenue\"][\"2021\"]+income_statement[\"Cost of Goods and Services\"][\"2021\"] #el cogs está en negativo\n",
    "gross_margin=gross_profit/income_statement[\"Business Revenue\"][\"2021\"]\n",
    "\n",
    "gross_profit=[a*gross_margin for a in income_statement[\"Business Revenue\"]]"
   ]
  },
  {
   "cell_type": "code",
   "execution_count": 13,
   "id": "f05f2457",
   "metadata": {},
   "outputs": [],
   "source": [
    "#cogs: (calculamos a partir del gross margin y el revenue: Revenue-gross_profit)\n",
    "\n",
    "income_statement[\"Cost of Goods and Services\"]=[-(a-b) for a,b in zip(income_statement[\"Business Revenue\"],gross_profit)]"
   ]
  },
  {
   "cell_type": "code",
   "execution_count": 14,
   "id": "0c05996d",
   "metadata": {},
   "outputs": [],
   "source": [
    "# selling,general and administrative (calculamos sg&a as % of sales 2021 y mantenemos constante)\n",
    "\n",
    "margin=-income_statement[\"Selling, General and Administrative Expenses\"][\"2021\"]/income_statement[\"Business Revenue\"][\"2021\"]\n",
    "income_statement[\"Selling, General and Administrative Expenses\"]=[-margin*a for a in income_statement[\"Business Revenue\"]]"
   ]
  },
  {
   "cell_type": "markdown",
   "id": "0059d25e",
   "metadata": {},
   "source": [
    "### Non-current assets calcs."
   ]
  },
  {
   "attachments": {},
   "cell_type": "markdown",
   "id": "888a7fae",
   "metadata": {},
   "source": [
    "Para los non-current assets tenemos que hacer:\n",
    "\n",
    "    Tanglibles:\n",
    "\n",
    "    - PP&E-BoP-NET (+)CAPEX (-) Depreciation Expense\n",
    "    \n",
    "    Intangibles:\n",
    "    \n",
    "    -Intangibles-BoP-NET (+)CAPEX (-)Amortization Expense"
   ]
  },
  {
   "cell_type": "code",
   "execution_count": 15,
   "id": "123df339",
   "metadata": {},
   "outputs": [],
   "source": [
    "# Tangibles:\n",
    "\n",
    "capex=list(capex_tangible*income_statement[\"Business Revenue\"].values)\n",
    "\n",
    "\n",
    "ppe_bop=list(non_current_assets[\"Gross Property, Plant and Equipment\"].values)\n",
    "ppe_bop=zero+ppe_bop\n",
    "ppe_bop.pop()\n",
    "\n",
    "depreciation_expense=[depreciation_tangible*i for i in ppe_bop]"
   ]
  },
  {
   "cell_type": "code",
   "execution_count": 16,
   "id": "e7ac6c95",
   "metadata": {},
   "outputs": [],
   "source": [
    "ppe_eop=[a+b-c for a,b,c in zip(ppe_bop,capex,depreciation_expense)] #añadir al non_current_assets"
   ]
  },
  {
   "cell_type": "code",
   "execution_count": 17,
   "id": "7a359b88",
   "metadata": {},
   "outputs": [],
   "source": [
    "columns_to_add.append(ppe_eop)"
   ]
  },
  {
   "cell_type": "code",
   "execution_count": 18,
   "id": "0ae5ade9",
   "metadata": {},
   "outputs": [],
   "source": [
    "# Intangibles:\n",
    "\n",
    "capex=list(capex_intangible*income_statement[\"Business Revenue\"].values)\n",
    "\n",
    "\n",
    "intangibles_bop=list(non_current_assets[\"Intangibles other than Goodwill\"].values)\n",
    "intangibles_bop=zero+intangibles_bop\n",
    "intangibles_bop.pop()\n",
    "\n",
    "amortization_expense=[amortization_intangible*i for i in intangibles_bop]\n"
   ]
  },
  {
   "cell_type": "code",
   "execution_count": 19,
   "id": "d799bd46",
   "metadata": {},
   "outputs": [],
   "source": [
    "intangibles_eop=[a+b-c for a,b,c in zip(ppe_bop,capex,depreciation_expense)] #añadir al non_current_assets"
   ]
  },
  {
   "cell_type": "code",
   "execution_count": 20,
   "id": "61d4c046",
   "metadata": {},
   "outputs": [],
   "source": [
    "columns_to_add.append(intangibles_eop)"
   ]
  },
  {
   "cell_type": "code",
   "execution_count": 21,
   "id": "a911f4ff",
   "metadata": {},
   "outputs": [],
   "source": [
    "dep_and_am=[a+b for a,b in zip(depreciation_expense,amortization_expense)] #añadir al income statement\n",
    "columns_to_add.append(dep_and_am)"
   ]
  },
  {
   "cell_type": "markdown",
   "id": "4932eb45",
   "metadata": {},
   "source": [
    "### Working capital calcs."
   ]
  },
  {
   "cell_type": "code",
   "execution_count": 22,
   "id": "7ea959a9",
   "metadata": {},
   "outputs": [],
   "source": [
    "# Receivables\n",
    "\n",
    "sales=list(income_statement[\"Business Revenue\"])\n",
    "dso=current_assets[\"Trade and Other Receivables, Current\"][\"2021\"]/(income_statement[\"Business Revenue\"][\"2021\"]/365) #dso= receivables/(sales/365)\n",
    "\n",
    "#las dso(days sales outstanding) se mantienen a lo largo de los años por lo que con las sales y dso sacamos los receivables\n",
    "\n",
    "receivables=[(a*dso)/365 for a in sales]  #añadir en current_assets en \"Trade and Other Receivables, Current\"\n",
    "\n",
    "columns_to_add.append(receivables)"
   ]
  },
  {
   "cell_type": "code",
   "execution_count": 23,
   "id": "517044d7",
   "metadata": {},
   "outputs": [],
   "source": [
    "#Inventories  (en este caso no hay inventories)\n",
    "\n",
    "if \"inventories\" in non_current_assets.columns:\n",
    "    cogs=list(income_statement[\"Cost of Goods and Services\"])\n",
    "    dio=non_current_assets[\"inventories\"][2021]/(income_statement[\"Cost of Goods and Services\"][\"2021\"]/365) #dio= inventories/(COGS/365)\n",
    "\n",
    "    inventories=[(a*dio)/365 for a in cogs]\n",
    "    \n",
    "    columns_to_add.append(inventories)"
   ]
  },
  {
   "cell_type": "code",
   "execution_count": 24,
   "id": "d63039b8",
   "metadata": {},
   "outputs": [],
   "source": [
    "#payables \n",
    "\n",
    "#primero tenemos que sacar los purchases con los inventories\n",
    "if \"inventories\" in non_current_assets.columns:\n",
    "    inventories_bop=list(non_current_assets[\"Inventories\"].values)\n",
    "    inventories_bop=zero+inventories_bop\n",
    "    inventories_bop.pop()\n",
    "    \n",
    "    purchases=[a-b-c for a,b,c in zip(non_current_assets[\"inventories\"],inventories_bop,income_statement[\"Cost of Goods and Services\"])]\n",
    "    \n",
    "    dpo=current_liabilities[\"Trade and Other Payables, Current\"][\"2021\"]/(purchases[-1] /365)\n",
    "    payables=[(a*dpo)/365 for a in purchases]\n",
    "    columns_to_add.append(payables)\n",
    "    \n",
    "\n",
    "else:\n",
    "    purchases=0\n",
    "    \n",
    "    #en caso de que purchases=0 mantenemos el \"Trade and Other Payables, Current\" de 2021 para todos los años\n",
    "    \n",
    "    payables=[current_liabilities[\"Trade and Other Payables, Current\"][\"2021\"] for a in current_liabilities[\"Trade and Other Payables, Current\"]]\n",
    "    columns_to_add.append(payables)\n"
   ]
  },
  {
   "cell_type": "markdown",
   "id": "8a56d492",
   "metadata": {},
   "source": [
    "### Equity Calculations"
   ]
  },
  {
   "cell_type": "code",
   "execution_count": 25,
   "id": "991a3763",
   "metadata": {},
   "outputs": [],
   "source": [
    "income_statement[\"profit\"]=income_statement.sum(axis=1)"
   ]
  },
  {
   "cell_type": "markdown",
   "id": "ff70bdb3",
   "metadata": {},
   "source": [
    "**TENDREMOS QUE RELOAD AL FINAL YA QUE EL PROFIT IRÁ VARIANDO**"
   ]
  },
  {
   "cell_type": "code",
   "execution_count": 26,
   "id": "bfc95e17",
   "metadata": {},
   "outputs": [],
   "source": [
    "#parent equity \n",
    "\n",
    "parent_equity_bop=[a+b+c+d for a,b,c,d in zip(equity[\"Capital Stock\"],equity[\"Treasury Stock\"],equity[\"Retained Earnings/Accumulated Deficit\"],equity[\"Reserves/Accumulated Comprehensive Income/Losses\"])]\n",
    "parent_equity_bop=zero+parent_equity_bop\n",
    "parent_equity_bop.pop()\n",
    "\n",
    "equity_attrib_to_parent=[i for i in income_statement.profit]\n",
    "\n",
    "dividend=[-dividends*i for i in income_statement.profit]  #realmente tendriamos que cogerlo sobre el profit del año anterior \n",
    "\n",
    "parent_equity_eop=[a+b+c for a,b,c in zip(parent_equity_bop,equity_attrib_to_parent,dividend)]"
   ]
  },
  {
   "cell_type": "code",
   "execution_count": 27,
   "id": "c36fcd25",
   "metadata": {},
   "outputs": [],
   "source": [
    "equity[\"Retained Earnings/Accumulated Deficit\"]=[a for a in parent_equity_eop]"
   ]
  },
  {
   "cell_type": "markdown",
   "id": "c0e8de02",
   "metadata": {},
   "source": [
    "Añadimos el parent equity a \"Retained Earnings/Accumulated Deficit\" y dejamos el resto de columnas como 0"
   ]
  },
  {
   "cell_type": "markdown",
   "id": "6f59278c",
   "metadata": {},
   "source": [
    "### Debt Calculations"
   ]
  },
  {
   "cell_type": "markdown",
   "id": "c9ac38a5",
   "metadata": {},
   "source": [
    "En el caso de la deuda, cada empresa lo reporta de una manera distinta. Para este caso vamos a hacerlo de dos maneras, una customizada a la empresa en cuestión ya que es la que me interesa, y otra general para que se pueda aplicar a cuclaquier empresa. El segundo método lo utilizamos ya que la idea es que nos de una idea general del precio de la empresa mas que un precio exacto."
   ]
  },
  {
   "cell_type": "markdown",
   "id": "8f43672b",
   "metadata": {},
   "source": [
    "#### Caso particular amcx"
   ]
  },
  {
   "cell_type": "markdown",
   "id": "8e350056",
   "metadata": {},
   "source": [
    "En este caso primero vamos a sumar los tipos de deuda por el \"due date\""
   ]
  },
  {
   "cell_type": "code",
   "execution_count": 38,
   "id": "3542ad0f",
   "metadata": {},
   "outputs": [],
   "source": [
    "debt_types=[\"Debt due in Year 1\",\"Debt due in Year 2\",\"Debt due in Year 3\",\"Debt due in Year 4\",\"Debt due in Year 5\"\n",
    "            ,\"Capital Lease due in Year 1\",\"Capital Lease due in Year 2\",\"Capital Lease due in Year 3\"\n",
    "            ,\"Capital Lease due in Year 4\",\"Capital Lease due in Year 5\",]"
   ]
  },
  {
   "cell_type": "code",
   "execution_count": 48,
   "id": "798a3e0a",
   "metadata": {},
   "outputs": [],
   "source": [
    "#debt_year_2021, debt_year_2022, debt_year_2023, debt_year_2024, debt_year_2025=debt_due_year(debt_types,debt_details)"
   ]
  },
  {
   "cell_type": "code",
   "execution_count": 74,
   "id": "bddccccb",
   "metadata": {},
   "outputs": [],
   "source": [
    "debt_maturities=debt_due_year(debt_types,debt_details)"
   ]
  },
  {
   "cell_type": "code",
   "execution_count": 49,
   "id": "df17c71e",
   "metadata": {},
   "outputs": [],
   "source": [
    "total_debt_aot=non_current_liabilities[\"Long Term Debt and Capital Lease Obligation\"][\"2021\"]+current_liabilities[\"Current Portion of Long Term Debt\"][\"2021\"]+current_liabilities[\"Capital Lease Obligations, Current\"][\"2021\"]"
   ]
  },
  {
   "cell_type": "code",
   "execution_count": 106,
   "id": "30a4616e",
   "metadata": {},
   "outputs": [],
   "source": [
    "debt_bop=total_debt_aot\n",
    "debt_eop=[]\n",
    "\n",
    "for i in debt_maturities:\n",
    "\n",
    "    debt_eop.append(debt_bop-i)\n",
    "    debt_bop=debt_bop-i"
   ]
  },
  {
   "cell_type": "code",
   "execution_count": 115,
   "id": "60f09c14",
   "metadata": {},
   "outputs": [],
   "source": [
    "#la short term debt de cada año será la maturity de la debt del año siguiente\n",
    "\n",
    "short_term_debt=list(debt_maturities[1:])\n",
    "short_term_debt.append((debt_maturities)[-1])\n",
    "\n",
    "columns_to_add.append(short_term_debt)"
   ]
  },
  {
   "cell_type": "code",
   "execution_count": 120,
   "id": "3e35970e",
   "metadata": {},
   "outputs": [],
   "source": [
    "#long term debt será la total debt (dept_eop) menos la short term debt\n",
    "\n",
    "long_term_debt=[a-b for a,b in zip(debt_eop,short_term_debt)]\n",
    "columns_to_add.append(long_term_debt)"
   ]
  },
  {
   "cell_type": "code",
   "execution_count": 122,
   "id": "76931681",
   "metadata": {},
   "outputs": [],
   "source": [
    "#calcular el interest rate para sacar el interes expense"
   ]
  },
  {
   "cell_type": "code",
   "execution_count": null,
   "id": "caca0d26",
   "metadata": {},
   "outputs": [],
   "source": []
  }
 ],
 "metadata": {
  "kernelspec": {
   "display_name": "Ironhack",
   "language": "python",
   "name": "ironhack"
  },
  "language_info": {
   "codemirror_mode": {
    "name": "ipython",
    "version": 3
   },
   "file_extension": ".py",
   "mimetype": "text/x-python",
   "name": "python",
   "nbconvert_exporter": "python",
   "pygments_lexer": "ipython3",
   "version": "3.9.7"
  }
 },
 "nbformat": 4,
 "nbformat_minor": 5
}
