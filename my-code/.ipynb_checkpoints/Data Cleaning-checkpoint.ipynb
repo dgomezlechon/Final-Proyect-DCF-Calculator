{
 "cells": [
  {
   "cell_type": "markdown",
   "id": "8ee2f554",
   "metadata": {},
   "source": [
    "## Importing xlsx"
   ]
  },
  {
   "cell_type": "code",
   "execution_count": 1,
   "id": "d93e7b6f",
   "metadata": {},
   "outputs": [
    {
     "name": "stdout",
     "output_type": "stream",
     "text": [
      "Requirement already satisfied: openpyxl in /Users/danigomezlechonbarrachina/opt/anaconda3/envs/Ironhack/lib/python3.9/site-packages (3.0.9)\n",
      "Requirement already satisfied: et-xmlfile in /Users/danigomezlechonbarrachina/opt/anaconda3/envs/Ironhack/lib/python3.9/site-packages (from openpyxl) (1.1.0)\n",
      "Note: you may need to restart the kernel to use updated packages.\n",
      "Requirement already satisfied: xlrd in /Users/danigomezlechonbarrachina/opt/anaconda3/envs/Ironhack/lib/python3.9/site-packages (2.0.1)\n",
      "Note: you may need to restart the kernel to use updated packages.\n"
     ]
    }
   ],
   "source": [
    "%pip install openpyxl\n",
    "%pip install xlrd"
   ]
  },
  {
   "cell_type": "code",
   "execution_count": 2,
   "id": "e99c3216",
   "metadata": {},
   "outputs": [
    {
     "name": "stderr",
     "output_type": "stream",
     "text": [
      "\n",
      "\n",
      "====== WebDriver manager ======\n",
      "Current google-chrome version is 101.0.4951\n",
      "Get LATEST chromedriver version for 101.0.4951 google-chrome\n",
      "Driver [/Users/danigomezlechonbarrachina/.wdm/drivers/chromedriver/mac64/101.0.4951.41/chromedriver] found in cache\n"
     ]
    }
   ],
   "source": [
    "import pandas as pd\n",
    "import numpy as np\n",
    "from apifunctions import *\n",
    "\n",
    "pd.set_option(\"display.max_rows\", None, \"display.max_columns\", None)"
   ]
  },
  {
   "cell_type": "code",
   "execution_count": 3,
   "id": "52302417",
   "metadata": {},
   "outputs": [],
   "source": [
    "wacc=pd.read_excel(\"../data/datos_Bloomberg/wacc.xlsx\")\n",
    "prices=pd.read_excel(\"../data/datos_Bloomberg/prices.xlsx\")\n",
    "sales_growth=pd.read_excel(\"../data/datos_Bloomberg/sales_growth.xlsx\")\n",
    "parameters=pd.read_excel(\"../data/datos_Bloomberg/parameters.xlsx\")"
   ]
  },
  {
   "cell_type": "markdown",
   "id": "3bbd9e52",
   "metadata": {},
   "source": [
    "## ID's as index"
   ]
  },
  {
   "cell_type": "code",
   "execution_count": 4,
   "id": "c8b61a08",
   "metadata": {},
   "outputs": [],
   "source": [
    "datasets=[wacc,prices,sales_growth]\n",
    "\n",
    "for i in datasets:\n",
    "    i.set_index(\"ID\",inplace=True)"
   ]
  },
  {
   "cell_type": "markdown",
   "id": "fed0d473",
   "metadata": {},
   "source": [
    "## Dealing with NANs"
   ]
  },
  {
   "cell_type": "code",
   "execution_count": 5,
   "id": "7fb2e8b4",
   "metadata": {},
   "outputs": [],
   "source": [
    "# We first want to delete the rows which have all NANs for the wacc, prices and sales_growth dataframes\n",
    "\n",
    "datasets=[wacc,prices,sales_growth]\n",
    "\n",
    "for i in datasets:\n",
    "    i.dropna(axis=0, how='all',inplace=True)   "
   ]
  },
  {
   "cell_type": "markdown",
   "id": "e0c77594",
   "metadata": {},
   "source": [
    "#### For simplicity, in prices we are going to delete all the rows that have nans as that means the company was not trading at that point so it wont allow us to do the backtesting:"
   ]
  },
  {
   "cell_type": "code",
   "execution_count": 6,
   "id": "d0d26cfe",
   "metadata": {},
   "outputs": [],
   "source": [
    "prices.dropna(axis=0,inplace=True)"
   ]
  },
  {
   "cell_type": "markdown",
   "id": "355d8a86",
   "metadata": {},
   "source": [
    "#### Now we are going to delete the companies for which we dont have information in one of the three datasets"
   ]
  },
  {
   "cell_type": "code",
   "execution_count": 10,
   "id": "5cbc596a",
   "metadata": {},
   "outputs": [],
   "source": [
    "remove_columns(prices,wacc,sales_growth)\n",
    "remove_columns(prices,wacc,sales_growth)"
   ]
  },
  {
   "cell_type": "markdown",
   "id": "35d5d653",
   "metadata": {},
   "source": [
    "#### To deal with the rest of NANs in wacc and sales_growth we are going to fill them with the average of the values in its time range"
   ]
  },
  {
   "cell_type": "code",
   "execution_count": 20,
   "id": "d4aad56e",
   "metadata": {},
   "outputs": [],
   "source": [
    "fill_na_mean(wacc)\n",
    "fill_na_mean(sales_growth)"
   ]
  },
  {
   "cell_type": "markdown",
   "id": "5389fc44",
   "metadata": {},
   "source": [
    "#### At this point we have cleaned the three dataframes: wacc, prices, sales growth. Now we need to deal with the parameters one"
   ]
  },
  {
   "cell_type": "markdown",
   "id": "b8abfaac",
   "metadata": {},
   "source": [
    "### Parameters dataframe"
   ]
  },
  {
   "cell_type": "code",
   "execution_count": null,
   "id": "a7ebb207",
   "metadata": {},
   "outputs": [],
   "source": []
  }
 ],
 "metadata": {
  "kernelspec": {
   "display_name": "Ironhack",
   "language": "python",
   "name": "ironhack"
  },
  "language_info": {
   "codemirror_mode": {
    "name": "ipython",
    "version": 3
   },
   "file_extension": ".py",
   "mimetype": "text/x-python",
   "name": "python",
   "nbconvert_exporter": "python",
   "pygments_lexer": "ipython3",
   "version": "3.9.7"
  }
 },
 "nbformat": 4,
 "nbformat_minor": 5
}
