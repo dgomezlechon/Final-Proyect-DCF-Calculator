{
 "cells": [
  {
   "cell_type": "code",
   "execution_count": 1,
   "id": "f3220e60",
   "metadata": {},
   "outputs": [],
   "source": [
    "%store -r wacc\n",
    "%store -r prices\n",
    "%store -r sales_growth\n",
    "%store -r parameters_new_t\n",
    "%store -r companies_to_use"
   ]
  },
  {
   "cell_type": "code",
   "execution_count": 2,
   "id": "0e82f1e5",
   "metadata": {},
   "outputs": [
    {
     "name": "stderr",
     "output_type": "stream",
     "text": [
      "\n",
      "\n",
      "====== WebDriver manager ======\n",
      "Current google-chrome version is 101.0.4951\n",
      "Get LATEST chromedriver version for 101.0.4951 google-chrome\n",
      "Driver [/Users/danigomezlechonbarrachina/.wdm/drivers/chromedriver/mac64/101.0.4951.41/chromedriver] found in cache\n"
     ]
    }
   ],
   "source": [
    "import pandas as pd\n",
    "import numpy as np\n",
    "from apifunctions import *\n",
    "import datetime\n",
    "import matplotlib.pyplot as plt\n",
    "from scipy import stats\n",
    "\n",
    "pd.set_option(\"display.max_rows\", None, \"display.max_columns\", None)"
   ]
  },
  {
   "cell_type": "markdown",
   "id": "ebdc915b",
   "metadata": {},
   "source": [
    "#### First we select the year and the list of companies for which we want to calculate the dcf_value and distributions"
   ]
  },
  {
   "cell_type": "code",
   "execution_count": 3,
   "id": "a413fdca",
   "metadata": {},
   "outputs": [],
   "source": [
    "year=\"2021\"\n",
    "companies_to_use=companies_to_use"
   ]
  },
  {
   "cell_type": "markdown",
   "id": "cee4a88b",
   "metadata": {},
   "source": [
    "#### We first get the last year revenue of the companies we are interested in:\n"
   ]
  },
  {
   "cell_type": "code",
   "execution_count": 4,
   "id": "8a37265a",
   "metadata": {},
   "outputs": [],
   "source": [
    "sales_last_year=last_year_rev(companies_to_use,parameters_new_t,year)"
   ]
  },
  {
   "cell_type": "markdown",
   "id": "d92d8601",
   "metadata": {},
   "source": [
    "#### We rename the columns in the sales_growth dataset for simplicity"
   ]
  },
  {
   "cell_type": "code",
   "execution_count": 5,
   "id": "c6c3afb6",
   "metadata": {},
   "outputs": [],
   "source": [
    "sales_growth.columns = ['2010', '2011', '2012', '2013','2014', '2015', '2016', '2017','2018', '2019', '2020', '2021']"
   ]
  },
  {
   "cell_type": "markdown",
   "id": "9789b1f5",
   "metadata": {},
   "source": [
    "#### We put into a list the growth rate we are going to use for the selected companies"
   ]
  },
  {
   "cell_type": "code",
   "execution_count": 6,
   "id": "eb33d105",
   "metadata": {},
   "outputs": [],
   "source": [
    "growth_rate=growth_rate(companies_to_use,sales_growth,year)"
   ]
  },
  {
   "cell_type": "markdown",
   "id": "cddae93f",
   "metadata": {},
   "source": [
    "#### We get the parameters we are going to use for the free cash flow calculations\n"
   ]
  },
  {
   "cell_type": "code",
   "execution_count": null,
   "id": "a47250ff",
   "metadata": {},
   "outputs": [],
   "source": [
    "ebitda_margin,depr_percent,nwc_percent,capex_percent,tax_rate=parameters(companies_to_use,parameters_new_t,year)"
   ]
  },
  {
   "cell_type": "markdown",
   "id": "f745cf26",
   "metadata": {},
   "source": [
    "#### We calculate the free cash flows for the list of companies we have"
   ]
  },
  {
   "cell_type": "code",
   "execution_count": null,
   "id": "130b286e",
   "metadata": {},
   "outputs": [],
   "source": [
    "free_cash_flows=[]\n",
    "for i in range(len(ebitda_margin)):\n",
    "    \n",
    "    free_cash_flows.append(free_cash_flow(growth_rate[i],ebitda_margin[i],depr_percent[i],nwc_percent[i],capex_percent[i],tax_rate[i],sales_last_year[i]))"
   ]
  },
  {
   "cell_type": "markdown",
   "id": "af2bd7fd",
   "metadata": {},
   "source": [
    "#### We calculate the dcf_value for each of the companies:"
   ]
  },
  {
   "cell_type": "code",
   "execution_count": null,
   "id": "8d94de45",
   "metadata": {},
   "outputs": [],
   "source": [
    "wacc.columns = ['2010', '2011', '2012', '2013','2014', '2015', '2016', '2017','2018', '2019', '2020', '2021']"
   ]
  },
  {
   "cell_type": "markdown",
   "id": "2afa6372",
   "metadata": {},
   "source": [
    "#### We calculate the terminal value for each of the companies"
   ]
  },
  {
   "cell_type": "code",
   "execution_count": null,
   "id": "2487e8b8",
   "metadata": {},
   "outputs": [],
   "source": [
    "dcf_values=[]\n",
    "for i in range(len(ebitda_margin)):\n",
    "    \n",
    "    dcf_values.append(terminal_value(wacc[\"2021\"][i],free_cash_flows[i],growth_rate[i]))"
   ]
  },
  {
   "cell_type": "markdown",
   "id": "7efe3b82",
   "metadata": {},
   "source": [
    "#### We iterate 10,000 times the values of sales_growth, ebitda_margin and nwc_percent  using a monte_carlo simulation to get the distribution of the price for each company"
   ]
  },
  {
   "cell_type": "code",
   "execution_count": null,
   "id": "2d53fc4a",
   "metadata": {},
   "outputs": [],
   "source": [
    "output_distribution=[]\n",
    "\n",
    "for j in range(len(companies_to_use)):\n",
    "\n",
    "    \n",
    "    growth_rate_f=growth_rate[j]\n",
    "    ebitda_margin_f=ebitda_margin[j]\n",
    "    depr_percent_f=depr_percent[j]\n",
    "    nwc_percent_f=nwc_percent[j]\n",
    "    capex_percent_f=capex_percent[j]\n",
    "    tax_rate_f=tax_rate[j]\n",
    "    sales_last_year_f=sales_last_year[j]\n",
    "    wacc_f=wacc[year][companies_to_use[j]]\n",
    "    free_cash_flows_f=free_cash_flows[j]\n",
    "\n",
    "    output_distribution.append(run_mcs())\n",
    "    "
   ]
  },
  {
   "cell_type": "code",
   "execution_count": null,
   "id": "82a39759",
   "metadata": {},
   "outputs": [],
   "source": [
    "mode=[]\n",
    "\n",
    "for i in output_distribution:\n",
    "    \n",
    "    mode.append(max(set(i), key=i.count))\n",
    "    plt.hist(i, bins = 20)\n",
    "    plt.show()"
   ]
  },
  {
   "cell_type": "code",
   "execution_count": null,
   "id": "e2e8d8e0",
   "metadata": {},
   "outputs": [],
   "source": [
    "mode"
   ]
  },
  {
   "cell_type": "code",
   "execution_count": null,
   "id": "9d5b7138",
   "metadata": {},
   "outputs": [],
   "source": [
    "#value=stats.mode(output_distribution)"
   ]
  },
  {
   "cell_type": "code",
   "execution_count": null,
   "id": "0fc8422c",
   "metadata": {},
   "outputs": [],
   "source": [
    "max(set(output_distribution), key=output_distribution.count)"
   ]
  },
  {
   "cell_type": "code",
   "execution_count": null,
   "id": "2f64147b",
   "metadata": {},
   "outputs": [],
   "source": []
  }
 ],
 "metadata": {
  "kernelspec": {
   "display_name": "Ironhack",
   "language": "python",
   "name": "ironhack"
  },
  "language_info": {
   "codemirror_mode": {
    "name": "ipython",
    "version": 3
   },
   "file_extension": ".py",
   "mimetype": "text/x-python",
   "name": "python",
   "nbconvert_exporter": "python",
   "pygments_lexer": "ipython3",
   "version": "3.9.7"
  }
 },
 "nbformat": 4,
 "nbformat_minor": 5
}
