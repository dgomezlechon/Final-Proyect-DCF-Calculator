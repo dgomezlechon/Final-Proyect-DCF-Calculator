{
 "cells": [
  {
   "cell_type": "code",
   "execution_count": 1,
   "id": "0b4c1baf",
   "metadata": {},
   "outputs": [],
   "source": [
    "%store -r wacc\n",
    "%store -r prices\n",
    "%store -r sales_growth\n",
    "%store -r parameters_new_t\n",
    "%store -r companies_to_use"
   ]
  },
  {
   "cell_type": "code",
   "execution_count": 2,
   "id": "23d6fc0e",
   "metadata": {},
   "outputs": [
    {
     "name": "stderr",
     "output_type": "stream",
     "text": [
      "\n",
      "\n",
      "====== WebDriver manager ======\n",
      "Current google-chrome version is 101.0.4951\n",
      "Get LATEST chromedriver version for 101.0.4951 google-chrome\n",
      "Driver [/Users/danigomezlechonbarrachina/.wdm/drivers/chromedriver/mac64/101.0.4951.41/chromedriver] found in cache\n"
     ]
    }
   ],
   "source": [
    "import pandas as pd\n",
    "import numpy as np\n",
    "from apifunctions import *\n",
    "import datetime\n",
    "\n",
    "pd.set_option(\"display.max_rows\", None, \"display.max_columns\", None)"
   ]
  },
  {
   "cell_type": "markdown",
   "id": "16f60795",
   "metadata": {},
   "source": [
    "#### We first get the last year revenue of the companies we are interested in:\n"
   ]
  },
  {
   "cell_type": "code",
   "execution_count": 3,
   "id": "b644a8e8",
   "metadata": {},
   "outputs": [],
   "source": [
    "sales_last_year=last_year_rev(companies_to_use,parameters_new_t)"
   ]
  },
  {
   "cell_type": "markdown",
   "id": "d3439314",
   "metadata": {},
   "source": [
    "#### We rename the columns in the sales_growth dataset for simplicity"
   ]
  },
  {
   "cell_type": "code",
   "execution_count": 4,
   "id": "275201d3",
   "metadata": {},
   "outputs": [],
   "source": [
    "sales_growth.columns = ['2010', '2011', '2012', '2013','2014', '2015', '2016', '2017','2018', '2019', '2020', '2021']"
   ]
  },
  {
   "cell_type": "markdown",
   "id": "8fc2a418",
   "metadata": {},
   "source": [
    "#### We put into a list the growth rate we are going to use for the selected companies"
   ]
  },
  {
   "cell_type": "code",
   "execution_count": 5,
   "id": "96871763",
   "metadata": {},
   "outputs": [],
   "source": [
    "growth_rate=growth_rate(companies_to_use,sales_growth)"
   ]
  },
  {
   "cell_type": "code",
   "execution_count": 6,
   "id": "e60df791",
   "metadata": {},
   "outputs": [],
   "source": [
    "#parameters_new_t"
   ]
  },
  {
   "cell_type": "markdown",
   "id": "15f5f04e",
   "metadata": {},
   "source": [
    "#### We get the parameters we are going to use for the free cash flow calculations\n"
   ]
  },
  {
   "cell_type": "code",
   "execution_count": 7,
   "id": "fd064e15",
   "metadata": {},
   "outputs": [],
   "source": [
    "ebitda_margin,depr_percent,nwc_percent,capex_percent,tax_rate=parameters(companies_to_use,parameters_new_t)"
   ]
  },
  {
   "cell_type": "code",
   "execution_count": 8,
   "id": "489f3c0c",
   "metadata": {},
   "outputs": [
    {
     "data": {
      "text/plain": [
       "float"
      ]
     },
     "execution_count": 8,
     "metadata": {},
     "output_type": "execute_result"
    }
   ],
   "source": [
    "type(ebitda_margin[0])"
   ]
  },
  {
   "cell_type": "code",
   "execution_count": 9,
   "id": "fe8385ed",
   "metadata": {},
   "outputs": [],
   "source": [
    "#growth_rate=growth_rate[0]\n",
    "#ebitda_margin=ebitda_margin[0]\n",
    "#depr_percent=depr_percent[0]\n",
    "#nwc_percent=nwc_percent[0]\n",
    "#capex_percent=capex_percent[0]\n",
    "#tax_rate=tax_rate[0]\n",
    "#sales_last_year=sales_last_year[0]"
   ]
  },
  {
   "cell_type": "code",
   "execution_count": 10,
   "id": "326be32d",
   "metadata": {},
   "outputs": [
    {
     "data": {
      "text/plain": [
       "list"
      ]
     },
     "execution_count": 10,
     "metadata": {},
     "output_type": "execute_result"
    }
   ],
   "source": [
    "type(ebitda_margin)"
   ]
  },
  {
   "cell_type": "code",
   "execution_count": 11,
   "id": "ea3575b1",
   "metadata": {},
   "outputs": [],
   "source": [
    "free_cash_flows=[]\n",
    "for i in range(len(ebitda_margin)):\n",
    "    \n",
    "    free_cash_flows.append(free_cash_flow(growth_rate[i],ebitda_margin[i],depr_percent[i],nwc_percent[i],capex_percent[i],tax_rate[i],sales_last_year[i]))"
   ]
  },
  {
   "cell_type": "code",
   "execution_count": null,
   "id": "3603615a",
   "metadata": {},
   "outputs": [],
   "source": []
  }
 ],
 "metadata": {
  "kernelspec": {
   "display_name": "Ironhack",
   "language": "python",
   "name": "ironhack"
  },
  "language_info": {
   "codemirror_mode": {
    "name": "ipython",
    "version": 3
   },
   "file_extension": ".py",
   "mimetype": "text/x-python",
   "name": "python",
   "nbconvert_exporter": "python",
   "pygments_lexer": "ipython3",
   "version": "3.9.7"
  }
 },
 "nbformat": 4,
 "nbformat_minor": 5
}
