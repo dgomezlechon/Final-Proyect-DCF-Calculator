{
 "cells": [
  {
   "cell_type": "code",
   "execution_count": 1,
   "id": "51eb4713",
   "metadata": {},
   "outputs": [
    {
     "name": "stdout",
     "output_type": "stream",
     "text": [
      "Requirement already satisfied: matplotlib in /Users/danigomezlechonbarrachina/opt/anaconda3/envs/Ironhack/lib/python3.9/site-packages (3.5.1)\n",
      "Requirement already satisfied: pyparsing>=2.2.1 in /Users/danigomezlechonbarrachina/opt/anaconda3/envs/Ironhack/lib/python3.9/site-packages (from matplotlib) (3.0.7)\n",
      "Requirement already satisfied: numpy>=1.17 in /Users/danigomezlechonbarrachina/opt/anaconda3/envs/Ironhack/lib/python3.9/site-packages (from matplotlib) (1.21.6)\n",
      "Requirement already satisfied: fonttools>=4.22.0 in /Users/danigomezlechonbarrachina/opt/anaconda3/envs/Ironhack/lib/python3.9/site-packages (from matplotlib) (4.25.0)\n",
      "Requirement already satisfied: pillow>=6.2.0 in /Users/danigomezlechonbarrachina/opt/anaconda3/envs/Ironhack/lib/python3.9/site-packages (from matplotlib) (9.0.1)\n",
      "Requirement already satisfied: python-dateutil>=2.7 in /Users/danigomezlechonbarrachina/opt/anaconda3/envs/Ironhack/lib/python3.9/site-packages (from matplotlib) (2.8.2)\n",
      "Requirement already satisfied: kiwisolver>=1.0.1 in /Users/danigomezlechonbarrachina/opt/anaconda3/envs/Ironhack/lib/python3.9/site-packages (from matplotlib) (1.3.2)\n",
      "Requirement already satisfied: packaging>=20.0 in /Users/danigomezlechonbarrachina/opt/anaconda3/envs/Ironhack/lib/python3.9/site-packages (from matplotlib) (21.3)\n",
      "Requirement already satisfied: cycler>=0.10 in /Users/danigomezlechonbarrachina/opt/anaconda3/envs/Ironhack/lib/python3.9/site-packages (from matplotlib) (0.11.0)\n",
      "Requirement already satisfied: six>=1.5 in /Users/danigomezlechonbarrachina/opt/anaconda3/envs/Ironhack/lib/python3.9/site-packages (from python-dateutil>=2.7->matplotlib) (1.16.0)\n",
      "Note: you may need to restart the kernel to use updated packages.\n"
     ]
    }
   ],
   "source": [
    "%pip install matplotlib"
   ]
  },
  {
   "cell_type": "code",
   "execution_count": 2,
   "id": "3b6d3285",
   "metadata": {},
   "outputs": [],
   "source": [
    "import pandas as pd\n",
    "import numpy as np\n",
    "from apifunctions import *\n",
    "\n",
    "import matplotlib.pyplot as plt\n",
    "from scipy import stats\n",
    "import streamlit as st\n",
    "\n",
    "pd.set_option(\"display.max_rows\", None, \"display.max_columns\", None)"
   ]
  },
  {
   "cell_type": "code",
   "execution_count": 3,
   "id": "d5773c1f",
   "metadata": {},
   "outputs": [],
   "source": [
    "wacc=pd.read_csv(\"../data/wacc.csv\",index_col = 'ID')\n",
    "prices=pd.read_csv(\"../data/prices.csv\")\n",
    "sales_growth=pd.read_csv(\"../data/sales_growth.csv\", index_col = 'ID')\n",
    "parameters_new_t=pd.read_csv(\"../data/parameters_new_t.csv\")\n",
    "companies_to_use=pd.read_csv(\"../data/companies_to_use.csv\")\n",
    "market_cap=pd.read_csv(\"../data/market_cap.csv\",index_col = 'ID')\n",
    "shares_outstanding=pd.read_csv(\"../data/shares_outstanding.csv\",index_col = 'ID')"
   ]
  },
  {
   "cell_type": "code",
   "execution_count": 4,
   "id": "04e51cba",
   "metadata": {},
   "outputs": [],
   "source": [
    "companies_to_use=companies_to_use['0'].values.tolist()"
   ]
  },
  {
   "cell_type": "markdown",
   "id": "b614e25a",
   "metadata": {},
   "source": [
    "#### First we select the year and the list of companies for which we want to calculate the dcf_value and distributions"
   ]
  },
  {
   "cell_type": "code",
   "execution_count": 5,
   "id": "b8bfdc7d",
   "metadata": {},
   "outputs": [],
   "source": [
    "year=\"2021\"\n",
    "companies_to_use=companies_to_use"
   ]
  },
  {
   "cell_type": "markdown",
   "id": "dc31efde",
   "metadata": {},
   "source": [
    "#### We first get the last year revenue of the companies we are interested in:\n"
   ]
  },
  {
   "cell_type": "code",
   "execution_count": 6,
   "id": "917bda27",
   "metadata": {},
   "outputs": [],
   "source": [
    "sales_last_year=last_year_rev(companies_to_use,parameters_new_t,year)"
   ]
  },
  {
   "cell_type": "markdown",
   "id": "60600034",
   "metadata": {},
   "source": [
    "#### We rename the columns in the sales_growth dataset for simplicity"
   ]
  },
  {
   "cell_type": "code",
   "execution_count": 7,
   "id": "e58c3ed7",
   "metadata": {},
   "outputs": [],
   "source": [
    "sales_growth.columns = ['2010', '2011', '2012', '2013','2014', '2015', '2016', '2017','2018', '2019', '2020', '2021']"
   ]
  },
  {
   "cell_type": "markdown",
   "id": "5cbb049c",
   "metadata": {},
   "source": [
    "#### We put into a list the growth rate we are going to use for the selected companies"
   ]
  },
  {
   "cell_type": "code",
   "execution_count": 8,
   "id": "d4ef5b96",
   "metadata": {},
   "outputs": [],
   "source": [
    "growth_rate=growth_rate(companies_to_use,sales_growth,year)"
   ]
  },
  {
   "cell_type": "markdown",
   "id": "f627a9e4",
   "metadata": {},
   "source": [
    "#### We get the parameters we are going to use for the free cash flow calculations\n"
   ]
  },
  {
   "cell_type": "code",
   "execution_count": 9,
   "id": "3bc8f4ca",
   "metadata": {},
   "outputs": [],
   "source": [
    "ebitda_margin,depr_percent,nwc_percent,capex_percent,tax_rate=parameters(companies_to_use,parameters_new_t,year)"
   ]
  },
  {
   "cell_type": "markdown",
   "id": "a30ee625",
   "metadata": {},
   "source": [
    "#### We calculate the free cash flows for the list of companies we have"
   ]
  },
  {
   "cell_type": "code",
   "execution_count": 11,
   "id": "162653a1",
   "metadata": {},
   "outputs": [],
   "source": [
    "free_cash_flows=[]\n",
    "for i in range(len(ebitda_margin)):\n",
    "    \n",
    "    free_cash_flows.append(free_cash_flow(growth_rate[i],ebitda_margin[i],depr_percent[i],nwc_percent[i],capex_percent[i],tax_rate[i],sales_last_year[i],year))"
   ]
  },
  {
   "cell_type": "markdown",
   "id": "69ac159b",
   "metadata": {},
   "source": [
    "#### we set the cash flows as dataframes so that we can plot them separately afterwards"
   ]
  },
  {
   "cell_type": "code",
   "execution_count": 15,
   "id": "39274d4f",
   "metadata": {},
   "outputs": [],
   "source": [
    "data=pd.DataFrame(free_cash_flows[1])\n",
    "data.rename(columns={0: \"Free Cash Flow\"}, inplace=True)\n",
    "\n"
   ]
  },
  {
   "cell_type": "markdown",
   "id": "65f393dd",
   "metadata": {},
   "source": [
    "#### We calculate the dcf_value for each of the companies:"
   ]
  },
  {
   "cell_type": "code",
   "execution_count": 16,
   "id": "76d7cde3",
   "metadata": {},
   "outputs": [],
   "source": [
    "wacc.columns = ['2010', '2011', '2012', '2013','2014', '2015', '2016', '2017','2018', '2019', '2020', '2021']"
   ]
  },
  {
   "cell_type": "markdown",
   "id": "f25addf9",
   "metadata": {},
   "source": [
    "#### We calculate the terminal value for each of the companies"
   ]
  },
  {
   "cell_type": "code",
   "execution_count": 17,
   "id": "3caeb7be",
   "metadata": {},
   "outputs": [],
   "source": [
    "dcf_values=[]\n",
    "for i in range(len(ebitda_margin)):\n",
    "    \n",
    "    dcf_values.append(terminal_value(wacc[\"2021\"][i],free_cash_flows[i],growth_rate[i]))"
   ]
  },
  {
   "cell_type": "markdown",
   "id": "f4564147",
   "metadata": {},
   "source": [
    "#### We iterate 10,000 times the values of sales_growth, ebitda_margin and nwc_percent  using a monte_carlo simulation to get the distribution of the price for each company"
   ]
  },
  {
   "cell_type": "code",
   "execution_count": null,
   "id": "e4c30864",
   "metadata": {},
   "outputs": [],
   "source": [
    "output_distribution=[]\n",
    "\n",
    "for j in range(len(companies_to_use)):\n",
    "\n",
    "    \n",
    "    growth_rate_f=growth_rate[j]\n",
    "    ebitda_margin_f=ebitda_margin[j]\n",
    "    depr_percent_f=depr_percent[j]\n",
    "    nwc_percent_f=nwc_percent[j]\n",
    "    capex_percent_f=capex_percent[j]\n",
    "    tax_rate_f=tax_rate[j]\n",
    "    sales_last_year_f=sales_last_year[j]\n",
    "    wacc_f=wacc[year][companies_to_use[j]]\n",
    "    free_cash_flows_f=free_cash_flows[j]\n",
    "\n",
    "    output_distribution.append(run_mcs(growth_rate_f,ebitda_margin_f,depr_percent_f,nwc_percent_f,capex_percent_f,tax_rate_f,sales_last_year_f,wacc_f,free_cash_flows_f))\n",
    "    "
   ]
  },
  {
   "cell_type": "code",
   "execution_count": null,
   "id": "86099eaa",
   "metadata": {},
   "outputs": [],
   "source": [
    "mode=[]\n",
    "\n",
    "for i in output_distribution:\n",
    "    \n",
    "    mode.append(max(set(i), key=i.count))\n",
    "    plt.hist(i, bins = 20)\n",
    "    plt.show()"
   ]
  },
  {
   "cell_type": "code",
   "execution_count": null,
   "id": "bcb165d6",
   "metadata": {},
   "outputs": [],
   "source": []
  }
 ],
 "metadata": {
  "kernelspec": {
   "display_name": "Ironhack",
   "language": "python",
   "name": "ironhack"
  },
  "language_info": {
   "codemirror_mode": {
    "name": "ipython",
    "version": 3
   },
   "file_extension": ".py",
   "mimetype": "text/x-python",
   "name": "python",
   "nbconvert_exporter": "python",
   "pygments_lexer": "ipython3",
   "version": "3.9.7"
  }
 },
 "nbformat": 4,
 "nbformat_minor": 5
}
