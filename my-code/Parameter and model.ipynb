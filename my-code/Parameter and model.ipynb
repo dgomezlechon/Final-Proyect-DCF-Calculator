{
 "cells": [
  {
   "cell_type": "code",
   "execution_count": 1,
   "id": "c416b518",
   "metadata": {},
   "outputs": [],
   "source": [
    "%store -r wacc\n",
    "%store -r prices\n",
    "%store -r sales_growth\n",
    "%store -r parameters_new_t\n",
    "%store -r companies_to_use"
   ]
  },
  {
   "cell_type": "code",
   "execution_count": 2,
   "id": "9eadb58a",
   "metadata": {},
   "outputs": [
    {
     "name": "stderr",
     "output_type": "stream",
     "text": [
      "\n",
      "\n",
      "====== WebDriver manager ======\n",
      "Current google-chrome version is 101.0.4951\n",
      "Get LATEST chromedriver version for 101.0.4951 google-chrome\n",
      "Driver [/Users/danigomezlechonbarrachina/.wdm/drivers/chromedriver/mac64/101.0.4951.41/chromedriver] found in cache\n"
     ]
    }
   ],
   "source": [
    "import pandas as pd\n",
    "import numpy as np\n",
    "from apifunctions import *\n",
    "import datetime\n",
    "import matplotlib.pyplot as plt\n",
    "from scipy import stats\n",
    "\n",
    "pd.set_option(\"display.max_rows\", None, \"display.max_columns\", None)"
   ]
  },
  {
   "cell_type": "markdown",
   "id": "5385ad2e",
   "metadata": {},
   "source": [
    "#### First we select the year and the list of companies for which we want to calculate the dcf_value and distributions"
   ]
  },
  {
   "cell_type": "code",
   "execution_count": 3,
   "id": "ab052c72",
   "metadata": {},
   "outputs": [],
   "source": [
    "year=\"2021\"\n",
    "companies_to_use=companies_to_use"
   ]
  },
  {
   "cell_type": "markdown",
   "id": "d7e4dcaa",
   "metadata": {},
   "source": [
    "#### We first get the last year revenue of the companies we are interested in:\n"
   ]
  },
  {
   "cell_type": "code",
   "execution_count": 4,
   "id": "b2195fc4",
   "metadata": {},
   "outputs": [],
   "source": [
    "sales_last_year=last_year_rev(companies_to_use,parameters_new_t,year)"
   ]
  },
  {
   "cell_type": "markdown",
   "id": "40a266f4",
   "metadata": {},
   "source": [
    "#### We rename the columns in the sales_growth dataset for simplicity"
   ]
  },
  {
   "cell_type": "code",
   "execution_count": 5,
   "id": "b4066078",
   "metadata": {},
   "outputs": [],
   "source": [
    "sales_growth.columns = ['2010', '2011', '2012', '2013','2014', '2015', '2016', '2017','2018', '2019', '2020', '2021']"
   ]
  },
  {
   "cell_type": "markdown",
   "id": "5134fc4b",
   "metadata": {},
   "source": [
    "#### We put into a list the growth rate we are going to use for the selected companies"
   ]
  },
  {
   "cell_type": "code",
   "execution_count": 6,
   "id": "5093eb7c",
   "metadata": {},
   "outputs": [],
   "source": [
    "growth_rate=growth_rate(companies_to_use,sales_growth,year)"
   ]
  },
  {
   "cell_type": "markdown",
   "id": "f26c55fe",
   "metadata": {},
   "source": [
    "#### We get the parameters we are going to use for the free cash flow calculations\n"
   ]
  },
  {
   "cell_type": "code",
   "execution_count": 7,
   "id": "410a6261",
   "metadata": {},
   "outputs": [],
   "source": [
    "ebitda_margin,depr_percent,nwc_percent,capex_percent,tax_rate=parameters(companies_to_use,parameters_new_t,year)"
   ]
  },
  {
   "cell_type": "markdown",
   "id": "3b5c0507",
   "metadata": {},
   "source": [
    "#### We calculate the free cash flows for the list of companies we have"
   ]
  },
  {
   "cell_type": "code",
   "execution_count": 8,
   "id": "ed0a9c16",
   "metadata": {},
   "outputs": [],
   "source": [
    "free_cash_flows=[]\n",
    "for i in range(len(ebitda_margin)):\n",
    "    \n",
    "    free_cash_flows.append(free_cash_flow(growth_rate[i],ebitda_margin[i],depr_percent[i],nwc_percent[i],capex_percent[i],tax_rate[i],sales_last_year[i]))"
   ]
  },
  {
   "cell_type": "markdown",
   "id": "7236cf49",
   "metadata": {},
   "source": [
    "#### We calculate the dcf_value for each of the companies:"
   ]
  },
  {
   "cell_type": "code",
   "execution_count": 9,
   "id": "feadfe1e",
   "metadata": {},
   "outputs": [],
   "source": [
    "wacc.columns = ['2010', '2011', '2012', '2013','2014', '2015', '2016', '2017','2018', '2019', '2020', '2021']"
   ]
  },
  {
   "cell_type": "markdown",
   "id": "6d4bfad2",
   "metadata": {},
   "source": [
    "#### We calculate the terminal value for each of the companies"
   ]
  },
  {
   "cell_type": "code",
   "execution_count": 10,
   "id": "124471f5",
   "metadata": {},
   "outputs": [],
   "source": [
    "dcf_values=[]\n",
    "for i in range(len(ebitda_margin)):\n",
    "    \n",
    "    dcf_values.append(terminal_value(wacc[\"2021\"][i],free_cash_flows[i],growth_rate[i]))"
   ]
  },
  {
   "cell_type": "markdown",
   "id": "8b6541b8",
   "metadata": {},
   "source": [
    "#### We iterate 10,000 times the values of sales_growth, ebitda_margin and nwc_percent  using a monte_carlo simulation to get the distribution of the price for each company"
   ]
  },
  {
   "cell_type": "code",
   "execution_count": 11,
   "id": "e3fe7e38",
   "metadata": {},
   "outputs": [
    {
     "ename": "KeyboardInterrupt",
     "evalue": "",
     "output_type": "error",
     "traceback": [
      "\u001b[0;31m---------------------------------------------------------------------------\u001b[0m",
      "\u001b[0;31mKeyboardInterrupt\u001b[0m                         Traceback (most recent call last)",
      "Input \u001b[0;32mIn [11]\u001b[0m, in \u001b[0;36m<cell line: 3>\u001b[0;34m()\u001b[0m\n\u001b[1;32m     13\u001b[0m wacc_f\u001b[38;5;241m=\u001b[39mwacc[year][companies_to_use[j]]\n\u001b[1;32m     14\u001b[0m free_cash_flows_f\u001b[38;5;241m=\u001b[39mfree_cash_flows[j]\n\u001b[0;32m---> 16\u001b[0m output_distribution\u001b[38;5;241m.\u001b[39mappend(\u001b[43mrun_mcs\u001b[49m\u001b[43m(\u001b[49m\u001b[43mgrowth_rate_f\u001b[49m\u001b[43m,\u001b[49m\u001b[43mebitda_margin_f\u001b[49m\u001b[43m,\u001b[49m\u001b[43mdepr_percent_f\u001b[49m\u001b[43m,\u001b[49m\u001b[43mnwc_percent_f\u001b[49m\u001b[43m,\u001b[49m\u001b[43mcapex_percent_f\u001b[49m\u001b[43m,\u001b[49m\u001b[43mtax_rate_f\u001b[49m\u001b[43m,\u001b[49m\u001b[43msales_last_year_f\u001b[49m\u001b[43m,\u001b[49m\u001b[43mwacc_f\u001b[49m\u001b[43m,\u001b[49m\u001b[43mfree_cash_flows_f\u001b[49m\u001b[43m)\u001b[49m)\n",
      "File \u001b[0;32m~/Desktop/Ironhack/Final-Proyect-DCF-Calculator/my-code/apifunctions.py:400\u001b[0m, in \u001b[0;36mrun_mcs\u001b[0;34m(growth_rate_f, ebitda_margin_f, depr_percent_f, nwc_percent_f, capex_percent_f, tax_rate_f, sales_last_year_f, wacc_f, free_cash_flows_f)\u001b[0m\n\u001b[1;32m    398\u001b[0m change_in_nwc\u001b[38;5;241m=\u001b[39msales\u001b[38;5;241m*\u001b[39mnwc_percent_dist[i]\n\u001b[1;32m    399\u001b[0m capex\u001b[38;5;241m=\u001b[39m\u001b[38;5;241m-\u001b[39m(sales\u001b[38;5;241m*\u001b[39m(capex_percent_f\u001b[38;5;241m/\u001b[39m\u001b[38;5;241m100\u001b[39m))\n\u001b[0;32m--> 400\u001b[0m tax_payment \u001b[38;5;241m=\u001b[39m \u001b[38;5;241;43m-\u001b[39;49m\u001b[43mebit\u001b[49m\u001b[43m \u001b[49m\u001b[38;5;241;43m*\u001b[39;49m\u001b[43m \u001b[49m\u001b[43m(\u001b[49m\u001b[43mtax_rate_f\u001b[49m\u001b[38;5;241;43m/\u001b[39;49m\u001b[38;5;241;43m100\u001b[39;49m\u001b[43m)\u001b[49m\n\u001b[1;32m    401\u001b[0m tax_payment \u001b[38;5;241m=\u001b[39m tax_payment\u001b[38;5;241m.\u001b[39mapply(\u001b[38;5;28;01mlambda\u001b[39;00m x: \u001b[38;5;28mmin\u001b[39m(x, \u001b[38;5;241m0\u001b[39m))\n\u001b[1;32m    402\u001b[0m free_cash_flow \u001b[38;5;241m=\u001b[39m ebit \u001b[38;5;241m+\u001b[39m depreciation \u001b[38;5;241m+\u001b[39m tax_payment \u001b[38;5;241m+\u001b[39m capex \u001b[38;5;241m+\u001b[39m change_in_nwc\n",
      "File \u001b[0;32m~/opt/anaconda3/envs/Ironhack/lib/python3.9/site-packages/pandas/core/ops/common.py:70\u001b[0m, in \u001b[0;36m_unpack_zerodim_and_defer.<locals>.new_method\u001b[0;34m(self, other)\u001b[0m\n\u001b[1;32m     66\u001b[0m             \u001b[38;5;28;01mreturn\u001b[39;00m \u001b[38;5;28mNotImplemented\u001b[39m\n\u001b[1;32m     68\u001b[0m other \u001b[38;5;241m=\u001b[39m item_from_zerodim(other)\n\u001b[0;32m---> 70\u001b[0m \u001b[38;5;28;01mreturn\u001b[39;00m \u001b[43mmethod\u001b[49m\u001b[43m(\u001b[49m\u001b[38;5;28;43mself\u001b[39;49m\u001b[43m,\u001b[49m\u001b[43m \u001b[49m\u001b[43mother\u001b[49m\u001b[43m)\u001b[49m\n",
      "File \u001b[0;32m~/opt/anaconda3/envs/Ironhack/lib/python3.9/site-packages/pandas/core/arraylike.py:116\u001b[0m, in \u001b[0;36mOpsMixin.__mul__\u001b[0;34m(self, other)\u001b[0m\n\u001b[1;32m    114\u001b[0m \u001b[38;5;129m@unpack_zerodim_and_defer\u001b[39m(\u001b[38;5;124m\"\u001b[39m\u001b[38;5;124m__mul__\u001b[39m\u001b[38;5;124m\"\u001b[39m)\n\u001b[1;32m    115\u001b[0m \u001b[38;5;28;01mdef\u001b[39;00m \u001b[38;5;21m__mul__\u001b[39m(\u001b[38;5;28mself\u001b[39m, other):\n\u001b[0;32m--> 116\u001b[0m     \u001b[38;5;28;01mreturn\u001b[39;00m \u001b[38;5;28;43mself\u001b[39;49m\u001b[38;5;241;43m.\u001b[39;49m\u001b[43m_arith_method\u001b[49m\u001b[43m(\u001b[49m\u001b[43mother\u001b[49m\u001b[43m,\u001b[49m\u001b[43m \u001b[49m\u001b[43moperator\u001b[49m\u001b[38;5;241;43m.\u001b[39;49m\u001b[43mmul\u001b[49m\u001b[43m)\u001b[49m\n",
      "File \u001b[0;32m~/opt/anaconda3/envs/Ironhack/lib/python3.9/site-packages/pandas/core/series.py:5639\u001b[0m, in \u001b[0;36mSeries._arith_method\u001b[0;34m(self, other, op)\u001b[0m\n\u001b[1;32m   5637\u001b[0m \u001b[38;5;28;01mdef\u001b[39;00m \u001b[38;5;21m_arith_method\u001b[39m(\u001b[38;5;28mself\u001b[39m, other, op):\n\u001b[1;32m   5638\u001b[0m     \u001b[38;5;28mself\u001b[39m, other \u001b[38;5;241m=\u001b[39m ops\u001b[38;5;241m.\u001b[39malign_method_SERIES(\u001b[38;5;28mself\u001b[39m, other)\n\u001b[0;32m-> 5639\u001b[0m     \u001b[38;5;28;01mreturn\u001b[39;00m \u001b[43mbase\u001b[49m\u001b[38;5;241;43m.\u001b[39;49m\u001b[43mIndexOpsMixin\u001b[49m\u001b[38;5;241;43m.\u001b[39;49m\u001b[43m_arith_method\u001b[49m\u001b[43m(\u001b[49m\u001b[38;5;28;43mself\u001b[39;49m\u001b[43m,\u001b[49m\u001b[43m \u001b[49m\u001b[43mother\u001b[49m\u001b[43m,\u001b[49m\u001b[43m \u001b[49m\u001b[43mop\u001b[49m\u001b[43m)\u001b[49m\n",
      "File \u001b[0;32m~/opt/anaconda3/envs/Ironhack/lib/python3.9/site-packages/pandas/core/base.py:1297\u001b[0m, in \u001b[0;36mIndexOpsMixin._arith_method\u001b[0;34m(self, other, op)\u001b[0m\n\u001b[1;32m   1294\u001b[0m \u001b[38;5;28;01mwith\u001b[39;00m np\u001b[38;5;241m.\u001b[39merrstate(\u001b[38;5;28mall\u001b[39m\u001b[38;5;241m=\u001b[39m\u001b[38;5;124m\"\u001b[39m\u001b[38;5;124mignore\u001b[39m\u001b[38;5;124m\"\u001b[39m):\n\u001b[1;32m   1295\u001b[0m     result \u001b[38;5;241m=\u001b[39m ops\u001b[38;5;241m.\u001b[39marithmetic_op(lvalues, rvalues, op)\n\u001b[0;32m-> 1297\u001b[0m \u001b[38;5;28;01mreturn\u001b[39;00m \u001b[38;5;28;43mself\u001b[39;49m\u001b[38;5;241;43m.\u001b[39;49m\u001b[43m_construct_result\u001b[49m\u001b[43m(\u001b[49m\u001b[43mresult\u001b[49m\u001b[43m,\u001b[49m\u001b[43m \u001b[49m\u001b[43mname\u001b[49m\u001b[38;5;241;43m=\u001b[39;49m\u001b[43mres_name\u001b[49m\u001b[43m)\u001b[49m\n",
      "File \u001b[0;32m~/opt/anaconda3/envs/Ironhack/lib/python3.9/site-packages/pandas/core/series.py:3017\u001b[0m, in \u001b[0;36mSeries._construct_result\u001b[0;34m(self, result, name)\u001b[0m\n\u001b[1;32m   3013\u001b[0m     \u001b[38;5;28;01mreturn\u001b[39;00m (res1, res2)\n\u001b[1;32m   3015\u001b[0m \u001b[38;5;66;03m# We do not pass dtype to ensure that the Series constructor\u001b[39;00m\n\u001b[1;32m   3016\u001b[0m \u001b[38;5;66;03m#  does inference in the case where `result` has object-dtype.\u001b[39;00m\n\u001b[0;32m-> 3017\u001b[0m out \u001b[38;5;241m=\u001b[39m \u001b[38;5;28;43mself\u001b[39;49m\u001b[38;5;241;43m.\u001b[39;49m\u001b[43m_constructor\u001b[49m\u001b[43m(\u001b[49m\u001b[43mresult\u001b[49m\u001b[43m,\u001b[49m\u001b[43m \u001b[49m\u001b[43mindex\u001b[49m\u001b[38;5;241;43m=\u001b[39;49m\u001b[38;5;28;43mself\u001b[39;49m\u001b[38;5;241;43m.\u001b[39;49m\u001b[43mindex\u001b[49m\u001b[43m)\u001b[49m\n\u001b[1;32m   3018\u001b[0m out \u001b[38;5;241m=\u001b[39m out\u001b[38;5;241m.\u001b[39m__finalize__(\u001b[38;5;28mself\u001b[39m)\n\u001b[1;32m   3020\u001b[0m \u001b[38;5;66;03m# Set the result's name after __finalize__ is called because __finalize__\u001b[39;00m\n\u001b[1;32m   3021\u001b[0m \u001b[38;5;66;03m#  would set it back to self.name\u001b[39;00m\n",
      "File \u001b[0;32m~/opt/anaconda3/envs/Ironhack/lib/python3.9/site-packages/pandas/core/series.py:455\u001b[0m, in \u001b[0;36mSeries.__init__\u001b[0;34m(self, data, index, dtype, name, copy, fastpath)\u001b[0m\n\u001b[1;32m    453\u001b[0m manager \u001b[38;5;241m=\u001b[39m get_option(\u001b[38;5;124m\"\u001b[39m\u001b[38;5;124mmode.data_manager\u001b[39m\u001b[38;5;124m\"\u001b[39m)\n\u001b[1;32m    454\u001b[0m \u001b[38;5;28;01mif\u001b[39;00m manager \u001b[38;5;241m==\u001b[39m \u001b[38;5;124m\"\u001b[39m\u001b[38;5;124mblock\u001b[39m\u001b[38;5;124m\"\u001b[39m:\n\u001b[0;32m--> 455\u001b[0m     data \u001b[38;5;241m=\u001b[39m \u001b[43mSingleBlockManager\u001b[49m\u001b[38;5;241;43m.\u001b[39;49m\u001b[43mfrom_array\u001b[49m\u001b[43m(\u001b[49m\u001b[43mdata\u001b[49m\u001b[43m,\u001b[49m\u001b[43m \u001b[49m\u001b[43mindex\u001b[49m\u001b[43m)\u001b[49m\n\u001b[1;32m    456\u001b[0m \u001b[38;5;28;01melif\u001b[39;00m manager \u001b[38;5;241m==\u001b[39m \u001b[38;5;124m\"\u001b[39m\u001b[38;5;124marray\u001b[39m\u001b[38;5;124m\"\u001b[39m:\n\u001b[1;32m    457\u001b[0m     data \u001b[38;5;241m=\u001b[39m SingleArrayManager\u001b[38;5;241m.\u001b[39mfrom_array(data, index)\n",
      "File \u001b[0;32m~/opt/anaconda3/envs/Ironhack/lib/python3.9/site-packages/pandas/core/internals/managers.py:1737\u001b[0m, in \u001b[0;36mSingleBlockManager.from_array\u001b[0;34m(cls, array, index)\u001b[0m\n\u001b[1;32m   1733\u001b[0m \u001b[38;5;124;03m\"\"\"\u001b[39;00m\n\u001b[1;32m   1734\u001b[0m \u001b[38;5;124;03mConstructor for if we have an array that is not yet a Block.\u001b[39;00m\n\u001b[1;32m   1735\u001b[0m \u001b[38;5;124;03m\"\"\"\u001b[39;00m\n\u001b[1;32m   1736\u001b[0m block \u001b[38;5;241m=\u001b[39m new_block(array, placement\u001b[38;5;241m=\u001b[39m\u001b[38;5;28mslice\u001b[39m(\u001b[38;5;241m0\u001b[39m, \u001b[38;5;28mlen\u001b[39m(index)), ndim\u001b[38;5;241m=\u001b[39m\u001b[38;5;241m1\u001b[39m)\n\u001b[0;32m-> 1737\u001b[0m \u001b[38;5;28;01mreturn\u001b[39;00m \u001b[38;5;28;43mcls\u001b[39;49m\u001b[43m(\u001b[49m\u001b[43mblock\u001b[49m\u001b[43m,\u001b[49m\u001b[43m \u001b[49m\u001b[43mindex\u001b[49m\u001b[43m)\u001b[49m\n",
      "File \u001b[0;32m~/opt/anaconda3/envs/Ironhack/lib/python3.9/site-packages/pandas/core/internals/managers.py:1700\u001b[0m, in \u001b[0;36mSingleBlockManager.__init__\u001b[0;34m(self, block, axis, verify_integrity, fastpath)\u001b[0m\n\u001b[1;32m   1697\u001b[0m \u001b[38;5;18m__slots__\u001b[39m \u001b[38;5;241m=\u001b[39m ()\n\u001b[1;32m   1698\u001b[0m is_single_block \u001b[38;5;241m=\u001b[39m \u001b[38;5;28;01mTrue\u001b[39;00m\n\u001b[0;32m-> 1700\u001b[0m \u001b[38;5;28;01mdef\u001b[39;00m \u001b[38;5;21m__init__\u001b[39m(\n\u001b[1;32m   1701\u001b[0m     \u001b[38;5;28mself\u001b[39m,\n\u001b[1;32m   1702\u001b[0m     block: Block,\n\u001b[1;32m   1703\u001b[0m     axis: Index,\n\u001b[1;32m   1704\u001b[0m     verify_integrity: \u001b[38;5;28mbool\u001b[39m \u001b[38;5;241m=\u001b[39m \u001b[38;5;28;01mFalse\u001b[39;00m,\n\u001b[1;32m   1705\u001b[0m     fastpath\u001b[38;5;241m=\u001b[39mlib\u001b[38;5;241m.\u001b[39mno_default,\n\u001b[1;32m   1706\u001b[0m ):\n\u001b[1;32m   1707\u001b[0m     \u001b[38;5;66;03m# Assertions disabled for performance\u001b[39;00m\n\u001b[1;32m   1708\u001b[0m     \u001b[38;5;66;03m# assert isinstance(block, Block), type(block)\u001b[39;00m\n\u001b[1;32m   1709\u001b[0m     \u001b[38;5;66;03m# assert isinstance(axis, Index), type(axis)\u001b[39;00m\n\u001b[1;32m   1711\u001b[0m     \u001b[38;5;28;01mif\u001b[39;00m fastpath \u001b[38;5;129;01mis\u001b[39;00m \u001b[38;5;129;01mnot\u001b[39;00m lib\u001b[38;5;241m.\u001b[39mno_default:\n\u001b[1;32m   1712\u001b[0m         warnings\u001b[38;5;241m.\u001b[39mwarn(\n\u001b[1;32m   1713\u001b[0m             \u001b[38;5;124m\"\u001b[39m\u001b[38;5;124mThe `fastpath` keyword is deprecated and will be removed \u001b[39m\u001b[38;5;124m\"\u001b[39m\n\u001b[1;32m   1714\u001b[0m             \u001b[38;5;124m\"\u001b[39m\u001b[38;5;124min a future version.\u001b[39m\u001b[38;5;124m\"\u001b[39m,\n\u001b[1;32m   1715\u001b[0m             \u001b[38;5;167;01mFutureWarning\u001b[39;00m,\n\u001b[1;32m   1716\u001b[0m             stacklevel\u001b[38;5;241m=\u001b[39mfind_stack_level(),\n\u001b[1;32m   1717\u001b[0m         )\n",
      "\u001b[0;31mKeyboardInterrupt\u001b[0m: "
     ]
    }
   ],
   "source": [
    "output_distribution=[]\n",
    "\n",
    "for j in range(len(companies_to_use)):\n",
    "\n",
    "    \n",
    "    growth_rate_f=growth_rate[j]\n",
    "    ebitda_margin_f=ebitda_margin[j]\n",
    "    depr_percent_f=depr_percent[j]\n",
    "    nwc_percent_f=nwc_percent[j]\n",
    "    capex_percent_f=capex_percent[j]\n",
    "    tax_rate_f=tax_rate[j]\n",
    "    sales_last_year_f=sales_last_year[j]\n",
    "    wacc_f=wacc[year][companies_to_use[j]]\n",
    "    free_cash_flows_f=free_cash_flows[j]\n",
    "\n",
    "    output_distribution.append(run_mcs(growth_rate_f,ebitda_margin_f,depr_percent_f,nwc_percent_f,capex_percent_f,tax_rate_f,sales_last_year_f,wacc_f,free_cash_flows_f))\n",
    "    "
   ]
  },
  {
   "cell_type": "code",
   "execution_count": null,
   "id": "761ed603",
   "metadata": {},
   "outputs": [],
   "source": [
    "mode=[]\n",
    "\n",
    "for i in output_distribution:\n",
    "    \n",
    "    mode.append(max(set(i), key=i.count))\n",
    "    plt.hist(i, bins = 20)\n",
    "    plt.show()"
   ]
  },
  {
   "cell_type": "code",
   "execution_count": null,
   "id": "272d7adf",
   "metadata": {},
   "outputs": [],
   "source": [
    "mode"
   ]
  }
 ],
 "metadata": {
  "kernelspec": {
   "display_name": "Ironhack",
   "language": "python",
   "name": "ironhack"
  },
  "language_info": {
   "codemirror_mode": {
    "name": "ipython",
    "version": 3
   },
   "file_extension": ".py",
   "mimetype": "text/x-python",
   "name": "python",
   "nbconvert_exporter": "python",
   "pygments_lexer": "ipython3",
   "version": "3.9.7"
  }
 },
 "nbformat": 4,
 "nbformat_minor": 5
}
