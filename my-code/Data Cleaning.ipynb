{
 "cells": [
  {
   "cell_type": "markdown",
   "id": "a358cdff",
   "metadata": {},
   "source": [
    "## Importing xlsx"
   ]
  },
  {
   "cell_type": "code",
   "execution_count": 1,
   "id": "e8feaeac",
   "metadata": {},
   "outputs": [],
   "source": [
    "#%pip install openpyxl\n",
    "#%pip install xlrd"
   ]
  },
  {
   "cell_type": "code",
   "execution_count": 2,
   "id": "35e332b7",
   "metadata": {},
   "outputs": [],
   "source": [
    "import pandas as pd\n",
    "import numpy as np\n",
    "from apifunctions import *\n",
    "import datetime\n",
    "\n",
    "pd.set_option(\"display.max_rows\", None, \"display.max_columns\", None)"
   ]
  },
  {
   "cell_type": "code",
   "execution_count": 3,
   "id": "edd2be11",
   "metadata": {},
   "outputs": [],
   "source": [
    "wacc=pd.read_excel(\"../data/datos_Bloomberg/wacc.xlsx\")\n",
    "prices=pd.read_excel(\"../data/datos_Bloomberg/prices.xlsx\")\n",
    "sales_growth=pd.read_excel(\"../data/datos_Bloomberg/sales_growth.xlsx\")\n",
    "parameters=pd.read_excel(\"../data/datos_Bloomberg/parameters.xlsx\")\n",
    "market_cap=pd.read_csv(\"../data/datos_Bloomberg/market_cap.csv\")\n",
    "shares_outstanding=pd.read_excel(\"../data/datos_Bloomberg/shares_outstanding.xlsx\")"
   ]
  },
  {
   "cell_type": "code",
   "execution_count": 4,
   "id": "b09e81f0",
   "metadata": {},
   "outputs": [],
   "source": [
    "market_cap=pd.read_csv(\"../data/datos_Bloomberg/market_cap.csv\")\n",
    "shares_outstanding=pd.read_excel(\"../data/datos_Bloomberg/shares_outstanding.xlsx\")"
   ]
  },
  {
   "cell_type": "code",
   "execution_count": 5,
   "id": "b3ed647c",
   "metadata": {},
   "outputs": [],
   "source": [
    "company_list=wacc.ID"
   ]
  },
  {
   "cell_type": "markdown",
   "id": "488f68ec",
   "metadata": {},
   "source": [
    "## ID's as index"
   ]
  },
  {
   "cell_type": "code",
   "execution_count": 6,
   "id": "c294b29a",
   "metadata": {},
   "outputs": [],
   "source": [
    "datasets=[wacc,prices,sales_growth,market_cap,shares_outstanding]\n",
    "\n",
    "for i in datasets:\n",
    "    i.set_index(\"ID\",inplace=True)"
   ]
  },
  {
   "cell_type": "markdown",
   "id": "95fa3009",
   "metadata": {},
   "source": [
    "## Dealing with NANs"
   ]
  },
  {
   "cell_type": "code",
   "execution_count": 7,
   "id": "69efc5f1",
   "metadata": {},
   "outputs": [],
   "source": [
    "# We first want to delete the rows which have all NANs for the wacc, prices and sales_growth dataframes\n",
    "\n",
    "datasets=[wacc,prices,sales_growth,market_cap,shares_outstanding]\n",
    "\n",
    "for i in datasets:\n",
    "    i.dropna(axis=0, how='all',inplace=True)   "
   ]
  },
  {
   "cell_type": "markdown",
   "id": "166b674d",
   "metadata": {},
   "source": [
    "#### For simplicity, in prices we are going to delete all the rows that have nans as that means the company was not trading at that point so it wont allow us to do the backtesting:"
   ]
  },
  {
   "cell_type": "code",
   "execution_count": 8,
   "id": "4783cf0c",
   "metadata": {},
   "outputs": [],
   "source": [
    "prices.dropna(axis=0,inplace=True)"
   ]
  },
  {
   "cell_type": "markdown",
   "id": "c7415918",
   "metadata": {},
   "source": [
    "#### Now we are going to delete the companies for which we dont have information in one of the three datasets"
   ]
  },
  {
   "cell_type": "code",
   "execution_count": 9,
   "id": "9240b9ae",
   "metadata": {},
   "outputs": [],
   "source": [
    "remove_columns(prices,wacc,sales_growth,market_cap,shares_outstanding)\n",
    "remove_columns(prices,wacc,sales_growth,market_cap,shares_outstanding)"
   ]
  },
  {
   "cell_type": "markdown",
   "id": "320b2819",
   "metadata": {},
   "source": [
    "#### To deal with the rest of NANs in wacc and sales_growth we are going to fill them with the average of the values in its time range"
   ]
  },
  {
   "cell_type": "code",
   "execution_count": 13,
   "id": "823bf205",
   "metadata": {},
   "outputs": [],
   "source": [
    "fill_na_mean(wacc)\n",
    "fill_na_mean(sales_growth)"
   ]
  },
  {
   "cell_type": "markdown",
   "id": "36c2e890",
   "metadata": {},
   "source": [
    "#### At this point we have cleaned the three dataframes: wacc, prices, sales growth. Now we need to deal with the parameters one"
   ]
  },
  {
   "cell_type": "code",
   "execution_count": 14,
   "id": "8de90067",
   "metadata": {},
   "outputs": [],
   "source": [
    "final_company_list=wacc.index"
   ]
  },
  {
   "cell_type": "code",
   "execution_count": 15,
   "id": "baac05aa",
   "metadata": {},
   "outputs": [],
   "source": [
    "deleted_companies=[]\n",
    "\n",
    "for i in company_list:\n",
    "    \n",
    "    if i not in final_company_list:\n",
    "        \n",
    "        deleted_companies.append(i)"
   ]
  },
  {
   "cell_type": "markdown",
   "id": "227508b2",
   "metadata": {},
   "source": [
    "### Parameters dataframe"
   ]
  },
  {
   "cell_type": "markdown",
   "id": "34eeec0e",
   "metadata": {},
   "source": [
    "#### We first create column with the year only and we set the dates as index and transpose the dataframe to have it in the same format as the rest:"
   ]
  },
  {
   "cell_type": "code",
   "execution_count": 16,
   "id": "0ecd074b",
   "metadata": {},
   "outputs": [],
   "source": [
    "lista=[]\n",
    "\n",
    "for i in parameters[\"Unnamed: 0\"]:\n",
    "    \n",
    "    lista.append(str(i))\n",
    "\n",
    "year=[]\n",
    "for j in lista:\n",
    "    year.append(j[:4])\n",
    "    \n",
    "    "
   ]
  },
  {
   "cell_type": "code",
   "execution_count": 17,
   "id": "52df1828",
   "metadata": {},
   "outputs": [],
   "source": [
    "parameters[\"dates\"]=year\n",
    "parameters_new=parameters.groupby(\"dates\").sum()"
   ]
  },
  {
   "cell_type": "code",
   "execution_count": 18,
   "id": "71d93d55",
   "metadata": {},
   "outputs": [],
   "source": [
    "parameters_new_t=parameters_new.transpose()"
   ]
  },
  {
   "cell_type": "code",
   "execution_count": 19,
   "id": "fe3e8f6d",
   "metadata": {},
   "outputs": [],
   "source": [
    "parameters_new_t[\"company_name\"]=parameters_new_t.index"
   ]
  },
  {
   "cell_type": "markdown",
   "id": "aa588a02",
   "metadata": {},
   "source": [
    "#### we add a column named company name with the ticker of each company"
   ]
  },
  {
   "cell_type": "code",
   "execution_count": 20,
   "id": "2a5dfb4c",
   "metadata": {},
   "outputs": [],
   "source": [
    "parameters_new_t[\"company_name\"]=parameters_new_t[\"company_name\"].str.replace('\\.\\d+', '')"
   ]
  },
  {
   "cell_type": "markdown",
   "id": "b1bf12ba",
   "metadata": {},
   "source": [
    "#### As we dont have values for 2022 we drop the entire column"
   ]
  },
  {
   "cell_type": "code",
   "execution_count": 21,
   "id": "4f938d33",
   "metadata": {},
   "outputs": [],
   "source": [
    "parameters_new_t=parameters_new_t.drop([\"2022\"],axis=1)"
   ]
  },
  {
   "cell_type": "markdown",
   "id": "6a2a2e7f",
   "metadata": {},
   "source": [
    "#### We convert the numbers to float and then delete the rows which have at least one missing value"
   ]
  },
  {
   "cell_type": "code",
   "execution_count": 22,
   "id": "cdc930c3",
   "metadata": {},
   "outputs": [],
   "source": [
    "#parameters_new_t[[\"2010\",\"2011\",\"2012\",\"2013\",\"2014\",\"2015\",\"2016\",\"2017\",\"2018\",\"2019\",\"2020\",\"2021\"]].astype(dtype=\"float64\")"
   ]
  },
  {
   "cell_type": "code",
   "execution_count": 23,
   "id": "cc3ecf70",
   "metadata": {},
   "outputs": [],
   "source": [
    "parameters_new_t=parameters_new_t[~(parameters_new_t[[\"2010\",\"2011\",\"2012\",\"2013\",\"2014\",\"2015\",\"2016\",\"2017\",\"2018\",\"2019\",\"2020\",\"2021\"]]==0).any(axis=1)]"
   ]
  },
  {
   "cell_type": "markdown",
   "id": "d6d68f35",
   "metadata": {},
   "source": [
    "#### Now we need to check for which companies we have full data"
   ]
  },
  {
   "cell_type": "code",
   "execution_count": 24,
   "id": "c1e5aeab",
   "metadata": {},
   "outputs": [],
   "source": [
    "companies_we_have=parameters_new_t[\"company_name\"]"
   ]
  },
  {
   "cell_type": "code",
   "execution_count": 25,
   "id": "e6a1425d",
   "metadata": {},
   "outputs": [],
   "source": [
    "final_comps=[\"IFF UN Equity \",\"NTAP UW Equity\",\"ATO UN Equity\",\"GWW UN Equity\",     \"UHS UN Equity \",     \"WEC UN Equity \",     \"SWKS UW Equity\",     \"HSY UN Equity \",     \"DGX UN Equity\",     \"HRL UN Equity\",     \"EW UN Equity\" ,      \"MDLZ UW Equity\" ,    \"ATVI UW Equity\",     \"HUM UN Equity\",      \"ROK UN Equity\",      \"ITW UN Equity\",     \"TT UN Equity\",       \"IPG UN Equity\",      \"WM UN Equity\",       \"J UN Equity\",        \"BR UN Equity\",       \"GPC UN Equity\",      \"GIS UN Equity\",      \"GD UN Equity\",       \"KLAC UW Equity\",     \"COST UW Equity\",     \"PCAR UW Equity\",     \"GOOG UW Equity\",     \"AEE UN Equity\",      \"ECL UN Equity\",      \"EMR UN Equity\",      \"ODFL UW Equity\",     \"AON UN Equity\",      \"DVA UN Equity\",      \"CBRE UN Equity\",     \"MNST UW Equity\",    \"CTAS UW Equity\",     \"EL UN Equity\",       \"BRO UN Equity\",      \"AAPL UW Equity\",     \"AMGN UW Equity\",     \"KMX UN Equity\",      \"MA UN Equity\",       \"KMB UN Equity\",     \"PM UN Equity\"  ,     \"NDAQ UW Equity\" ,    \"SO UN Equity\",   \"BKNG UW Equity\",  \"MCO UN Equity\", \"OMC UN Equity\",\"OKE UN Equity\",      \"PWR UN Equity\",      \"PH UN Equity\",       \"ROL UN Equity\",      \"PPL UN Equity\",      \"AME UN Equity\",      \"NOC UN Equity\",     \"RSG UN Equity\" ,     \"ISRG UW Equity\",     \"PPG UN Equity\",      \"CTSH UW Equity\",     \"HSIC UW Equity\",     \"RHI UN Equity\",      \"WST UN Equity\",      \"FDS UN Equity\",      \"FFIV UW Equity\",     \"ES UN Equity\",       \"UNH UN Equity\",      \"CHRW UW Equity\",     \"LLY UN Equity\",      \"APH UN Equity\",      \"ULTA UW Equity\",     \"ANTM UN Equity\" ,    \"LOW UN Equity\",      \"IEX UN Equity\",      \"MMC UN Equity\",      \"SPGI UN Equity\",     \"ACN UN Equity\",      \"AKAM UW Equity\",     \"CVS UN Equity\",      \"TXN UW Equity\",      \"SYY UN Equity\",      \"GOOGL UW Equity\",    \"TDG UN Equity\",      \"YUM UN Equity\",      \"NKE UN Equity\",      \"MKTX UW Equity\",     \"DOV UN Equity\",      \"ANSS UW Equity\",     \"DE UN Equity\",       \"PAYX UW Equity\",     \"ORLY UW Equity\",     \"BWA UN Equity\",      \"BIIB UW Equity\",     \"HON UW Equity \",    \"WMT UN Equity\",      \"CSCO UW Equity\",     \"INTC UW Equity\",     \"MSFT UW Equity \",    \"DG UN Equity\",       \"CI UN Equity\",       \"HAS UW Equity\",      \"AMCR UN Equity\",    \"UPS UN Equity\",      \"HCA UN Equity\",      \"TGT UN Equity\",      \"MHK UN Equity\" ,     \"FISV UW Equity\",    \"PG UN Equity\",       \"CNC UN Equity\",      \"APD UN Equity\",      \"AWK UN Equity\",      \"EQIX UW Equity\",     \"AOS UN Equity\" ,     \"CAT UN Equity\",      \"LKQ UW Equity\",     \"KO UN Equity\",       \"APTV UN Equity\" ,    \"INTU UW Equity\",     \"FLT UN Equity\",      \"IDXX UW Equity\",     \"ROST UW Equity\",     \"ROP UN Equity\",      \"HD UN Equity\",       \"MPWR UW Equity\",    \"QCOM UW Equity\",     \"MCD UN Equity\",      \"MRK UN Equity\",      \"MMM UN Equity\",      \"STE UN Equity\" ,     \"WBA UW Equity\",      \"CPRT UW Equity\",     \"FAST UW Equity\",     \"NDSN UW Equity\",     \"BBY UN Equity\",     \"NVR UN Equity\",      \"ALB UN Equity\" ,     \"EPAM UN Equity\",     \"BF/B UN Equity\",     \"CPB UN Equity\",      \"IPGP UW Equity\",     \"MTD UN Equity\",      \"RMD UN Equity\",      \n",
    "\"TSCO UW Equity\",     \"AMAT UW Equity\",     \"CLX UN Equity\",      \"CMS UN Equity\",      \"WAB UN Equity\",      \"POOL UW Equity\",     \"CAG UN Equity\",      \"AZO UN Equity\",      \"DHR UN Equity\",      \"CMI UN Equity\",      \"EXPD UW Equity\",     \"ADM UN Equity\",      \"ADP UW Equity\",      \"VRSK UW Equity\",     \"CL UN Equity\",       \"LMT UN Equity\",      \"V UN Equity\",        \"ED UN Equity\",       \"MSCI UN Equity\",     \n",
    "\"WAT UN Equity\"]      "
   ]
  },
  {
   "cell_type": "code",
   "execution_count": 26,
   "id": "d4fd28b8",
   "metadata": {},
   "outputs": [],
   "source": [
    "companies_to_use=[]\n",
    "\n",
    "for i in final_comps:\n",
    "    \n",
    "    if i in final_company_list:\n",
    "        \n",
    "        companies_to_use.append(i)"
   ]
  },
  {
   "cell_type": "code",
   "execution_count": 27,
   "id": "4974e0dd",
   "metadata": {},
   "outputs": [],
   "source": [
    "wacc=wacc/100"
   ]
  },
  {
   "cell_type": "code",
   "execution_count": 28,
   "id": "6461133a",
   "metadata": {},
   "outputs": [],
   "source": [
    "sales_growth=sales_growth/100"
   ]
  },
  {
   "cell_type": "code",
   "execution_count": 29,
   "id": "b5300c11",
   "metadata": {},
   "outputs": [],
   "source": [
    "parameters_new_t[[\"2010\",\"2011\",\"2012\",\"2013\",\"2014\",\"2015\",\"2016\",\"2017\",\"2018\",\"2019\",\"2020\",\"2021\"]][parameters_new_t[\"DATE\"]==\"EBITDA_TO_REVENUE\"]=parameters_new_t[[\"2010\",\"2011\",\"2012\",\"2013\",\"2014\",\"2015\",\"2016\",\"2017\",\"2018\",\"2019\",\"2020\",\"2021\"]][parameters_new_t[\"company_name\"]==\"EBITDA_TO_REVENUE\"]/100"
   ]
  },
  {
   "cell_type": "code",
   "execution_count": 30,
   "id": "e10474fa",
   "metadata": {},
   "outputs": [],
   "source": [
    "parameters_new_t[[\"2010\",\"2011\",\"2012\",\"2013\",\"2014\",\"2015\",\"2016\",\"2017\",\"2018\",\"2019\",\"2020\",\"2021\"]][parameters_new_t[\"DATE\"]==\"EBITDA_TO_REVENUE\"]=parameters_new_t[[\"2010\",\"2011\",\"2012\",\"2013\",\"2014\",\"2015\",\"2016\",\"2017\",\"2018\",\"2019\",\"2020\",\"2021\"]]/100"
   ]
  },
  {
   "cell_type": "code",
   "execution_count": 31,
   "id": "81f97c09",
   "metadata": {},
   "outputs": [],
   "source": [
    "companies_to_use=pd.DataFrame(companies_to_use)"
   ]
  },
  {
   "cell_type": "code",
   "execution_count": 38,
   "id": "58c5ffa6",
   "metadata": {},
   "outputs": [],
   "source": [
    "wacc.to_csv(\"../data/wacc.csv\")\n",
    "prices.to_csv(\"../data/prices.csv\")\n",
    "sales_growth.to_csv(\"../data/sales_growth.csv\")\n",
    "parameters_new_t.to_csv(\"../data/parameters_new_t.csv\")\n",
    "companies_to_use.to_csv(\"../data/companies_to_use.csv\")\n",
    "market_cap.to_csv(\"../data/market_cap.csv\")\n",
    "shares_outstanding.to_csv(\"../data/shares_outstanding.csv\")"
   ]
  }
 ],
 "metadata": {
  "kernelspec": {
   "display_name": "Ironhack",
   "language": "python",
   "name": "ironhack"
  },
  "language_info": {
   "codemirror_mode": {
    "name": "ipython",
    "version": 3
   },
   "file_extension": ".py",
   "mimetype": "text/x-python",
   "name": "python",
   "nbconvert_exporter": "python",
   "pygments_lexer": "ipython3",
   "version": "3.9.7"
  }
 },
 "nbformat": 4,
 "nbformat_minor": 5
}
