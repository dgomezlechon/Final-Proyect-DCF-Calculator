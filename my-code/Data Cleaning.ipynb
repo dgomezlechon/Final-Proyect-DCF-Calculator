{
 "cells": [
  {
   "cell_type": "markdown",
   "id": "a358cdff",
   "metadata": {},
   "source": [
    "## Importing xlsx"
   ]
  },
  {
   "cell_type": "code",
   "execution_count": 1,
   "id": "e8feaeac",
   "metadata": {},
   "outputs": [],
   "source": [
    "#%pip install openpyxl\n",
    "#%pip install xlrd"
   ]
  },
  {
   "cell_type": "code",
   "execution_count": 2,
   "id": "35e332b7",
   "metadata": {},
   "outputs": [
    {
     "name": "stderr",
     "output_type": "stream",
     "text": [
      "\n",
      "\n",
      "====== WebDriver manager ======\n",
      "Current google-chrome version is 101.0.4951\n",
      "Get LATEST chromedriver version for 101.0.4951 google-chrome\n",
      "Trying to download new driver from https://chromedriver.storage.googleapis.com/101.0.4951.41/chromedriver_mac64.zip\n",
      "Driver has been saved in cache [/Users/danigomezlechonbarrachina/.wdm/drivers/chromedriver/mac64/101.0.4951.41]\n"
     ]
    }
   ],
   "source": [
    "import pandas as pd\n",
    "import numpy as np\n",
    "from apifunctions import *\n",
    "import datetime\n",
    "\n",
    "pd.set_option(\"display.max_rows\", None, \"display.max_columns\", None)"
   ]
  },
  {
   "cell_type": "code",
   "execution_count": 3,
   "id": "94d2e62f",
   "metadata": {},
   "outputs": [],
   "source": [
    "wacc=pd.read_excel(\"../data/datos_Bloomberg/wacc.xlsx\")\n",
    "prices=pd.read_excel(\"../data/datos_Bloomberg/prices.xlsx\")\n",
    "sales_growth=pd.read_excel(\"../data/datos_Bloomberg/sales_growth.xlsx\")\n",
    "parameters=pd.read_excel(\"../data/datos_Bloomberg/parameters.xlsx\")"
   ]
  },
  {
   "cell_type": "code",
   "execution_count": 4,
   "id": "b3ed647c",
   "metadata": {},
   "outputs": [],
   "source": [
    "company_list=wacc.ID"
   ]
  },
  {
   "cell_type": "markdown",
   "id": "488f68ec",
   "metadata": {},
   "source": [
    "## ID's as index"
   ]
  },
  {
   "cell_type": "code",
   "execution_count": 5,
   "id": "c294b29a",
   "metadata": {},
   "outputs": [],
   "source": [
    "datasets=[wacc,prices,sales_growth]\n",
    "\n",
    "for i in datasets:\n",
    "    i.set_index(\"ID\",inplace=True)"
   ]
  },
  {
   "cell_type": "markdown",
   "id": "95fa3009",
   "metadata": {},
   "source": [
    "## Dealing with NANs"
   ]
  },
  {
   "cell_type": "code",
   "execution_count": 6,
   "id": "69efc5f1",
   "metadata": {},
   "outputs": [],
   "source": [
    "# We first want to delete the rows which have all NANs for the wacc, prices and sales_growth dataframes\n",
    "\n",
    "datasets=[wacc,prices,sales_growth]\n",
    "\n",
    "for i in datasets:\n",
    "    i.dropna(axis=0, how='all',inplace=True)   "
   ]
  },
  {
   "cell_type": "markdown",
   "id": "166b674d",
   "metadata": {},
   "source": [
    "#### For simplicity, in prices we are going to delete all the rows that have nans as that means the company was not trading at that point so it wont allow us to do the backtesting:"
   ]
  },
  {
   "cell_type": "code",
   "execution_count": 7,
   "id": "4783cf0c",
   "metadata": {},
   "outputs": [],
   "source": [
    "prices.dropna(axis=0,inplace=True)"
   ]
  },
  {
   "cell_type": "markdown",
   "id": "c7415918",
   "metadata": {},
   "source": [
    "#### Now we are going to delete the companies for which we dont have information in one of the three datasets"
   ]
  },
  {
   "cell_type": "code",
   "execution_count": 8,
   "id": "9240b9ae",
   "metadata": {},
   "outputs": [],
   "source": [
    "remove_columns(prices,wacc,sales_growth)\n",
    "remove_columns(prices,wacc,sales_growth)"
   ]
  },
  {
   "cell_type": "markdown",
   "id": "320b2819",
   "metadata": {},
   "source": [
    "#### To deal with the rest of NANs in wacc and sales_growth we are going to fill them with the average of the values in its time range"
   ]
  },
  {
   "cell_type": "code",
   "execution_count": 9,
   "id": "823bf205",
   "metadata": {},
   "outputs": [],
   "source": [
    "fill_na_mean(wacc)\n",
    "fill_na_mean(sales_growth)"
   ]
  },
  {
   "cell_type": "markdown",
   "id": "36c2e890",
   "metadata": {},
   "source": [
    "#### At this point we have cleaned the three dataframes: wacc, prices, sales growth. Now we need to deal with the parameters one"
   ]
  },
  {
   "cell_type": "code",
   "execution_count": 10,
   "id": "8de90067",
   "metadata": {},
   "outputs": [],
   "source": [
    "final_company_list=wacc.index"
   ]
  },
  {
   "cell_type": "code",
   "execution_count": 11,
   "id": "baac05aa",
   "metadata": {},
   "outputs": [],
   "source": [
    "deleted_companies=[]\n",
    "\n",
    "for i in company_list:\n",
    "    \n",
    "    if i not in final_company_list:\n",
    "        \n",
    "        deleted_companies.append(i)"
   ]
  },
  {
   "cell_type": "markdown",
   "id": "227508b2",
   "metadata": {},
   "source": [
    "### Parameters dataframe"
   ]
  },
  {
   "cell_type": "markdown",
   "id": "34eeec0e",
   "metadata": {},
   "source": [
    "#### We first create column with the year only and we set the dates as index and transpose the dataframe to have it in the same format as the rest:"
   ]
  },
  {
   "cell_type": "code",
   "execution_count": 12,
   "id": "0ecd074b",
   "metadata": {},
   "outputs": [],
   "source": [
    "lista=[]\n",
    "\n",
    "for i in parameters[\"Unnamed: 0\"]:\n",
    "    \n",
    "    lista.append(str(i))\n",
    "\n",
    "year=[]\n",
    "for j in lista:\n",
    "    year.append(j[:4])\n",
    "    \n",
    "    "
   ]
  },
  {
   "cell_type": "code",
   "execution_count": 13,
   "id": "52df1828",
   "metadata": {},
   "outputs": [],
   "source": [
    "parameters[\"dates\"]=year\n",
    "parameters_new=parameters.groupby(\"dates\").sum()"
   ]
  },
  {
   "cell_type": "code",
   "execution_count": 14,
   "id": "71d93d55",
   "metadata": {},
   "outputs": [],
   "source": [
    "parameters_new_t=parameters_new.transpose()"
   ]
  },
  {
   "cell_type": "code",
   "execution_count": 15,
   "id": "fe3e8f6d",
   "metadata": {},
   "outputs": [],
   "source": [
    "parameters_new_t[\"company_name\"]=parameters_new_t.index"
   ]
  },
  {
   "cell_type": "markdown",
   "id": "aa588a02",
   "metadata": {},
   "source": [
    "#### we add a column named company name with the ticker of each company"
   ]
  },
  {
   "cell_type": "code",
   "execution_count": 16,
   "id": "2a5dfb4c",
   "metadata": {},
   "outputs": [],
   "source": [
    "parameters_new_t[\"company_name\"]=parameters_new_t[\"company_name\"].str.replace('\\.\\d+', '')"
   ]
  },
  {
   "cell_type": "markdown",
   "id": "b1bf12ba",
   "metadata": {},
   "source": [
    "#### As we dont have values for 2022 we drop the entire column"
   ]
  },
  {
   "cell_type": "code",
   "execution_count": 17,
   "id": "4f938d33",
   "metadata": {},
   "outputs": [],
   "source": [
    "parameters_new_t=parameters_new_t.drop([\"2022\"],axis=1)"
   ]
  },
  {
   "cell_type": "markdown",
   "id": "6a2a2e7f",
   "metadata": {},
   "source": [
    "#### We convert the numbers to float and then delete the rows which have at least one missing value"
   ]
  },
  {
   "cell_type": "code",
   "execution_count": 18,
   "id": "cdc930c3",
   "metadata": {},
   "outputs": [],
   "source": [
    "#parameters_new_t[[\"2010\",\"2011\",\"2012\",\"2013\",\"2014\",\"2015\",\"2016\",\"2017\",\"2018\",\"2019\",\"2020\",\"2021\"]].astype(dtype=\"float64\")"
   ]
  },
  {
   "cell_type": "code",
   "execution_count": 19,
   "id": "cc3ecf70",
   "metadata": {},
   "outputs": [],
   "source": [
    "parameters_new_t=parameters_new_t[~(parameters_new_t[[\"2010\",\"2011\",\"2012\",\"2013\",\"2014\",\"2015\",\"2016\",\"2017\",\"2018\",\"2019\",\"2020\",\"2021\"]]==0).any(axis=1)]"
   ]
  },
  {
   "cell_type": "markdown",
   "id": "d6d68f35",
   "metadata": {},
   "source": [
    "#### Now we need to check for which companies we have full data"
   ]
  },
  {
   "cell_type": "code",
   "execution_count": 20,
   "id": "c1e5aeab",
   "metadata": {},
   "outputs": [],
   "source": [
    "companies_we_have=parameters_new_t[\"company_name\"]"
   ]
  },
  {
   "cell_type": "code",
   "execution_count": 21,
   "id": "e6a1425d",
   "metadata": {},
   "outputs": [],
   "source": [
    "final_comps=[\"IFF UN Equity \",\"NTAP UW Equity\",\"ATO UN Equity\",\"GWW UN Equity\",     \"UHS UN Equity \",     \"WEC UN Equity \",     \"SWKS UW Equity\",     \"HSY UN Equity \",     \"DGX UN Equity\",     \"HRL UN Equity\",     \"EW UN Equity\" ,      \"MDLZ UW Equity\" ,    \"ATVI UW Equity\",     \"HUM UN Equity\",      \"ROK UN Equity\",      \"ITW UN Equity\",     \"TT UN Equity\",       \"IPG UN Equity\",      \"WM UN Equity\",       \"J UN Equity\",        \"BR UN Equity\",       \"GPC UN Equity\",      \"GIS UN Equity\",      \"GD UN Equity\",       \"KLAC UW Equity\",     \"COST UW Equity\",     \"PCAR UW Equity\",     \"GOOG UW Equity\",     \"AEE UN Equity\",      \"ECL UN Equity\",      \"EMR UN Equity\",      \"ODFL UW Equity\",     \"AON UN Equity\",      \"DVA UN Equity\",      \"CBRE UN Equity\",     \"MNST UW Equity\",    \"CTAS UW Equity\",     \"EL UN Equity\",       \"BRO UN Equity\",      \"AAPL UW Equity\",     \"AMGN UW Equity\",     \"KMX UN Equity\",      \"MA UN Equity\",       \"KMB UN Equity\",     \"PM UN Equity\"  ,     \"NDAQ UW Equity\" ,    \"SO UN Equity\",   \"BKNG UW Equity\",  \"MCO UN Equity\", \"OMC UN Equity\",\"OKE UN Equity\",      \"PWR UN Equity\",      \"PH UN Equity\",       \"ROL UN Equity\",      \"PPL UN Equity\",      \"AME UN Equity\",      \"NOC UN Equity\",     \"RSG UN Equity\" ,     \"ISRG UW Equity\",     \"PPG UN Equity\",      \"CTSH UW Equity\",     \"HSIC UW Equity\",     \"RHI UN Equity\",      \"WST UN Equity\",      \"FDS UN Equity\",      \"FFIV UW Equity\",     \"ES UN Equity\",       \"UNH UN Equity\",      \"CHRW UW Equity\",     \"LLY UN Equity\",      \"APH UN Equity\",      \"ULTA UW Equity\",     \"ANTM UN Equity\" ,    \"LOW UN Equity\",      \"IEX UN Equity\",      \"MMC UN Equity\",      \"SPGI UN Equity\",     \"ACN UN Equity\",      \"AKAM UW Equity\",     \"CVS UN Equity\",      \"TXN UW Equity\",      \"SYY UN Equity\",      \"GOOGL UW Equity\",    \"TDG UN Equity\",      \"YUM UN Equity\",      \"NKE UN Equity\",      \"MKTX UW Equity\",     \"DOV UN Equity\",      \"ANSS UW Equity\",     \"DE UN Equity\",       \"PAYX UW Equity\",     \"ORLY UW Equity\",     \"BWA UN Equity\",      \"BIIB UW Equity\",     \"HON UW Equity \",    \"WMT UN Equity\",      \"CSCO UW Equity\",     \"INTC UW Equity\",     \"MSFT UW Equity \",    \"DG UN Equity\",       \"CI UN Equity\",       \"HAS UW Equity\",      \"AMCR UN Equity\",    \"UPS UN Equity\",      \"HCA UN Equity\",      \"TGT UN Equity\",      \"MHK UN Equity\" ,     \"FISV UW Equity\",    \"PG UN Equity\",       \"CNC UN Equity\",      \"APD UN Equity\",      \"AWK UN Equity\",      \"EQIX UW Equity\",     \"AOS UN Equity\" ,     \"CAT UN Equity\",      \"LKQ UW Equity\",     \"KO UN Equity\",       \"APTV UN Equity\" ,    \"INTU UW Equity\",     \"FLT UN Equity\",      \"IDXX UW Equity\",     \"ROST UW Equity\",     \"ROP UN Equity\",      \"HD UN Equity\",       \"MPWR UW Equity\",    \"QCOM UW Equity\",     \"MCD UN Equity\",      \"MRK UN Equity\",      \"MMM UN Equity\",      \"STE UN Equity\" ,     \"WBA UW Equity\",      \"CPRT UW Equity\",     \"FAST UW Equity\",     \"NDSN UW Equity\",     \"BBY UN Equity\",     \"NVR UN Equity\",      \"ALB UN Equity\" ,     \"EPAM UN Equity\",     \"BF/B UN Equity\",     \"CPB UN Equity\",      \"IPGP UW Equity\",     \"MTD UN Equity\",      \"RMD UN Equity\",      \n",
    "\"TSCO UW Equity\",     \"AMAT UW Equity\",     \"CLX UN Equity\",      \"CMS UN Equity\",      \"WAB UN Equity\",      \"POOL UW Equity\",     \"CAG UN Equity\",      \"AZO UN Equity\",      \"DHR UN Equity\",      \"CMI UN Equity\",      \"EXPD UW Equity\",     \"ADM UN Equity\",      \"ADP UW Equity\",      \"VRSK UW Equity\",     \"CL UN Equity\",       \"LMT UN Equity\",      \"V UN Equity\",        \"ED UN Equity\",       \"MSCI UN Equity\",     \n",
    "\"WAT UN Equity\"]      "
   ]
  },
  {
   "cell_type": "code",
   "execution_count": 22,
   "id": "d4fd28b8",
   "metadata": {},
   "outputs": [],
   "source": [
    "companies_to_use=[]\n",
    "\n",
    "for i in final_comps:\n",
    "    \n",
    "    if i in final_company_list:\n",
    "        \n",
    "        companies_to_use.append(i)"
   ]
  },
  {
   "cell_type": "code",
   "execution_count": 23,
   "id": "4974e0dd",
   "metadata": {},
   "outputs": [],
   "source": [
    "wacc=wacc/100"
   ]
  },
  {
   "cell_type": "code",
   "execution_count": 24,
   "id": "6461133a",
   "metadata": {},
   "outputs": [],
   "source": [
    "sales_growth=sales_growth/100"
   ]
  },
  {
   "cell_type": "code",
   "execution_count": 25,
   "id": "b5300c11",
   "metadata": {},
   "outputs": [],
   "source": [
    "parameters_new_t[[\"2010\",\"2011\",\"2012\",\"2013\",\"2014\",\"2015\",\"2016\",\"2017\",\"2018\",\"2019\",\"2020\",\"2021\"]][parameters_new_t[\"DATE\"]==\"EBITDA_TO_REVENUE\"]=parameters_new_t[[\"2010\",\"2011\",\"2012\",\"2013\",\"2014\",\"2015\",\"2016\",\"2017\",\"2018\",\"2019\",\"2020\",\"2021\"]][parameters_new_t[\"company_name\"]==\"EBITDA_TO_REVENUE\"]/100"
   ]
  },
  {
   "cell_type": "code",
   "execution_count": 26,
   "id": "e10474fa",
   "metadata": {},
   "outputs": [],
   "source": [
    "parameters_new_t[[\"2010\",\"2011\",\"2012\",\"2013\",\"2014\",\"2015\",\"2016\",\"2017\",\"2018\",\"2019\",\"2020\",\"2021\"]][parameters_new_t[\"DATE\"]==\"EBITDA_TO_REVENUE\"]=parameters_new_t[[\"2010\",\"2011\",\"2012\",\"2013\",\"2014\",\"2015\",\"2016\",\"2017\",\"2018\",\"2019\",\"2020\",\"2021\"]]/100"
   ]
  },
  {
   "cell_type": "code",
   "execution_count": 27,
   "id": "6ed4a9e6",
   "metadata": {},
   "outputs": [
    {
     "name": "stdout",
     "output_type": "stream",
     "text": [
      "Stored 'wacc' (DataFrame)\n",
      "Stored 'prices' (DataFrame)\n",
      "Stored 'sales_growth' (DataFrame)\n",
      "Stored 'parameters_new_t' (DataFrame)\n",
      "Stored 'companies_to_use' (list)\n"
     ]
    }
   ],
   "source": [
    "%store wacc\n",
    "%store prices\n",
    "%store sales_growth\n",
    "%store parameters_new_t\n",
    "%store companies_to_use"
   ]
  },
  {
   "cell_type": "code",
   "execution_count": 30,
   "id": "f8183888",
   "metadata": {},
   "outputs": [
    {
     "data": {
      "text/html": [
       "<div>\n",
       "<style scoped>\n",
       "    .dataframe tbody tr th:only-of-type {\n",
       "        vertical-align: middle;\n",
       "    }\n",
       "\n",
       "    .dataframe tbody tr th {\n",
       "        vertical-align: top;\n",
       "    }\n",
       "\n",
       "    .dataframe thead th {\n",
       "        text-align: right;\n",
       "    }\n",
       "</style>\n",
       "<table border=\"1\" class=\"dataframe\">\n",
       "  <thead>\n",
       "    <tr style=\"text-align: right;\">\n",
       "      <th>dates</th>\n",
       "      <th>2010</th>\n",
       "      <th>2011</th>\n",
       "      <th>2012</th>\n",
       "      <th>2013</th>\n",
       "      <th>2014</th>\n",
       "      <th>2015</th>\n",
       "      <th>2016</th>\n",
       "      <th>2017</th>\n",
       "      <th>2018</th>\n",
       "      <th>2019</th>\n",
       "      <th>2020</th>\n",
       "      <th>2021</th>\n",
       "      <th>DATE</th>\n",
       "      <th>company_name</th>\n",
       "    </tr>\n",
       "  </thead>\n",
       "  <tbody>\n",
       "    <tr>\n",
       "      <th>ATO UN Equity</th>\n",
       "      <td>4719835000</td>\n",
       "      <td>4286435000</td>\n",
       "      <td>3438483000</td>\n",
       "      <td>3886257000</td>\n",
       "      <td>4940916000</td>\n",
       "      <td>4142136000</td>\n",
       "      <td>2454648000</td>\n",
       "      <td>2759735000</td>\n",
       "      <td>3115546000</td>\n",
       "      <td>2901848000</td>\n",
       "      <td>2821137000</td>\n",
       "      <td>3407490000</td>\n",
       "      <td>SALES_REV_TURN</td>\n",
       "      <td>ATO UN Equity</td>\n",
       "    </tr>\n",
       "    <tr>\n",
       "      <th>ATO UN Equity.1</th>\n",
       "      <td>14.706256</td>\n",
       "      <td>15.377371</td>\n",
       "      <td>20.134839</td>\n",
       "      <td>19.01076</td>\n",
       "      <td>17.513676</td>\n",
       "      <td>21.877384</td>\n",
       "      <td>38.715368</td>\n",
       "      <td>37.944911</td>\n",
       "      <td>34.954291</td>\n",
       "      <td>39.199641</td>\n",
       "      <td>45.896885</td>\n",
       "      <td>41.829147</td>\n",
       "      <td>EBITDA_TO_REVENUE</td>\n",
       "      <td>ATO UN Equity</td>\n",
       "    </tr>\n",
       "    <tr>\n",
       "      <th>ATO UN Equity.2</th>\n",
       "      <td>38.545725</td>\n",
       "      <td>36.037948</td>\n",
       "      <td>33.821818</td>\n",
       "      <td>38.199878</td>\n",
       "      <td>39.218655</td>\n",
       "      <td>38.313119</td>\n",
       "      <td>36.268499</td>\n",
       "      <td>36.647111</td>\n",
       "      <td>1.322111</td>\n",
       "      <td>21.359538</td>\n",
       "      <td>19.463548</td>\n",
       "      <td>18.764334</td>\n",
       "      <td>EFF_TAX_RATE</td>\n",
       "      <td>ATO UN Equity</td>\n",
       "    </tr>\n",
       "    <tr>\n",
       "      <th>ATO UN Equity.3</th>\n",
       "      <td>216960000</td>\n",
       "      <td>233155000</td>\n",
       "      <td>246093000</td>\n",
       "      <td>236928000</td>\n",
       "      <td>253987000</td>\n",
       "      <td>274796000</td>\n",
       "      <td>293096000</td>\n",
       "      <td>319633000</td>\n",
       "      <td>361083000</td>\n",
       "      <td>391456000</td>\n",
       "      <td>429828000</td>\n",
       "      <td>477977000</td>\n",
       "      <td>CF_DEPR_AMORT</td>\n",
       "      <td>ATO UN Equity</td>\n",
       "    </tr>\n",
       "    <tr>\n",
       "      <th>ATO UN Equity.4</th>\n",
       "      <td>-382406000</td>\n",
       "      <td>434242000</td>\n",
       "      <td>-591347000</td>\n",
       "      <td>152772000</td>\n",
       "      <td>160410000</td>\n",
       "      <td>-393707000</td>\n",
       "      <td>-578078000</td>\n",
       "      <td>632798000</td>\n",
       "      <td>-962481000</td>\n",
       "      <td>684869000</td>\n",
       "      <td>440266000</td>\n",
       "      <td>-360497000</td>\n",
       "      <td>CHNG_WORK_CAP</td>\n",
       "      <td>ATO UN Equity</td>\n",
       "    </tr>\n",
       "    <tr>\n",
       "      <th>ATO UN Equity.5</th>\n",
       "      <td>11.496927</td>\n",
       "      <td>14.533406</td>\n",
       "      <td>21.313411</td>\n",
       "      <td>21.744136</td>\n",
       "      <td>16.90478</td>\n",
       "      <td>23.263867</td>\n",
       "      <td>44.281298</td>\n",
       "      <td>41.202833</td>\n",
       "      <td>47.105419</td>\n",
       "      <td>58.35857</td>\n",
       "      <td>68.613329</td>\n",
       "      <td>57.800316</td>\n",
       "      <td>CAP_EXPEND_TO_SALES</td>\n",
       "      <td>ATO UN Equity</td>\n",
       "    </tr>\n",
       "    <tr>\n",
       "      <th>ATO UN Equity.6</th>\n",
       "      <td>-542636000</td>\n",
       "      <td>-622965000</td>\n",
       "      <td>-732858000</td>\n",
       "      <td>-845033000</td>\n",
       "      <td>-835251000</td>\n",
       "      <td>-963621000</td>\n",
       "      <td>-1086950000</td>\n",
       "      <td>-1137089000</td>\n",
       "      <td>-1467591000</td>\n",
       "      <td>-1693477000</td>\n",
       "      <td>-1935676000</td>\n",
       "      <td>-1969540000</td>\n",
       "      <td>NET_CAP_EXP</td>\n",
       "      <td>ATO UN Equity</td>\n",
       "    </tr>\n",
       "  </tbody>\n",
       "</table>\n",
       "</div>"
      ],
      "text/plain": [
       "dates                  2010        2011        2012        2013        2014  \\\n",
       "ATO UN Equity    4719835000  4286435000  3438483000  3886257000  4940916000   \n",
       "ATO UN Equity.1   14.706256   15.377371   20.134839    19.01076   17.513676   \n",
       "ATO UN Equity.2   38.545725   36.037948   33.821818   38.199878   39.218655   \n",
       "ATO UN Equity.3   216960000   233155000   246093000   236928000   253987000   \n",
       "ATO UN Equity.4  -382406000   434242000  -591347000   152772000   160410000   \n",
       "ATO UN Equity.5   11.496927   14.533406   21.313411   21.744136    16.90478   \n",
       "ATO UN Equity.6  -542636000  -622965000  -732858000  -845033000  -835251000   \n",
       "\n",
       "dates                  2015         2016         2017         2018  \\\n",
       "ATO UN Equity    4142136000   2454648000   2759735000   3115546000   \n",
       "ATO UN Equity.1   21.877384    38.715368    37.944911    34.954291   \n",
       "ATO UN Equity.2   38.313119    36.268499    36.647111     1.322111   \n",
       "ATO UN Equity.3   274796000    293096000    319633000    361083000   \n",
       "ATO UN Equity.4  -393707000   -578078000    632798000   -962481000   \n",
       "ATO UN Equity.5   23.263867    44.281298    41.202833    47.105419   \n",
       "ATO UN Equity.6  -963621000  -1086950000  -1137089000  -1467591000   \n",
       "\n",
       "dates                   2019         2020         2021                 DATE  \\\n",
       "ATO UN Equity     2901848000   2821137000   3407490000       SALES_REV_TURN   \n",
       "ATO UN Equity.1    39.199641    45.896885    41.829147    EBITDA_TO_REVENUE   \n",
       "ATO UN Equity.2    21.359538    19.463548    18.764334         EFF_TAX_RATE   \n",
       "ATO UN Equity.3    391456000    429828000    477977000        CF_DEPR_AMORT   \n",
       "ATO UN Equity.4    684869000    440266000   -360497000        CHNG_WORK_CAP   \n",
       "ATO UN Equity.5     58.35857    68.613329    57.800316  CAP_EXPEND_TO_SALES   \n",
       "ATO UN Equity.6  -1693477000  -1935676000  -1969540000          NET_CAP_EXP   \n",
       "\n",
       "dates             company_name  \n",
       "ATO UN Equity    ATO UN Equity  \n",
       "ATO UN Equity.1  ATO UN Equity  \n",
       "ATO UN Equity.2  ATO UN Equity  \n",
       "ATO UN Equity.3  ATO UN Equity  \n",
       "ATO UN Equity.4  ATO UN Equity  \n",
       "ATO UN Equity.5  ATO UN Equity  \n",
       "ATO UN Equity.6  ATO UN Equity  "
      ]
     },
     "execution_count": 30,
     "metadata": {},
     "output_type": "execute_result"
    }
   ],
   "source": [
    "parameters_new_t[parameters_new_t[\"company_name\"]==\"ATO UN Equity\"]"
   ]
  },
  {
   "cell_type": "code",
   "execution_count": 29,
   "id": "6b0d121b",
   "metadata": {},
   "outputs": [
    {
     "data": {
      "text/plain": [
       "['ATO UN Equity',\n",
       " 'GWW UN Equity',\n",
       " 'SWKS UW Equity',\n",
       " 'DGX UN Equity',\n",
       " 'EW UN Equity',\n",
       " 'ATVI UW Equity',\n",
       " 'HUM UN Equity',\n",
       " 'ROK UN Equity',\n",
       " 'ITW UN Equity',\n",
       " 'TT UN Equity',\n",
       " 'IPG UN Equity',\n",
       " 'WM UN Equity',\n",
       " 'J UN Equity',\n",
       " 'BR UN Equity',\n",
       " 'GPC UN Equity',\n",
       " 'GD UN Equity',\n",
       " 'KLAC UW Equity',\n",
       " 'PCAR UW Equity',\n",
       " 'AEE UN Equity',\n",
       " 'ECL UN Equity',\n",
       " 'EMR UN Equity',\n",
       " 'ODFL UW Equity',\n",
       " 'AON UN Equity',\n",
       " 'DVA UN Equity',\n",
       " 'CBRE UN Equity',\n",
       " 'MNST UW Equity',\n",
       " 'EL UN Equity',\n",
       " 'BRO UN Equity',\n",
       " 'AAPL UW Equity',\n",
       " 'AMGN UW Equity',\n",
       " 'MA UN Equity',\n",
       " 'KMB UN Equity',\n",
       " 'PM UN Equity',\n",
       " 'NDAQ UW Equity',\n",
       " 'SO UN Equity',\n",
       " 'BKNG UW Equity',\n",
       " 'MCO UN Equity',\n",
       " 'OMC UN Equity',\n",
       " 'OKE UN Equity',\n",
       " 'PWR UN Equity',\n",
       " 'PH UN Equity',\n",
       " 'ROL UN Equity',\n",
       " 'PPL UN Equity',\n",
       " 'AME UN Equity',\n",
       " 'NOC UN Equity',\n",
       " 'RSG UN Equity',\n",
       " 'ISRG UW Equity',\n",
       " 'PPG UN Equity',\n",
       " 'CTSH UW Equity',\n",
       " 'HSIC UW Equity',\n",
       " 'RHI UN Equity',\n",
       " 'WST UN Equity',\n",
       " 'FFIV UW Equity',\n",
       " 'ES UN Equity',\n",
       " 'UNH UN Equity',\n",
       " 'CHRW UW Equity',\n",
       " 'LLY UN Equity',\n",
       " 'APH UN Equity',\n",
       " 'ANTM UN Equity',\n",
       " 'IEX UN Equity',\n",
       " 'MMC UN Equity',\n",
       " 'SPGI UN Equity',\n",
       " 'AKAM UW Equity',\n",
       " 'CVS UN Equity',\n",
       " 'SYY UN Equity',\n",
       " 'GOOGL UW Equity',\n",
       " 'TDG UN Equity',\n",
       " 'YUM UN Equity',\n",
       " 'MKTX UW Equity',\n",
       " 'DOV UN Equity',\n",
       " 'ANSS UW Equity',\n",
       " 'ORLY UW Equity',\n",
       " 'BWA UN Equity',\n",
       " 'BIIB UW Equity',\n",
       " 'INTC UW Equity',\n",
       " 'CI UN Equity',\n",
       " 'HAS UW Equity',\n",
       " 'UPS UN Equity',\n",
       " 'MHK UN Equity',\n",
       " 'FISV UW Equity',\n",
       " 'PG UN Equity',\n",
       " 'CNC UN Equity',\n",
       " 'APD UN Equity',\n",
       " 'AWK UN Equity',\n",
       " 'EQIX UW Equity',\n",
       " 'AOS UN Equity',\n",
       " 'CAT UN Equity',\n",
       " 'LKQ UW Equity',\n",
       " 'KO UN Equity',\n",
       " 'FLT UN Equity',\n",
       " 'IDXX UW Equity',\n",
       " 'ROP UN Equity',\n",
       " 'MPWR UW Equity',\n",
       " 'MCD UN Equity',\n",
       " 'MRK UN Equity',\n",
       " 'MMM UN Equity',\n",
       " 'STE UN Equity',\n",
       " 'FAST UW Equity',\n",
       " 'NVR UN Equity',\n",
       " 'ALB UN Equity',\n",
       " 'IPGP UW Equity',\n",
       " 'MTD UN Equity',\n",
       " 'RMD UN Equity',\n",
       " 'TSCO UW Equity',\n",
       " 'CLX UN Equity',\n",
       " 'CMS UN Equity',\n",
       " 'WAB UN Equity',\n",
       " 'POOL UW Equity',\n",
       " 'DHR UN Equity',\n",
       " 'CMI UN Equity',\n",
       " 'EXPD UW Equity',\n",
       " 'ADM UN Equity',\n",
       " 'ADP UW Equity',\n",
       " 'VRSK UW Equity',\n",
       " 'CL UN Equity',\n",
       " 'LMT UN Equity',\n",
       " 'V UN Equity',\n",
       " 'ED UN Equity',\n",
       " 'MSCI UN Equity',\n",
       " 'WAT UN Equity']"
      ]
     },
     "execution_count": 29,
     "metadata": {},
     "output_type": "execute_result"
    }
   ],
   "source": [
    "companies_to_use"
   ]
  },
  {
   "cell_type": "code",
   "execution_count": null,
   "id": "3a42392c",
   "metadata": {},
   "outputs": [],
   "source": []
  }
 ],
 "metadata": {
  "kernelspec": {
   "display_name": "Ironhack",
   "language": "python",
   "name": "ironhack"
  },
  "language_info": {
   "codemirror_mode": {
    "name": "ipython",
    "version": 3
   },
   "file_extension": ".py",
   "mimetype": "text/x-python",
   "name": "python",
   "nbconvert_exporter": "python",
   "pygments_lexer": "ipython3",
   "version": "3.9.7"
  }
 },
 "nbformat": 4,
 "nbformat_minor": 5
}
